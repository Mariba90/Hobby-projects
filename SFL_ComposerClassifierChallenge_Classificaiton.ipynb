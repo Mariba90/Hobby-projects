{
 "cells": [
  {
   "cell_type": "markdown",
   "metadata": {},
   "source": [
    "# Classification task:\n",
    "\n",
    "In this notebook,first, I prepared the data for the classifiers, i.e., \n",
    "\n",
    "* test/train split (20/80) \n",
    "* transformed the data into standard scalar.\n",
    "* hot-one code the composer categories\n",
    "\n",
    "I have written useful functions to report the the metrics of each models, these metrics include:\n",
    "\n",
    "* F1score\n",
    "* Accuracy\n",
    "* Hammer Loss\n",
    "* Error rate for each class using confusion matrix\n",
    "* area under the Receiver operating Characteristic (ROC) curve\n",
    "\n",
    "\n",
    "I have implemented the following classifiers using Sckit-learn package:\n",
    "\n",
    "* XGBoost\n",
    "* SVM Linear : one vs one and one vs rest\n",
    "* SVM non linear (`rbf` kernel)\n",
    "* logistic regression (with cross validations)\n",
    "* Random forest\n",
    "* Multilabel KNN (with grid search)\n",
    "* MLP \n",
    "\n",
    "\n",
    "I have evaluated all these models for the 60 seconds chunks, the best model turned out to be `XGBoost`. Also, `MLP` worked better than other models but not better than `XGBoost`, not even after some hyper parameter tuning. \n",
    "Then, I tried to improve `XGBoost` using grid search on `gamma`, `tree` and `subsample`rate. Using accuracy as a measure, the model did not improve. The best parameters were `gamma`=0,`subsample=1`, which are the default values. Changing `tree` method does not change accuracy.\n",
    "\n",
    "I have calculated the time each model takes to get trained and to predict. `XGBoost` is among the fasted models. \n",
    "\n",
    "I have implemented `XGBoost` classifier on 15 and 30 seconds chunk. By decreasing the chunks duration, most classes will get higher error rate.\n",
    "Therefore, I used the `XGBoost` classifer trained on 60 seconds to predict the unseen data, which are the songs in the **PS2** folder. The implementation of predicting and mapping is at the end of this notebook. \n",
    "\n",
    "The final ***error rate for each class*** is :\n",
    "\n",
    "**Bach: 0.032**\n",
    "\n",
    "**Beethoven: 0.044**\n",
    "\n",
    "**Brahms: 0.081**\n",
    "\n",
    "**Schubert: 0.039**\n"
   ]
  },
  {
   "cell_type": "code",
   "execution_count": 329,
   "metadata": {
    "ExecuteTime": {
     "end_time": "2022-02-17T12:02:17.754557Z",
     "start_time": "2022-02-17T12:02:17.744558Z"
    }
   },
   "outputs": [],
   "source": [
    "# general libraries \n",
    "import pandas as pd\n",
    "import numpy as np\n",
    "import matplotlib.pyplot as plt\n",
    "import time\n",
    "\n",
    "import warnings\n",
    "warnings.filterwarnings('ignore')\n",
    "\n",
    "# classification\n",
    "from skmultilearn.adapt import MLkNN\n",
    "from sklearn import preprocessing\n",
    "from sklearn.model_selection import train_test_split\n",
    "from sklearn.multioutput import MultiOutputClassifier\n",
    "from sklearn.svm import LinearSVC\n",
    "from sklearn.multiclass import OneVsRestClassifier,OneVsOneClassifier\n",
    "from sklearn.svm import SVC\n",
    "from sklearn.linear_model import LogisticRegressionCV\n",
    "from sklearn.naive_bayes import MultinomialNB\n",
    "from sklearn.naive_bayes import BernoulliNB\n",
    "from sklearn.ensemble import RandomForestClassifier\n",
    "from xgboost import XGBClassifier\n",
    "from sklearn.multioutput import MultiOutputClassifier\n",
    "from sklearn.pipeline import Pipeline\n",
    "from skmultilearn.problem_transform import BinaryRelevance\n",
    "from sklearn.neural_network import MLPClassifier\n",
    "\n",
    "\n",
    "from sklearn import metrics\n",
    "from sklearn.model_selection import KFold, StratifiedKFold,GridSearchCV\n",
    "from sklearn.metrics import multilabel_confusion_matrix as mcm, classification_report, ConfusionMatrixDisplay\n"
   ]
  },
  {
   "cell_type": "code",
   "execution_count": 7,
   "metadata": {
    "ExecuteTime": {
     "end_time": "2022-02-17T03:26:52.074084Z",
     "start_time": "2022-02-17T03:26:52.069083Z"
    }
   },
   "outputs": [],
   "source": [
    "path = '....\\\\data\\\\PS1\\\\'"
   ]
  },
  {
   "cell_type": "markdown",
   "metadata": {},
   "source": [
    "# Preparing the model"
   ]
  },
  {
   "cell_type": "markdown",
   "metadata": {},
   "source": [
    "## reading the data"
   ]
  },
  {
   "cell_type": "code",
   "execution_count": 415,
   "metadata": {
    "ExecuteTime": {
     "end_time": "2022-02-17T13:48:29.042840Z",
     "start_time": "2022-02-17T13:48:28.885353Z"
    }
   },
   "outputs": [],
   "source": [
    "# reading 3 sets of data and appending them into a list\n",
    "chunks = [15,30,60]\n",
    "data_list = []\n",
    "for ch in chunks:\n",
    "    data = pd.read_csv(path+'note_chunk_cleaned_'+str(ch)+'.csv', index_col = [0])\n",
    "    # hot-one code the composer label for multilabel classification\n",
    "    data = pd.get_dummies(data, columns = ['composer_label'])\n",
    "    # no need for trackid column anymore\n",
    "    del data['trackid']\n",
    "    # append the data to the list\n",
    "    data_list.append(data)\n",
    "    "
   ]
  },
  {
   "cell_type": "code",
   "execution_count": 416,
   "metadata": {
    "ExecuteTime": {
     "end_time": "2022-02-17T13:48:29.384097Z",
     "start_time": "2022-02-17T13:48:29.369092Z"
    }
   },
   "outputs": [
    {
     "data": {
      "text/plain": [
       "(8507, 4310, 2156)"
      ]
     },
     "execution_count": 416,
     "metadata": {},
     "output_type": "execute_result"
    }
   ],
   "source": [
    "len(data_list[0]),len(data_list[1]),len(data_list[2])"
   ]
  },
  {
   "cell_type": "markdown",
   "metadata": {},
   "source": [
    "## train, test builder "
   ]
  },
  {
   "cell_type": "code",
   "execution_count": 386,
   "metadata": {
    "ExecuteTime": {
     "end_time": "2022-02-17T13:33:49.303457Z",
     "start_time": "2022-02-17T13:33:49.290456Z"
    }
   },
   "outputs": [],
   "source": [
    "# Train,Test split function\n",
    "def Xy_build(data):\n",
    "    # 4 classes of music \n",
    "    y = data [data.columns[165:]]\n",
    "    # features including 86 note repeat and 86 note duration, TPQ\n",
    "    X = data [data.columns[:165]]\n",
    "    # splitting the dataset\n",
    "    X_train, X_test, y_train, y_test = train_test_split(X, y, train_size=0.8, random_state=88)\n",
    "    scaler = preprocessing.StandardScaler().fit(X_train)\n",
    "    # transforming the data to unify the scale\n",
    "    X_train_sc = scaler.transform(X_train)\n",
    "    X_test_sc = scaler.transform(X_test)\n",
    "    return X_train_sc,y_train,X_test_sc,y_test\n"
   ]
  },
  {
   "cell_type": "markdown",
   "metadata": {},
   "source": [
    "## scores reporter"
   ]
  },
  {
   "cell_type": "code",
   "execution_count": 189,
   "metadata": {
    "ExecuteTime": {
     "end_time": "2022-02-17T09:59:32.501449Z",
     "start_time": "2022-02-17T09:59:32.477581Z"
    }
   },
   "outputs": [],
   "source": [
    "def model_score_reports(model,model_name,X,y):\n",
    "    # predicting the y using classifier\n",
    "    y_hat = model.predict(X)\n",
    "    # hammer loss metric\n",
    "    br_hamm=metrics.hamming_loss(y,y_hat)\n",
    "    # accuracy\n",
    "    accuracy = metrics.accuracy_score(y, y_hat)\n",
    "    # f1 scoro at macro and micro level\n",
    "    f1_score_micro = metrics.f1_score(y, y_hat, average='micro')\n",
    "    f1_score_macro = metrics.f1_score(y, y_hat, average='macro')\n",
    "    # printing the report\n",
    "    print(model_name+' Accuracy Score:',round(accuracy,3))\n",
    "    print(model_name+' F1-score macro:',round(f1_score_macro,3))\n",
    "    print(model_name+' F1-score micro:',round(f1_score_micro,3))\n",
    "    print(model_name+' Hamming Loss:',round(br_hamm,3))\n",
    "    print(classification_report(y, y_hat))\n",
    "    "
   ]
  },
  {
   "cell_type": "markdown",
   "metadata": {},
   "source": [
    "## area under the ROC curve reporter"
   ]
  },
  {
   "cell_type": "code",
   "execution_count": 351,
   "metadata": {
    "ExecuteTime": {
     "end_time": "2022-02-17T12:15:40.850546Z",
     "start_time": "2022-02-17T12:15:40.843546Z"
    }
   },
   "outputs": [],
   "source": [
    "### area under the Receiver operating characteristic (ROC) curve \n",
    "def roc_auc_report(model,X,y,labels=['Bach','Beethoven','Brahms','Schubert']):\n",
    "    # predicting the y using classifier\n",
    "    y_hat = model.predict(X)\n",
    "    # loop over each category\n",
    "    for i,label in enumerate(labels):\n",
    "        roc_auc_ = metrics.roc_auc_score(y.to_numpy()[:,i],y_hat[:,i])\n",
    "        print(\"ROC AUC %s: %.2f\" % (label,roc_auc_))"
   ]
  },
  {
   "cell_type": "markdown",
   "metadata": {},
   "source": [
    "## confusion matrix displayer with error rate"
   ]
  },
  {
   "cell_type": "code",
   "execution_count": 455,
   "metadata": {
    "ExecuteTime": {
     "end_time": "2022-02-17T14:06:44.220568Z",
     "start_time": "2022-02-17T14:06:44.201653Z"
    }
   },
   "outputs": [],
   "source": [
    "# error rate for each class function\n",
    "def error_rate(confusion_matrix):\n",
    "    error = 1-np.sum(np.trace(confusion_matrix))/np.sum(confusion_matrix)\n",
    "    return error\n",
    "# confusion matrix display\n",
    "def confusion_matrix_display(model,X,y,labels=['Bach','Beethoven','Brahms','Schubert']):\n",
    "    # predicting the y using classifier\n",
    "    y_hat = model.predict(X)\n",
    "    # creating confusion matrix for all labels\n",
    "    cm = mcm(y, y_hat)\n",
    "    # initializing the subplot\n",
    "    fig, axes = plt.subplots(ncols=2, nrows=2, figsize=(10, 10))\n",
    "    for i, ax in enumerate(axes.flatten()):\n",
    "        # get the error rate\n",
    "        error_r = error_rate(cm[i])\n",
    "        # get the confusion matrix plot using `ConfusionMatrixDisplay` function\n",
    "        cmd = ConfusionMatrixDisplay(cm[i], display_labels=[labels[i],'rest'])\n",
    "        cmd.plot(ax=ax)\n",
    "        cmd.ax_.set(xlabel='Predicted', ylabel='True', title='error rate ='+str(np.round(error_r,3)))\n",
    "        cmd.im_.colorbar.remove()"
   ]
  },
  {
   "cell_type": "code",
   "execution_count": 466,
   "metadata": {
    "ExecuteTime": {
     "end_time": "2022-02-17T14:41:59.066330Z",
     "start_time": "2022-02-17T14:41:59.038225Z"
    }
   },
   "outputs": [],
   "source": [
    "# bulding the data for 60 seconds chunks\n",
    "X_train_sc,y_train,X_test_sc,y_test = Xy_build(data_list[2])"
   ]
  },
  {
   "cell_type": "markdown",
   "metadata": {},
   "source": [
    "# XGBoost"
   ]
  },
  {
   "cell_type": "code",
   "execution_count": 467,
   "metadata": {
    "ExecuteTime": {
     "end_time": "2022-02-17T14:42:02.511908Z",
     "start_time": "2022-02-17T14:42:01.194908Z"
    }
   },
   "outputs": [
    {
     "name": "stdout",
     "output_type": "stream",
     "text": [
      "training time taken:  1.0 seconds\n",
      "prediction time taken:  0.0 seconds\n"
     ]
    }
   ],
   "source": [
    "# get the start time\n",
    "start=time.time()\n",
    "# creating the classifier\n",
    "XGBoost = MultiOutputClassifier(XGBClassifier(eval_metric='logloss'))\n",
    "clf = Pipeline([('classify', XGBoost)])\n",
    "# training the classifier\n",
    "clf.fit(X_train_sc, y_train)\n",
    "# training time\n",
    "print('training time taken: ',round(time.time()-start,0),'seconds')\n",
    "# get the start time\n",
    "start=time.time()\n",
    "# print(clf)\n",
    "# predicting the test set\n",
    "y_hat = clf.predict(X_test_sc)\n",
    "# predicting time \n",
    "print('prediction time taken: ',round(time.time()-start,0),'seconds')\n"
   ]
  },
  {
   "cell_type": "code",
   "execution_count": 468,
   "metadata": {
    "ExecuteTime": {
     "end_time": "2022-02-17T14:42:08.425982Z",
     "start_time": "2022-02-17T14:42:08.199983Z"
    }
   },
   "outputs": [
    {
     "data": {
      "image/png": "[encoded data removed]",
      "text/plain": [
       "<Figure size 720x720 with 4 Axes>"
      ]
     },
     "metadata": {
      "needs_background": "light"
     },
     "output_type": "display_data"
    }
   ],
   "source": [
    "confusion_matrix_display(clf,X_test_sc,y_test)"
   ]
  },
  {
   "cell_type": "code",
   "execution_count": 392,
   "metadata": {
    "ExecuteTime": {
     "end_time": "2022-02-17T13:34:52.853065Z",
     "start_time": "2022-02-17T13:34:52.822150Z"
    }
   },
   "outputs": [
    {
     "name": "stdout",
     "output_type": "stream",
     "text": [
      "XGBoost Accuracy Score: 0.87\n",
      "XGBoost F1-score macro: 0.89\n",
      "XGBoost F1-score micro: 0.902\n",
      "XGBoost Hamming Loss: 0.048\n",
      "              precision    recall  f1-score   support\n",
      "\n",
      "           0       0.85      0.81      0.83        42\n",
      "           1       0.90      0.97      0.93       141\n",
      "           2       0.92      0.84      0.88       146\n",
      "           3       0.99      0.85      0.92       103\n",
      "\n",
      "   micro avg       0.92      0.88      0.90       432\n",
      "   macro avg       0.91      0.87      0.89       432\n",
      "weighted avg       0.92      0.88      0.90       432\n",
      " samples avg       0.88      0.88      0.88       432\n",
      "\n"
     ]
    }
   ],
   "source": [
    "model_score_reports(clf,'XGBoost',X_test_sc,y_test)"
   ]
  },
  {
   "cell_type": "code",
   "execution_count": 393,
   "metadata": {
    "ExecuteTime": {
     "end_time": "2022-02-17T13:34:55.536116Z",
     "start_time": "2022-02-17T13:34:55.503193Z"
    }
   },
   "outputs": [
    {
     "name": "stdout",
     "output_type": "stream",
     "text": [
      "ROC AUC Bach: 0.90\n",
      "ROC AUC Beethoven: 0.96\n",
      "ROC AUC Brahms: 0.90\n",
      "ROC AUC Schubert: 0.93\n"
     ]
    }
   ],
   "source": [
    "# area under the ROC curve\n",
    "roc_auc_report(clf,X_test_sc,y_test)"
   ]
  },
  {
   "cell_type": "markdown",
   "metadata": {},
   "source": [
    "# OneVsRest SVM Linear"
   ]
  },
  {
   "cell_type": "code",
   "execution_count": 394,
   "metadata": {
    "ExecuteTime": {
     "end_time": "2022-02-17T13:35:06.407935Z",
     "start_time": "2022-02-17T13:35:02.727044Z"
    }
   },
   "outputs": [
    {
     "name": "stdout",
     "output_type": "stream",
     "text": [
      "training time taken:  3.0 seconds\n",
      "prediction time taken:  0.0 seconds\n",
      "SVM Linear OneVsRest Accuracy Score: 0.412\n",
      "SVM Linear OneVsRest F1-score macro: 0.468\n",
      "SVM Linear OneVsRest F1-score micro: 0.539\n",
      "SVM Linear OneVsRest Hamming Loss: 0.198\n",
      "              precision    recall  f1-score   support\n",
      "\n",
      "           0       0.43      0.14      0.21        42\n",
      "           1       0.61      0.71      0.66       141\n",
      "           2       0.69      0.34      0.45       146\n",
      "           3       0.74      0.44      0.55       103\n",
      "\n",
      "   micro avg       0.65      0.46      0.54       432\n",
      "   macro avg       0.62      0.41      0.47       432\n",
      "weighted avg       0.65      0.46      0.52       432\n",
      " samples avg       0.44      0.46      0.45       432\n",
      "\n"
     ]
    }
   ],
   "source": [
    "# get the start time\n",
    "start=time.time()\n",
    "# Create the SVM Linear class OneVsRest\n",
    "OVR_SVM = OneVsRestClassifier(SVC(kernel=\"linear\"))\n",
    "# Fit the data to the classifier\n",
    "OVR_SVM.fit(X_train_sc, y_train)\n",
    "# training time\n",
    "print('training time taken: ',round(time.time()-start,0),'seconds')\n",
    "# get the start time\n",
    "start=time.time()\n",
    "# predict\n",
    "y_hat = OVR_SVM.predict(X_test_sc)\n",
    "# predicting time \n",
    "print('prediction time taken: ',round(time.time()-start,0),'seconds')\n",
    "# report\n",
    "model_score_reports(OVR_SVM,'SVM Linear OneVsRest',X_test_sc,y_test)"
   ]
  },
  {
   "cell_type": "markdown",
   "metadata": {},
   "source": [
    "# OneVsOne SVM Linear"
   ]
  },
  {
   "cell_type": "code",
   "execution_count": 395,
   "metadata": {
    "ExecuteTime": {
     "end_time": "2022-02-17T13:35:25.258832Z",
     "start_time": "2022-02-17T13:35:21.293532Z"
    },
    "scrolled": true
   },
   "outputs": [
    {
     "name": "stdout",
     "output_type": "stream",
     "text": [
      "training time taken:  0.0 seconds\n",
      "prediction time taken:  0.0 seconds\n",
      "report scores for Bach class:\n",
      "SVM Linear OneVsOne Accuracy Score: 0.898\n",
      "SVM Linear OneVsOne F1-score macro: 0.58\n",
      "SVM Linear OneVsOne F1-score micro: 0.898\n",
      "SVM Linear OneVsOne Hamming Loss: 0.102\n",
      "              precision    recall  f1-score   support\n",
      "\n",
      "           0       0.91      0.98      0.95       390\n",
      "           1       0.43      0.14      0.21        42\n",
      "\n",
      "    accuracy                           0.90       432\n",
      "   macro avg       0.67      0.56      0.58       432\n",
      "weighted avg       0.87      0.90      0.87       432\n",
      "\n",
      "training time taken:  1.0 seconds\n",
      "prediction time taken:  0.0 seconds\n",
      "report scores for Beethoven class:\n",
      "SVM Linear OneVsOne Accuracy Score: 0.757\n",
      "SVM Linear OneVsOne F1-score macro: 0.734\n",
      "SVM Linear OneVsOne F1-score micro: 0.757\n",
      "SVM Linear OneVsOne Hamming Loss: 0.243\n",
      "              precision    recall  f1-score   support\n",
      "\n",
      "           0       0.85      0.78      0.81       291\n",
      "           1       0.61      0.71      0.66       141\n",
      "\n",
      "    accuracy                           0.76       432\n",
      "   macro avg       0.73      0.74      0.73       432\n",
      "weighted avg       0.77      0.76      0.76       432\n",
      "\n",
      "training time taken:  1.0 seconds\n",
      "prediction time taken:  0.0 seconds\n",
      "report scores for Brahms class:\n",
      "SVM Linear OneVsOne Accuracy Score: 0.725\n",
      "SVM Linear OneVsOne F1-score macro: 0.634\n",
      "SVM Linear OneVsOne F1-score micro: 0.725\n",
      "SVM Linear OneVsOne Hamming Loss: 0.275\n",
      "              precision    recall  f1-score   support\n",
      "\n",
      "           0       0.73      0.92      0.82       286\n",
      "           1       0.69      0.34      0.45       146\n",
      "\n",
      "    accuracy                           0.72       432\n",
      "   macro avg       0.71      0.63      0.63       432\n",
      "weighted avg       0.72      0.72      0.69       432\n",
      "\n",
      "training time taken:  1.0 seconds\n",
      "prediction time taken:  0.0 seconds\n",
      "report scores for Schubert class:\n",
      "SVM Linear OneVsOne Accuracy Score: 0.829\n",
      "SVM Linear OneVsOne F1-score macro: 0.722\n",
      "SVM Linear OneVsOne F1-score micro: 0.829\n",
      "SVM Linear OneVsOne Hamming Loss: 0.171\n",
      "              precision    recall  f1-score   support\n",
      "\n",
      "           0       0.84      0.95      0.89       329\n",
      "           1       0.74      0.44      0.55       103\n",
      "\n",
      "    accuracy                           0.83       432\n",
      "   macro avg       0.79      0.69      0.72       432\n",
      "weighted avg       0.82      0.83      0.81       432\n",
      "\n"
     ]
    }
   ],
   "source": [
    "# get the start time\n",
    "start=time.time()\n",
    "classes = ['Bach','Beethoven','Brahms','Schubert']\n",
    "#loop over classes\n",
    "for i,label in enumerate(classes):\n",
    "    # Create the SVM Linear class OneVsOne\n",
    "    OVO_SVM = OneVsOneClassifier(SVC(kernel=\"linear\"))\n",
    "    # fit the training data to classifier\n",
    "    OVO_SVM.fit(X_train_sc, y_train.to_numpy()[:,i])\n",
    "    # training time\n",
    "    print('training time taken: ',round(time.time()-start,0),'seconds')\n",
    "    # get the start time\n",
    "    start=time.time()\n",
    "    # predict on test set\n",
    "    y_hat = OVO_SVM.predict(X_test_sc)\n",
    "    # predicting time \n",
    "    print('prediction time taken: ',round(time.time()-start,0),'seconds')\n",
    "    # report on each class\n",
    "    print('report scores for '+label+' class:')\n",
    "    model_score_reports(OVO_SVM,'SVM Linear OneVsOne',X_test_sc,y_test.to_numpy()[:,i])\n"
   ]
  },
  {
   "cell_type": "markdown",
   "metadata": {},
   "source": [
    "# SVM non-linear "
   ]
  },
  {
   "cell_type": "code",
   "execution_count": 396,
   "metadata": {
    "ExecuteTime": {
     "end_time": "2022-02-17T13:35:30.127529Z",
     "start_time": "2022-02-17T13:35:27.797132Z"
    }
   },
   "outputs": [
    {
     "name": "stdout",
     "output_type": "stream",
     "text": [
      "prediction time taken:  1.0 seconds\n",
      "prediction time taken:  1.0 seconds\n",
      "SVM non linear Accuracy Score: 0.438\n",
      "SVM non linear F1-score macro: 0.448\n",
      "SVM non linear F1-score micro: 0.565\n",
      "SVM non linear Hamming Loss: 0.171\n",
      "              precision    recall  f1-score   support\n",
      "\n",
      "           0       1.00      0.05      0.09        42\n",
      "           1       0.69      0.71      0.70       141\n",
      "           2       0.86      0.41      0.56       146\n",
      "           3       0.94      0.29      0.44       103\n",
      "\n",
      "   micro avg       0.77      0.44      0.56       432\n",
      "   macro avg       0.87      0.36      0.45       432\n",
      "weighted avg       0.84      0.44      0.53       432\n",
      " samples avg       0.44      0.44      0.44       432\n",
      "\n"
     ]
    }
   ],
   "source": [
    "# get the start time\n",
    "start=time.time()\n",
    "# creating the SVM with non-linear kernel\n",
    "classif = SVC(kernel='rbf',gamma='auto')\n",
    "SVM_nonlineaer = MultiOutputClassifier(classif, n_jobs=-1)\n",
    "# training the classifier\n",
    "SVM_nonlineaer.fit(X_train_sc, y_train)\n",
    "# training time\n",
    "print('prediction time taken: ',round(time.time()-start,0),'seconds')\n",
    "# get the start time\n",
    "start=time.time()\n",
    "y_hat = SVM_nonlineaer.predict(X_test_sc)\n",
    "# predicting time \n",
    "print('prediction time taken: ',round(time.time()-start,0),'seconds')\n",
    "model_score_reports(SVM_nonlineaer,'SVM non linear',X_test_sc,y_test)\n"
   ]
  },
  {
   "cell_type": "markdown",
   "metadata": {},
   "source": [
    "# Logistic Regression with Cross Validation"
   ]
  },
  {
   "cell_type": "code",
   "execution_count": 397,
   "metadata": {
    "ExecuteTime": {
     "end_time": "2022-02-17T13:35:34.156003Z",
     "start_time": "2022-02-17T13:35:32.569052Z"
    }
   },
   "outputs": [
    {
     "name": "stdout",
     "output_type": "stream",
     "text": [
      "prediction time taken:  2.0 seconds\n",
      "prediction time taken:  0.0 seconds\n",
      "Logistic Regression Accuracy Score: 0.375\n",
      "Logistic Regression F1-score macro: 0.455\n",
      "Logistic Regression F1-score micro: 0.52\n",
      "Logistic Regression Hamming Loss: 0.204\n",
      "              precision    recall  f1-score   support\n",
      "\n",
      "           0       0.50      0.14      0.22        42\n",
      "           1       0.57      0.66      0.61       141\n",
      "           2       0.75      0.29      0.42       146\n",
      "           3       0.68      0.48      0.56       103\n",
      "\n",
      "   micro avg       0.63      0.44      0.52       432\n",
      "   macro avg       0.63      0.39      0.45       432\n",
      "weighted avg       0.65      0.44      0.50       432\n",
      " samples avg       0.41      0.44      0.42       432\n",
      "\n"
     ]
    }
   ],
   "source": [
    "# get the start time\n",
    "start=time.time()\n",
    "# creating the logistic regression with 5 fold for multilabel classificatio\n",
    "LogReg = LogisticRegressionCV(cv=5,multi_class ='ovr', random_state=42)\n",
    "LogReg_multi = MultiOutputClassifier(LogReg, n_jobs=-1)\n",
    "# training the data with the classifier\n",
    "LogReg_multi.fit(X_train_sc, y_train)\n",
    "# training time\n",
    "print('prediction time taken: ',round(time.time()-start,0),'seconds')\n",
    "# get the start time\n",
    "start=time.time()\n",
    "# predicting the test data\n",
    "y_hat = LogReg_multi.predict(X_test_sc)\n",
    "# predicting time \n",
    "print('prediction time taken: ',round(time.time()-start,0),'seconds')\n",
    "# report\n",
    "model_score_reports(LogReg_multi,'Logistic Regression',X_test_sc,y_test)"
   ]
  },
  {
   "cell_type": "markdown",
   "metadata": {},
   "source": [
    "# Random Forest"
   ]
  },
  {
   "cell_type": "code",
   "execution_count": 400,
   "metadata": {
    "ExecuteTime": {
     "end_time": "2022-02-17T13:35:57.910192Z",
     "start_time": "2022-02-17T13:35:54.552161Z"
    }
   },
   "outputs": [
    {
     "name": "stdout",
     "output_type": "stream",
     "text": [
      "training time taken:  3.0 seconds\n",
      "prediction time taken:  0.0 seconds\n",
      "Random Foreset Accuracy Score: 0.692\n",
      "Random Foreset F1-score macro: 0.757\n",
      "Random Foreset F1-score micro: 0.794\n",
      "Random Foreset Hamming Loss: 0.09\n",
      "              precision    recall  f1-score   support\n",
      "\n",
      "           0       0.91      0.48      0.62        42\n",
      "           1       0.90      0.85      0.87       141\n",
      "           2       0.92      0.66      0.77       146\n",
      "           3       1.00      0.61      0.76       103\n",
      "\n",
      "   micro avg       0.93      0.69      0.79       432\n",
      "   macro avg       0.93      0.65      0.76       432\n",
      "weighted avg       0.93      0.69      0.79       432\n",
      " samples avg       0.69      0.69      0.69       432\n",
      "\n"
     ]
    }
   ],
   "source": [
    "# get the start time\n",
    "start=time.time()\n",
    "# creating the random foreset classfier\n",
    "RandomForest = BinaryRelevance(\n",
    "    classifier = RandomForestClassifier(),\n",
    "    require_dense = [False, True]\n",
    ")\n",
    "# training the data with the classifier\n",
    "RandomForest.fit(X_train_sc, y_train)\n",
    "# training time\n",
    "print('training time taken: ',round(time.time()-start,0),'seconds')\n",
    "# get the start time\n",
    "start=time.time()\n",
    "# predicting on the test set\n",
    "y_hat=RandomForest.predict(X_test_sc)\n",
    "# predicting time\n",
    "print('prediction time taken: ',round(time.time()-start,0),'seconds')\n",
    "# report\n",
    "model_score_reports(RandomForest,'Random Foreset',X_test_sc,y_test)"
   ]
  },
  {
   "cell_type": "markdown",
   "metadata": {},
   "source": [
    "# MultiLabel KNN with Grid Search"
   ]
  },
  {
   "cell_type": "code",
   "execution_count": 404,
   "metadata": {
    "ExecuteTime": {
     "end_time": "2022-02-17T13:38:00.760572Z",
     "start_time": "2022-02-17T13:37:16.615151Z"
    },
    "scrolled": true
   },
   "outputs": [
    {
     "name": "stdout",
     "output_type": "stream",
     "text": [
      "training time taken:  44.0 seconds\n",
      "best parameters : {'k': 1, 's': 0.2} best score:  0.5881563869228177\n"
     ]
    }
   ],
   "source": [
    "# Grid search parameters\n",
    "parameters = {'k': range(1,4), 's': [0.2,0.5, 0.7, 1.0]}\n",
    "# evaluation metric\n",
    "score = 'f1_micro'\n",
    "# get the start time\n",
    "start=time.time()\n",
    "# creating the classifier\n",
    "classifier = GridSearchCV(MLkNN(), parameters, scoring=score)\n",
    "# training data with the classifier\n",
    "classifier.fit(X_train.to_numpy(), y_train.to_numpy())\n",
    "# training time\n",
    "print('training time taken: ',round(time.time()-start,0),'seconds')\n",
    "print('best parameters :', classifier.best_params_, 'best score: ',\n",
    "      classifier.best_score_)"
   ]
  },
  {
   "cell_type": "markdown",
   "metadata": {},
   "source": [
    "# MLP classifier"
   ]
  },
  {
   "cell_type": "code",
   "execution_count": 405,
   "metadata": {
    "ExecuteTime": {
     "end_time": "2022-02-17T13:38:07.886689Z",
     "start_time": "2022-02-17T13:38:00.904791Z"
    }
   },
   "outputs": [
    {
     "name": "stdout",
     "output_type": "stream",
     "text": [
      "training time taken:  7.0 seconds\n",
      "prediction time taken:  0.0 seconds\n",
      "Logistic Regression Accuracy Score: 0.655\n",
      "Logistic Regression F1-score macro: 0.735\n",
      "Logistic Regression F1-score micro: 0.756\n",
      "Logistic Regression Hamming Loss: 0.12\n",
      "              precision    recall  f1-score   support\n",
      "\n",
      "           0       0.65      0.67      0.66        42\n",
      "           1       0.75      0.84      0.80       141\n",
      "           2       0.81      0.73      0.77       146\n",
      "           3       0.81      0.65      0.72       103\n",
      "\n",
      "   micro avg       0.77      0.74      0.76       432\n",
      "   macro avg       0.76      0.72      0.74       432\n",
      "weighted avg       0.78      0.74      0.75       432\n",
      " samples avg       0.70      0.74      0.71       432\n",
      "\n"
     ]
    }
   ],
   "source": [
    "# get the time \n",
    "start=time.time()\n",
    "# creat the MLP classifier\n",
    "MLP = MLPClassifier(learning_rate='constant',random_state=42, max_iter=1000)\n",
    "MLP_multi = MultiOutputClassifier(MLP, n_jobs=-1)\n",
    "# training the data with the classifier\n",
    "MLP_multi.fit(X_train_sc, y_train)\n",
    "# training time\n",
    "print('training time taken: ',round(time.time()-start,0),'seconds')\n",
    "# get the time \n",
    "start=time.time()\n",
    "# predicting the test data\n",
    "y_hat = MLP_multi.predict(X_test_sc)\n",
    "# predicting time \n",
    "print('prediction time taken: ',round(time.time()-start,0),'seconds')\n",
    "# report\n",
    "model_score_reports(MLP_multi,'Logistic Regression',X_test_sc,y_test)"
   ]
  },
  {
   "cell_type": "code",
   "execution_count": 406,
   "metadata": {
    "ExecuteTime": {
     "end_time": "2022-02-17T13:38:08.121658Z",
     "start_time": "2022-02-17T13:38:08.108661Z"
    }
   },
   "outputs": [
    {
     "name": "stdout",
     "output_type": "stream",
     "text": [
      "ROC AUC Bach: 0.81\n",
      "ROC AUC Beethoven: 0.85\n",
      "ROC AUC Brahms: 0.82\n",
      "ROC AUC Schubert: 0.80\n"
     ]
    }
   ],
   "source": [
    "labels = ['Bach','Beethoven','Brahms','Schubert']\n",
    "# loop over each category\n",
    "for i,label in enumerate(labels):\n",
    "    roc_auc_ = metrics.roc_auc_score(y_test.to_numpy()[:,i],y_hat[:,i])\n",
    "    print(\"ROC AUC %s: %.2f\" % (label,roc_auc_))"
   ]
  },
  {
   "cell_type": "markdown",
   "metadata": {},
   "source": [
    "# XGBoost hyperparametr tuning"
   ]
  },
  {
   "cell_type": "code",
   "execution_count": 407,
   "metadata": {
    "ExecuteTime": {
     "end_time": "2022-02-17T13:39:07.073423Z",
     "start_time": "2022-02-17T13:38:08.328486Z"
    }
   },
   "outputs": [
    {
     "name": "stdout",
     "output_type": "stream",
     "text": [
      "gamma =  0\n",
      "gamma =  5\n",
      "gamma =  50\n",
      "training time taken:  59.0 seconds\n"
     ]
    }
   ],
   "source": [
    "# get the time\n",
    "start = time.time()\n",
    "# making grid for gamma and subsample values\n",
    "arrays = [[0, 0, 0,\n",
    "           5, 5, 5,\n",
    "           50, 50, 50],\n",
    "          [.33, .67, 1,\n",
    "           .33, .67, 1,\n",
    "           .33, .67, 1]]\n",
    "XGBdf = pd.DataFrame(index = arrays,\n",
    "                     columns = [\"exact\", \"approx\", \"hist\"],\n",
    "                     dtype = \"float\")\n",
    "\n",
    "# Iterate through every gamma\n",
    "for gamma in [0, 5, 50]:\n",
    "    print(\"gamma = \", gamma)\n",
    "    # Iterate through every subsample size\n",
    "    for subsample in [.33, .67, 1]:\n",
    "        # Then iterate through each tree method\n",
    "        for method in list(XGBdf.columns):\n",
    "            alr_xgboost = MultiOutputClassifier(XGBClassifier(max_depth = 5,\n",
    "                                            gamma = gamma,\n",
    "                                            subsample = subsample,\n",
    "                                            tree_method = method, eval_metric='logloss'))\n",
    "            alr_xgboost.fit(X_train_sc, y_train)\n",
    "            yhat= alr_xgboost.predict(X_test_sc)\n",
    "            accuracy = metrics.accuracy_score(y_test, yhat) * 100\n",
    "            XGBdf.loc[(gamma,  subsample), method] = accuracy\n",
    "# training time\n",
    "print('training time taken: ',round(time.time()-start,0),'seconds')"
   ]
  },
  {
   "cell_type": "code",
   "execution_count": 408,
   "metadata": {
    "ExecuteTime": {
     "end_time": "2022-02-17T13:39:07.326423Z",
     "start_time": "2022-02-17T13:39:07.311422Z"
    }
   },
   "outputs": [
    {
     "data": {
      "text/html": [
       "<div>\n",
       "<style scoped>\n",
       "    .dataframe tbody tr th:only-of-type {\n",
       "        vertical-align: middle;\n",
       "    }\n",
       "\n",
       "    .dataframe tbody tr th {\n",
       "        vertical-align: top;\n",
       "    }\n",
       "\n",
       "    .dataframe thead th {\n",
       "        text-align: right;\n",
       "    }\n",
       "</style>\n",
       "<table border=\"1\" class=\"dataframe\">\n",
       "  <thead>\n",
       "    <tr style=\"text-align: right;\">\n",
       "      <th></th>\n",
       "      <th></th>\n",
       "      <th>exact</th>\n",
       "      <th>approx</th>\n",
       "      <th>hist</th>\n",
       "    </tr>\n",
       "  </thead>\n",
       "  <tbody>\n",
       "    <tr>\n",
       "      <th rowspan=\"3\" valign=\"top\">0</th>\n",
       "      <th>0.33</th>\n",
       "      <td>81.944444</td>\n",
       "      <td>81.944444</td>\n",
       "      <td>82.175926</td>\n",
       "    </tr>\n",
       "    <tr>\n",
       "      <th>0.67</th>\n",
       "      <td>84.722222</td>\n",
       "      <td>83.796296</td>\n",
       "      <td>83.101852</td>\n",
       "    </tr>\n",
       "    <tr>\n",
       "      <th>1.00</th>\n",
       "      <td>85.879630</td>\n",
       "      <td>86.342593</td>\n",
       "      <td>86.342593</td>\n",
       "    </tr>\n",
       "    <tr>\n",
       "      <th rowspan=\"3\" valign=\"top\">5</th>\n",
       "      <th>0.33</th>\n",
       "      <td>80.092593</td>\n",
       "      <td>80.092593</td>\n",
       "      <td>81.018519</td>\n",
       "    </tr>\n",
       "    <tr>\n",
       "      <th>0.67</th>\n",
       "      <td>82.870370</td>\n",
       "      <td>82.407407</td>\n",
       "      <td>84.259259</td>\n",
       "    </tr>\n",
       "    <tr>\n",
       "      <th>1.00</th>\n",
       "      <td>82.407407</td>\n",
       "      <td>83.796296</td>\n",
       "      <td>81.481481</td>\n",
       "    </tr>\n",
       "    <tr>\n",
       "      <th rowspan=\"3\" valign=\"top\">50</th>\n",
       "      <th>0.33</th>\n",
       "      <td>59.027778</td>\n",
       "      <td>58.101852</td>\n",
       "      <td>59.027778</td>\n",
       "    </tr>\n",
       "    <tr>\n",
       "      <th>0.67</th>\n",
       "      <td>61.111111</td>\n",
       "      <td>63.888889</td>\n",
       "      <td>63.425926</td>\n",
       "    </tr>\n",
       "    <tr>\n",
       "      <th>1.00</th>\n",
       "      <td>64.583333</td>\n",
       "      <td>64.583333</td>\n",
       "      <td>64.351852</td>\n",
       "    </tr>\n",
       "  </tbody>\n",
       "</table>\n",
       "</div>"
      ],
      "text/plain": [
       "             exact     approx       hist\n",
       "0  0.33  81.944444  81.944444  82.175926\n",
       "   0.67  84.722222  83.796296  83.101852\n",
       "   1.00  85.879630  86.342593  86.342593\n",
       "5  0.33  80.092593  80.092593  81.018519\n",
       "   0.67  82.870370  82.407407  84.259259\n",
       "   1.00  82.407407  83.796296  81.481481\n",
       "50 0.33  59.027778  58.101852  59.027778\n",
       "   0.67  61.111111  63.888889  63.425926\n",
       "   1.00  64.583333  64.583333  64.351852"
      ]
     },
     "metadata": {},
     "output_type": "display_data"
    }
   ],
   "source": [
    "display(XGBdf)"
   ]
  },
  {
   "cell_type": "markdown",
   "metadata": {},
   "source": [
    "# XGBoost for 30 and 15 seconds chunk"
   ]
  },
  {
   "cell_type": "code",
   "execution_count": 457,
   "metadata": {
    "ExecuteTime": {
     "end_time": "2022-02-17T14:16:16.211469Z",
     "start_time": "2022-02-17T14:16:14.061474Z"
    }
   },
   "outputs": [
    {
     "name": "stdout",
     "output_type": "stream",
     "text": [
      "training time taken:  2.0 seconds\n",
      "prediction time taken:  0.0 seconds\n",
      "ROC AUC Bach: 0.92\n",
      "ROC AUC Beethoven: 0.93\n",
      "ROC AUC Brahms: 0.90\n",
      "ROC AUC Schubert: 0.93\n"
     ]
    }
   ],
   "source": [
    "# 30 seconds \n",
    "# bulding the data for 30 seconds chunks\n",
    "X_train_sc,y_train,X_test_sc,y_test = Xy_build(data_list[1])\n",
    "# get the start time\n",
    "start=time.time()\n",
    "# creating the classifier\n",
    "XGBoost = MultiOutputClassifier(XGBClassifier(eval_metric='logloss'))\n",
    "clf = Pipeline([('classify', XGBoost)])\n",
    "# training the classifier\n",
    "clf.fit(X_train_sc, y_train)\n",
    "# training time\n",
    "print('training time taken: ',round(time.time()-start,0),'seconds')\n",
    "# get the start time\n",
    "start=time.time()\n",
    "# print(clf)\n",
    "# predicting the test set\n",
    "y_hat = clf.predict(X_test_sc)\n",
    "# predicting time \n",
    "print('prediction time taken: ',round(time.time()-start,0),'seconds')\n",
    "# area under the ROC curve\n",
    "roc_auc_report(clf,X_test_sc,y_test)"
   ]
  },
  {
   "cell_type": "code",
   "execution_count": 458,
   "metadata": {
    "ExecuteTime": {
     "end_time": "2022-02-17T14:16:16.400228Z",
     "start_time": "2022-02-17T14:16:16.370226Z"
    }
   },
   "outputs": [
    {
     "name": "stdout",
     "output_type": "stream",
     "text": [
      "XGBoost Accuracy Score: 0.858\n",
      "XGBoost F1-score macro: 0.895\n",
      "XGBoost F1-score micro: 0.895\n",
      "XGBoost Hamming Loss: 0.052\n",
      "              precision    recall  f1-score   support\n",
      "\n",
      "           0       0.94      0.85      0.89        93\n",
      "           1       0.89      0.93      0.91       312\n",
      "           2       0.89      0.85      0.87       281\n",
      "           3       0.93      0.88      0.91       176\n",
      "\n",
      "   micro avg       0.91      0.89      0.90       862\n",
      "   macro avg       0.91      0.88      0.89       862\n",
      "weighted avg       0.91      0.89      0.89       862\n",
      " samples avg       0.87      0.89      0.88       862\n",
      "\n"
     ]
    }
   ],
   "source": [
    "model_score_reports(clf,'XGBoost',X_test_sc,y_test)"
   ]
  },
  {
   "cell_type": "code",
   "execution_count": 459,
   "metadata": {
    "ExecuteTime": {
     "end_time": "2022-02-17T14:16:39.287869Z",
     "start_time": "2022-02-17T14:16:39.059908Z"
    }
   },
   "outputs": [
    {
     "data": {
      "image/png": "[encoded data removed]",
      "text/plain": [
       "<Figure size 720x720 with 4 Axes>"
      ]
     },
     "metadata": {
      "needs_background": "light"
     },
     "output_type": "display_data"
    }
   ],
   "source": [
    "confusion_matrix_display(clf,X_test_sc,y_test)"
   ]
  },
  {
   "cell_type": "code",
   "execution_count": 460,
   "metadata": {
    "ExecuteTime": {
     "end_time": "2022-02-17T14:18:03.116830Z",
     "start_time": "2022-02-17T14:17:59.446873Z"
    }
   },
   "outputs": [
    {
     "name": "stdout",
     "output_type": "stream",
     "text": [
      "training time taken:  4.0 seconds\n",
      "prediction time taken:  0.0 seconds\n",
      "ROC AUC Bach: 0.90\n",
      "ROC AUC Beethoven: 0.92\n",
      "ROC AUC Brahms: 0.88\n",
      "ROC AUC Schubert: 0.92\n"
     ]
    }
   ],
   "source": [
    "# 15 seconds \n",
    "# bulding the data for 30 seconds chunks\n",
    "X_train_sc,y_train,X_test_sc,y_test = Xy_build(data_list[0])\n",
    "# get the start time\n",
    "start=time.time()\n",
    "# creating the classifier\n",
    "XGBoost = MultiOutputClassifier(XGBClassifier(eval_metric='logloss'))\n",
    "clf = Pipeline([('classify', XGBoost)])\n",
    "# training the classifier\n",
    "clf.fit(X_train_sc, y_train)\n",
    "# training time\n",
    "print('training time taken: ',round(time.time()-start,0),'seconds')\n",
    "# get the start time\n",
    "start=time.time()\n",
    "# print(clf)\n",
    "# predicting the test set\n",
    "y_hat = clf.predict(X_test_sc)\n",
    "# predicting time \n",
    "print('prediction time taken: ',round(time.time()-start,0),'seconds')\n",
    "# area under the ROC curve\n",
    "roc_auc_report(clf,X_test_sc,y_test)"
   ]
  },
  {
   "cell_type": "code",
   "execution_count": 461,
   "metadata": {
    "ExecuteTime": {
     "end_time": "2022-02-17T14:18:03.321964Z",
     "start_time": "2022-02-17T14:18:03.276056Z"
    }
   },
   "outputs": [
    {
     "name": "stdout",
     "output_type": "stream",
     "text": [
      "XGBoost Accuracy Score: 0.834\n",
      "XGBoost F1-score macro: 0.873\n",
      "XGBoost F1-score micro: 0.873\n",
      "XGBoost Hamming Loss: 0.062\n",
      "              precision    recall  f1-score   support\n",
      "\n",
      "           0       0.91      0.81      0.86       156\n",
      "           1       0.86      0.91      0.88       585\n",
      "           2       0.89      0.81      0.85       584\n",
      "           3       0.95      0.86      0.91       377\n",
      "\n",
      "   micro avg       0.89      0.86      0.87      1702\n",
      "   macro avg       0.90      0.85      0.87      1702\n",
      "weighted avg       0.89      0.86      0.87      1702\n",
      " samples avg       0.84      0.86      0.85      1702\n",
      "\n"
     ]
    }
   ],
   "source": [
    "model_score_reports(clf,'XGBoost',X_test_sc,y_test)"
   ]
  },
  {
   "cell_type": "code",
   "execution_count": 462,
   "metadata": {
    "ExecuteTime": {
     "end_time": "2022-02-17T14:18:10.887134Z",
     "start_time": "2022-02-17T14:18:10.636921Z"
    }
   },
   "outputs": [
    {
     "data": {
      "image/png": "[encoded data removed]",
      "text/plain": [
       "<Figure size 720x720 with 4 Axes>"
      ]
     },
     "metadata": {
      "needs_background": "light"
     },
     "output_type": "display_data"
    }
   ],
   "source": [
    "confusion_matrix_display(clf,X_test_sc,y_test)"
   ]
  },
  {
   "cell_type": "markdown",
   "metadata": {},
   "source": [
    "# PS2: reading Unseen Data \n",
    "only chunk 60 since we got a lower error rate\n",
    "\n",
    "\n"
   ]
  },
  {
   "cell_type": "code",
   "execution_count": 501,
   "metadata": {
    "ExecuteTime": {
     "end_time": "2022-02-17T15:17:31.467120Z",
     "start_time": "2022-02-17T15:17:31.401117Z"
    }
   },
   "outputs": [],
   "source": [
    "path = \"....\\data\\\\\"\n",
    "data = pd.read_csv(path+'note_chunk_cleaned_test_60.csv', index_col = [0])\n",
    "# we need trackid for mapping the file number into the predicted category later\n",
    "# del data['trackid']\n",
    "# append the data to the list    "
   ]
  },
  {
   "cell_type": "code",
   "execution_count": 521,
   "metadata": {
    "ExecuteTime": {
     "end_time": "2022-02-17T15:36:27.958059Z",
     "start_time": "2022-02-17T15:36:27.945061Z"
    }
   },
   "outputs": [],
   "source": [
    "# we need file names for mapping\n",
    "file_names = ['0.002716920481628_adj.mid',\n",
    " '0.033313986422223163_adj.mid',\n",
    " '0.047574444458241216_adj.mid',\n",
    " '0.06402123326764841_adj.mid',\n",
    " '0.07186746659481313_adj.mid',\n",
    " '0.09167358800381353_adj.mid',\n",
    " '0.10222964826466285_adj.mid',\n",
    " '0.10250888365879718_adj.mid',\n",
    " '0.10630249969742178_adj.mid',\n",
    " '0.1755252422917658_adj.mid',\n",
    " '0.1960551158929671_adj.mid',\n",
    " '0.21198476749665085_adj.mid',\n",
    " '0.21901852969811753_adj.mid',\n",
    " '0.22047111832936944_adj.mid',\n",
    " '0.23120017256495873_adj.mid',\n",
    " '0.26551079719260606_adj.mid',\n",
    " '0.30993012400290976_adj.mid',\n",
    " '0.3264565808984162_adj.mid',\n",
    " '0.3334293069825759_adj.mid',\n",
    " '0.33695573887576447_adj.mid',\n",
    " '0.337517805339117_adj.mid',\n",
    " '0.3559970176888735_adj.mid',\n",
    " '0.3620067189216978_adj.mid',\n",
    " '0.36321860283443286_adj.mid',\n",
    " '0.48367685897240176_adj.mid',\n",
    " '0.539512676743813_adj.mid',\n",
    " '0.549470161204349_adj.mid',\n",
    " '0.5807329043589801_adj.mid',\n",
    " '0.647959423719129_adj.mid',\n",
    " '0.7491289879531658_adj.mid',\n",
    " '0.8014751784512073_adj.mid',\n",
    " '0.905499891236923_adj.mid',\n",
    " '0.9353908329958764_adj.mid',\n",
    " '0.9511403301279795_adj.mid',\n",
    " '0.981087291054314_adj.mid']"
   ]
  },
  {
   "cell_type": "markdown",
   "metadata": {},
   "source": [
    "# predicting the unseen daat"
   ]
  },
  {
   "cell_type": "code",
   "execution_count": 502,
   "metadata": {
    "ExecuteTime": {
     "end_time": "2022-02-17T15:17:33.984832Z",
     "start_time": "2022-02-17T15:17:33.969832Z"
    }
   },
   "outputs": [],
   "source": [
    "# preparing the features\n",
    "prediction_features = list(data.columns[:164])+['TPQ']\n",
    "len(prediction_features)\n",
    "# preparing the data : standard scalar\n",
    "X_unseen_sc = scaler.transform(data[prediction_features])"
   ]
  },
  {
   "cell_type": "code",
   "execution_count": 486,
   "metadata": {
    "ExecuteTime": {
     "end_time": "2022-02-17T15:04:47.069636Z",
     "start_time": "2022-02-17T15:04:47.044719Z"
    }
   },
   "outputs": [],
   "source": [
    "# predicting using the first XGBboost model\n",
    "y_hat = clf.predict(X_unseen_sc)"
   ]
  },
  {
   "cell_type": "markdown",
   "metadata": {},
   "source": [
    "# mapping the predictions into the original file"
   ]
  },
  {
   "cell_type": "code",
   "execution_count": 510,
   "metadata": {
    "ExecuteTime": {
     "end_time": "2022-02-17T15:22:07.436081Z",
     "start_time": "2022-02-17T15:22:07.323664Z"
    }
   },
   "outputs": [
    {
     "name": "stdout",
     "output_type": "stream",
     "text": [
      "Bach\n",
      "Brahms\n",
      "Schubert\n",
      "Schubert\n",
      "Schubert\n",
      "Schubert\n",
      "Schubert\n",
      "Schubert\n",
      "Schubert\n",
      "Schubert\n",
      "Schubert\n",
      "Schubert\n",
      "Schubert\n",
      "Schubert\n",
      "Schubert\n",
      "Schubert\n",
      "Schubert\n",
      "Schubert\n",
      "Schubert\n",
      "Schubert\n",
      "Schubert\n",
      "Schubert\n",
      "Schubert\n",
      "Schubert\n",
      "Schubert\n",
      "Schubert\n",
      "Schubert\n",
      "Schubert\n",
      "Schubert\n",
      "Schubert\n",
      "Schubert\n",
      "Schubert\n",
      "Schubert\n",
      "Schubert\n",
      "Schubert\n",
      "Schubert\n",
      "Schubert\n",
      "Schubert\n",
      "Schubert\n",
      "Schubert\n",
      "Schubert\n",
      "Schubert\n",
      "Schubert\n",
      "Schubert\n",
      "Beethoven\n",
      "Beethoven\n",
      "Beethoven\n",
      "Beethoven\n",
      "Beethoven\n",
      "Beethoven\n",
      "Beethoven\n",
      "Beethoven\n",
      "Beethoven\n",
      "Beethoven\n",
      "Beethoven\n",
      "Beethoven\n",
      "Beethoven\n",
      "Beethoven\n",
      "Beethoven\n",
      "Beethoven\n",
      "Beethoven\n",
      "Beethoven\n",
      "Beethoven\n",
      "Beethoven\n",
      "Beethoven\n",
      "Beethoven\n",
      "Beethoven\n",
      "Beethoven\n",
      "Beethoven\n",
      "Beethoven\n",
      "Beethoven\n",
      "Beethoven\n",
      "Beethoven\n",
      "Beethoven\n",
      "Beethoven\n",
      "Beethoven\n",
      "Beethoven\n",
      "Beethoven\n",
      "Beethoven\n",
      "Beethoven\n",
      "Beethoven\n",
      "Beethoven\n",
      "Beethoven\n",
      "Brahms\n",
      "Brahms\n",
      "Brahms\n",
      "Brahms\n",
      "Brahms\n",
      "Brahms\n",
      "Brahms\n",
      "Brahms\n",
      "Brahms\n",
      "Brahms\n",
      "Brahms\n",
      "Brahms\n",
      "Brahms\n",
      "Brahms\n",
      "Brahms\n",
      "Brahms\n",
      "Brahms\n",
      "Beethoven\n",
      "Beethoven\n",
      "Beethoven\n",
      "Beethoven\n",
      "Beethoven\n",
      "Beethoven\n",
      "Beethoven\n",
      "Beethoven\n",
      "Beethoven\n",
      "Beethoven\n",
      "Beethoven\n",
      "Beethoven\n",
      "Beethoven\n",
      "Beethoven\n",
      "Beethoven\n",
      "Beethoven\n",
      "Beethoven\n",
      "Beethoven\n",
      "Beethoven\n",
      "Beethoven\n",
      "Beethoven\n",
      "Schubert\n",
      "Schubert\n",
      "Schubert\n",
      "Schubert\n",
      "Schubert\n",
      "Schubert\n",
      "Schubert\n",
      "Schubert\n",
      "Schubert\n",
      "Schubert\n",
      "Schubert\n",
      "Schubert\n",
      "Beethoven\n",
      "Beethoven\n",
      "Beethoven\n",
      "Beethoven\n",
      "Bach\n",
      "Bach\n",
      "Beethoven\n",
      "Schubert\n",
      "Schubert\n",
      "Beethoven\n",
      "Beethoven\n",
      "Beethoven\n",
      "Beethoven\n",
      "Beethoven\n",
      "Beethoven\n",
      "Beethoven\n",
      "Beethoven\n",
      "Beethoven\n",
      "Beethoven\n",
      "Beethoven\n",
      "Beethoven\n",
      "Beethoven\n",
      "Beethoven\n",
      "Beethoven\n",
      "Beethoven\n",
      "Beethoven\n",
      "Beethoven\n",
      "Beethoven\n",
      "Beethoven\n",
      "Beethoven\n",
      "Beethoven\n",
      "Beethoven\n",
      "Beethoven\n",
      "Beethoven\n",
      "Beethoven\n",
      "Beethoven\n",
      "Beethoven\n",
      "Beethoven\n",
      "Beethoven\n",
      "Beethoven\n",
      "Beethoven\n",
      "Beethoven\n",
      "Beethoven\n",
      "Beethoven\n",
      "Beethoven\n",
      "Beethoven\n",
      "Beethoven\n",
      "Bach\n",
      "Beethoven\n",
      "Beethoven\n",
      "Beethoven\n",
      "Beethoven\n",
      "Beethoven\n",
      "Beethoven\n",
      "Beethoven\n",
      "Beethoven\n",
      "Beethoven\n",
      "Beethoven\n",
      "Beethoven\n",
      "Beethoven\n",
      "Beethoven\n",
      "Beethoven\n",
      "Beethoven\n",
      "Beethoven\n",
      "Beethoven\n",
      "Beethoven\n",
      "Beethoven\n",
      "Beethoven\n",
      "Beethoven\n",
      "Beethoven\n",
      "Beethoven\n",
      "Beethoven\n",
      "Beethoven\n",
      "Beethoven\n",
      "Beethoven\n",
      "Beethoven\n",
      "Schubert\n",
      "Schubert\n",
      "Schubert\n",
      "Schubert\n",
      "Schubert\n",
      "Schubert\n",
      "Schubert\n",
      "Schubert\n",
      "Schubert\n",
      "Schubert\n",
      "Schubert\n",
      "Schubert\n",
      "Schubert\n",
      "Schubert\n",
      "Schubert\n",
      "Brahms\n",
      "Brahms\n",
      "Schubert\n",
      "Schubert\n",
      "Schubert\n",
      "Schubert\n",
      "Schubert\n",
      "Schubert\n",
      "Schubert\n",
      "Schubert\n",
      "Schubert\n",
      "Schubert\n",
      "Brahms\n",
      "Brahms\n",
      "Brahms\n",
      "Brahms\n",
      "Brahms\n",
      "Schubert\n",
      "Schubert\n",
      "Schubert\n",
      "Schubert\n",
      "Schubert\n",
      "Schubert\n",
      "Brahms\n",
      "Brahms\n",
      "Beethoven\n",
      "Brahms\n",
      "Brahms\n",
      "Brahms\n",
      "Brahms\n",
      "Brahms\n",
      "Brahms\n",
      "Brahms\n",
      "Brahms\n",
      "Brahms\n",
      "Brahms\n",
      "Brahms\n",
      "Brahms\n",
      "Brahms\n",
      "Brahms\n",
      "Brahms\n",
      "Brahms\n",
      "Brahms\n",
      "Brahms\n",
      "Brahms\n",
      "Brahms\n",
      "Brahms\n",
      "Brahms\n",
      "Brahms\n",
      "Brahms\n",
      "Brahms\n",
      "Brahms\n",
      "Brahms\n",
      "Brahms\n",
      "Brahms\n",
      "Brahms\n",
      "Brahms\n",
      "Beethoven\n",
      "Beethoven\n",
      "Beethoven\n",
      "Beethoven\n",
      "Beethoven\n",
      "Beethoven\n",
      "Beethoven\n",
      "Beethoven\n",
      "Beethoven\n",
      "Beethoven\n",
      "Beethoven\n",
      "Beethoven\n",
      "Beethoven\n",
      "Beethoven\n",
      "Beethoven\n",
      "Beethoven\n",
      "Schubert\n",
      "Schubert\n",
      "Schubert\n",
      "Schubert\n",
      "Schubert\n",
      "Schubert\n",
      "Schubert\n",
      "Schubert\n",
      "Schubert\n",
      "Schubert\n",
      "Schubert\n",
      "Schubert\n",
      "Schubert\n",
      "Schubert\n",
      "Schubert\n",
      "Schubert\n",
      "Schubert\n",
      "Schubert\n",
      "Schubert\n",
      "Schubert\n",
      "Schubert\n",
      "Schubert\n",
      "Schubert\n",
      "Schubert\n",
      "Schubert\n",
      "Schubert\n",
      "Schubert\n",
      "Schubert\n",
      "Schubert\n",
      "Schubert\n",
      "Schubert\n",
      "Schubert\n",
      "Beethoven\n",
      "Beethoven\n",
      "Beethoven\n",
      "Beethoven\n",
      "Schubert\n",
      "Schubert\n",
      "Beethoven\n",
      "Beethoven\n",
      "Beethoven\n",
      "Beethoven\n",
      "Beethoven\n",
      "Beethoven\n",
      "Beethoven\n",
      "Beethoven\n",
      "Beethoven\n",
      "Beethoven\n",
      "Beethoven\n",
      "Beethoven\n",
      "Beethoven\n",
      "Beethoven\n",
      "Beethoven\n",
      "Beethoven\n",
      "Beethoven\n",
      "Beethoven\n",
      "Beethoven\n",
      "Beethoven\n",
      "Beethoven\n",
      "Beethoven\n",
      "Beethoven\n",
      "Beethoven\n",
      "Beethoven\n",
      "Beethoven\n",
      "Beethoven\n",
      "Beethoven\n",
      "Beethoven\n",
      "Beethoven\n",
      "Beethoven\n",
      "Schubert\n"
     ]
    }
   ],
   "source": [
    "for i in range(len(y_hat)):\n",
    "    index_class = np.where(y_hat[i]==1)[0]\n",
    "    if index_class.any():\n",
    "        if index_class[0] == 0:\n",
    "            print('Bach')\n",
    "            data.loc[i,'composer_label'] = 'Bach'\n",
    "        elif index_class[0] == 1:\n",
    "            print('Beethoven')\n",
    "            data.loc[i,'composer_label'] = 'Beethoven'\n",
    "        elif index_class[0] == 2:\n",
    "            print('Brahms')\n",
    "            data.loc[i,'composer_label'] = 'Brahms'\n",
    "        elif index_class[0] == 3:\n",
    "            print('Schubert')\n",
    "            data.loc[i,'composer_label'] = 'Schubert'\n",
    "    else:\n",
    "        data.loc[i,'composer_label'] = 'Unknown'"
   ]
  },
  {
   "cell_type": "code",
   "execution_count": 522,
   "metadata": {
    "ExecuteTime": {
     "end_time": "2022-02-17T15:36:54.639195Z",
     "start_time": "2022-02-17T15:36:54.587195Z"
    }
   },
   "outputs": [
    {
     "name": "stdout",
     "output_type": "stream",
     "text": [
      "0 0.002716920481628_adj.mid ['Unknown']\n",
      "0 0.002716920481628_adj.mid ['Unknown']\n",
      "0 0.002716920481628_adj.mid ['Unknown']\n",
      "0 0.002716920481628_adj.mid ['Unknown']\n",
      "10 0.1960551158929671_adj.mid ['Unknown']\n",
      "10 0.1960551158929671_adj.mid ['Unknown']\n",
      "10 0.1960551158929671_adj.mid ['Unknown']\n",
      "11 0.21198476749665085_adj.mid ['Schubert']\n",
      "11 0.21198476749665085_adj.mid ['Schubert']\n",
      "11 0.21198476749665085_adj.mid ['Schubert']\n",
      "11 0.21198476749665085_adj.mid ['Schubert']\n",
      "12 0.21901852969811753_adj.mid ['Schubert']\n",
      "12 0.21901852969811753_adj.mid ['Schubert']\n",
      "12 0.21901852969811753_adj.mid ['Schubert']\n",
      "12 0.21901852969811753_adj.mid ['Schubert']\n",
      "13 0.22047111832936944_adj.mid ['Unknown']\n",
      "13 0.22047111832936944_adj.mid ['Unknown']\n",
      "13 0.22047111832936944_adj.mid ['Unknown']\n",
      "13 0.22047111832936944_adj.mid ['Unknown']\n",
      "14 0.23120017256495873_adj.mid ['Beethoven']\n",
      "14 0.23120017256495873_adj.mid ['Beethoven']\n",
      "14 0.23120017256495873_adj.mid ['Beethoven']\n",
      "14 0.23120017256495873_adj.mid ['Beethoven']\n",
      "15 0.26551079719260606_adj.mid ['Brahms']\n",
      "15 0.26551079719260606_adj.mid ['Brahms']\n",
      "15 0.26551079719260606_adj.mid ['Brahms']\n",
      "15 0.26551079719260606_adj.mid ['Brahms']\n",
      "15 0.26551079719260606_adj.mid ['Brahms']\n",
      "15 0.26551079719260606_adj.mid ['Brahms']\n",
      "16 0.30993012400290976_adj.mid ['Beethoven']\n",
      "16 0.30993012400290976_adj.mid ['Beethoven']\n",
      "17 0.3264565808984162_adj.mid ['Beethoven']\n",
      "17 0.3264565808984162_adj.mid ['Beethoven']\n",
      "18 0.3334293069825759_adj.mid ['Schubert']\n",
      "18 0.3334293069825759_adj.mid ['Schubert']\n",
      "18 0.3334293069825759_adj.mid ['Schubert']\n",
      "19 0.33695573887576447_adj.mid ['Unknown']\n",
      "19 0.33695573887576447_adj.mid ['Unknown']\n",
      "19 0.33695573887576447_adj.mid ['Beethoven']\n",
      "19 0.33695573887576447_adj.mid ['Beethoven']\n",
      "1 0.033313986422223163_adj.mid ['Bach']\n",
      "1 0.033313986422223163_adj.mid ['Unknown']\n",
      "1 0.033313986422223163_adj.mid ['Unknown']\n",
      "20 0.337517805339117_adj.mid ['Schubert']\n",
      "21 0.3559970176888735_adj.mid ['Unknown']\n",
      "21 0.3559970176888735_adj.mid ['Unknown']\n",
      "22 0.3620067189216978_adj.mid ['Beethoven']\n",
      "22 0.3620067189216978_adj.mid ['Beethoven']\n",
      "22 0.3620067189216978_adj.mid ['Beethoven']\n",
      "23 0.36321860283443286_adj.mid ['Beethoven']\n",
      "23 0.36321860283443286_adj.mid ['Unknown']\n",
      "23 0.36321860283443286_adj.mid ['Beethoven', 'Unknown']\n",
      "23 0.36321860283443286_adj.mid ['Beethoven']\n",
      "23 0.36321860283443286_adj.mid ['Beethoven']\n",
      "23 0.36321860283443286_adj.mid ['Beethoven']\n",
      "24 0.48367685897240176_adj.mid ['Unknown']\n",
      "24 0.48367685897240176_adj.mid ['Unknown']\n",
      "24 0.48367685897240176_adj.mid ['Unknown']\n",
      "24 0.48367685897240176_adj.mid ['Unknown']\n",
      "25 0.539512676743813_adj.mid ['Beethoven']\n",
      "25 0.539512676743813_adj.mid ['Beethoven']\n",
      "26 0.549470161204349_adj.mid ['Beethoven']\n",
      "26 0.549470161204349_adj.mid ['Beethoven']\n",
      "27 0.5807329043589801_adj.mid ['Schubert']\n",
      "27 0.5807329043589801_adj.mid ['Schubert']\n",
      "27 0.5807329043589801_adj.mid ['Schubert']\n",
      "27 0.5807329043589801_adj.mid ['Schubert']\n",
      "28 0.647959423719129_adj.mid ['Unknown']\n",
      "28 0.647959423719129_adj.mid ['Unknown']\n",
      "28 0.647959423719129_adj.mid ['Unknown']\n",
      "28 0.647959423719129_adj.mid ['Unknown']\n",
      "29 0.7491289879531658_adj.mid ['Brahms']\n",
      "29 0.7491289879531658_adj.mid ['Brahms']\n",
      "2 0.047574444458241216_adj.mid ['Schubert']\n",
      "2 0.047574444458241216_adj.mid ['Schubert']\n",
      "2 0.047574444458241216_adj.mid ['Brahms']\n",
      "2 0.047574444458241216_adj.mid ['Schubert']\n",
      "30 0.8014751784512073_adj.mid ['Brahms']\n",
      "30 0.8014751784512073_adj.mid ['Brahms']\n",
      "30 0.8014751784512073_adj.mid ['Brahms']\n",
      "30 0.8014751784512073_adj.mid ['Brahms']\n",
      "30 0.8014751784512073_adj.mid ['Brahms']\n",
      "30 0.8014751784512073_adj.mid ['Brahms']\n",
      "31 0.905499891236923_adj.mid ['Unknown']\n",
      "31 0.905499891236923_adj.mid ['Unknown']\n",
      "31 0.905499891236923_adj.mid ['Unknown']\n",
      "32 0.9353908329958764_adj.mid ['Beethoven']\n",
      "32 0.9353908329958764_adj.mid ['Beethoven']\n",
      "33 0.9511403301279795_adj.mid ['Beethoven']\n",
      "33 0.9511403301279795_adj.mid ['Beethoven']\n",
      "34 0.981087291054314_adj.mid ['Schubert']\n",
      "34 0.981087291054314_adj.mid ['Schubert']\n",
      "34 0.981087291054314_adj.mid ['Schubert']\n",
      "34 0.981087291054314_adj.mid ['Schubert']\n",
      "34 0.981087291054314_adj.mid ['Schubert']\n",
      "34 0.981087291054314_adj.mid ['Schubert']\n",
      "34 0.981087291054314_adj.mid ['Schubert']\n",
      "3 0.06402123326764841_adj.mid ['Beethoven']\n",
      "3 0.06402123326764841_adj.mid ['Beethoven']\n",
      "4 0.07186746659481313_adj.mid ['Unknown']\n",
      "4 0.07186746659481313_adj.mid ['Unknown']\n",
      "5 0.09167358800381353_adj.mid ['Schubert']\n",
      "6 0.10222964826466285_adj.mid ['Unknown']\n",
      "6 0.10222964826466285_adj.mid ['Unknown']\n",
      "6 0.10222964826466285_adj.mid ['Unknown']\n",
      "7 0.10250888365879718_adj.mid ['Beethoven']\n",
      "7 0.10250888365879718_adj.mid ['Beethoven']\n",
      "8 0.10630249969742178_adj.mid ['Beethoven']\n",
      "8 0.10630249969742178_adj.mid ['Beethoven']\n",
      "8 0.10630249969742178_adj.mid ['Beethoven']\n",
      "8 0.10630249969742178_adj.mid ['Beethoven']\n",
      "9 0.1755252422917658_adj.mid ['Schubert']\n"
     ]
    }
   ],
   "source": [
    "# mapping the file numbers with predicted composer label\n",
    "final_dictionary = dict()\n",
    "for group in data.groupby(['trackid']):\n",
    "    trackid = group[0]\n",
    "    file_index = trackid.split('_')[0]\n",
    "    mod = group[1].composer_label.mode()\n",
    "    print(file_index,file_names[int(file_index)],list(mod))\n",
    "    "
   ]
  },
  {
   "cell_type": "code",
   "execution_count": null,
   "metadata": {},
   "outputs": [],
   "source": []
  }
 ],
 "metadata": {
  "kernelspec": {
   "display_name": "Python 3",
   "language": "python",
   "name": "python3"
  },
  "language_info": {
   "codemirror_mode": {
    "name": "ipython",
    "version": 3
   },
   "file_extension": ".py",
   "mimetype": "text/x-python",
   "name": "python",
   "nbconvert_exporter": "python",
   "pygments_lexer": "ipython3",
   "version": "3.8.3"
  },
  "toc": {
   "base_numbering": 1,
   "nav_menu": {},
   "number_sections": true,
   "sideBar": true,
   "skip_h1_title": false,
   "title_cell": "Table of Contents",
   "title_sidebar": "Contents",
   "toc_cell": false,
   "toc_position": {
    "height": "calc(100% - 180px)",
    "left": "10px",
    "top": "150px",
    "width": "280.666px"
   },
   "toc_section_display": true,
   "toc_window_display": true
  },
  "varInspector": {
   "cols": {
    "lenName": 16,
    "lenType": 16,
    "lenVar": 40
   },
   "kernels_config": {
    "python": {
     "delete_cmd_postfix": "",
     "delete_cmd_prefix": "del ",
     "library": "var_list.py",
     "varRefreshCmd": "print(var_dic_list())"
    },
    "r": {
     "delete_cmd_postfix": ") ",
     "delete_cmd_prefix": "rm(",
     "library": "var_list.r",
     "varRefreshCmd": "cat(var_dic_list()) "
    }
   },
   "types_to_exclude": [
    "module",
    "function",
    "builtin_function_or_method",
    "instance",
    "_Feature"
   ],
   "window_display": false
  }
 },
 "nbformat": 4,
 "nbformat_minor": 4
}
