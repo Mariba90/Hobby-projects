{
 "cells": [
  {
   "cell_type": "markdown",
   "metadata": {},
   "source": [
    "Converting from midi note number (d) to frequency (f) is given by the following formula:\n",
    "$f = 2^{\\frac{d-69}{12}} \\times 440 Hz$\n",
    "\n",
    "https://en.wikipedia.org/wiki/MIDI_tuning_standard#Frequency_values"
   ]
  },
  {
   "cell_type": "code",
   "execution_count": 43,
   "metadata": {
    "ExecuteTime": {
     "end_time": "2022-02-16T23:20:23.738291Z",
     "start_time": "2022-02-16T23:20:21.875027Z"
    }
   },
   "outputs": [],
   "source": [
    "import librosa\n",
    "import mido"
   ]
  },
  {
   "cell_type": "code",
   "execution_count": 82,
   "metadata": {
    "ExecuteTime": {
     "end_time": "2022-02-17T01:50:19.993740Z",
     "start_time": "2022-02-17T01:50:19.566796Z"
    }
   },
   "outputs": [],
   "source": [
    "import os\n",
    "import string \n",
    "import numpy as np\n",
    "import pandas as pd"
   ]
  },
  {
   "cell_type": "code",
   "execution_count": 3,
   "metadata": {
    "ExecuteTime": {
     "end_time": "2022-02-14T20:32:13.270176Z",
     "start_time": "2022-02-14T20:32:13.254099Z"
    }
   },
   "outputs": [
    {
     "data": {
      "text/plain": [
       "'C:\\\\Users\\\\marya\\\\OneDrive\\\\Desktop\\\\assessments\\\\SFL Scientific'"
      ]
     },
     "execution_count": 3,
     "metadata": {},
     "output_type": "execute_result"
    }
   ],
   "source": [
    "os.getcwd()"
   ]
  },
  {
   "cell_type": "code",
   "execution_count": 45,
   "metadata": {
    "ExecuteTime": {
     "end_time": "2022-02-16T23:20:24.995377Z",
     "start_time": "2022-02-16T23:20:24.987377Z"
    }
   },
   "outputs": [],
   "source": [
    "path = 'C:\\\\Users\\\\marya\\\\OneDrive\\\\Desktop\\\\assessments\\\\SFL Scientific\\\\data\\\\PS1\\\\'\n",
    "# path = 'C:\\Users\\marya\\OneDrive\\Desktop\\assessments\\SFL Scientific\\data\\PS1\\Bach'"
   ]
  },
  {
   "cell_type": "code",
   "execution_count": 72,
   "metadata": {
    "ExecuteTime": {
     "end_time": "2022-02-17T00:01:02.686052Z",
     "start_time": "2022-02-17T00:01:02.668052Z"
    }
   },
   "outputs": [],
   "source": [
    "os.chdir(path+'Beethoven')"
   ]
  },
  {
   "cell_type": "code",
   "execution_count": 69,
   "metadata": {
    "ExecuteTime": {
     "end_time": "2022-02-16T23:59:36.864042Z",
     "start_time": "2022-02-16T23:59:36.850970Z"
    }
   },
   "outputs": [
    {
     "data": {
      "text/plain": [
       "['4 Impromptus_OP142_1763_scbt1421.mid',\n",
       " '4 Impromptus_OP142_1764_scbt1422.mid',\n",
       " '4 Impromptus_OP142_1765_scbt1423.mid',\n",
       " '4 Impromptus_OP142_1766_scbt1424.mid',\n",
       " 'note_chunk_15csv',\n",
       " 'note_chunk_30csv',\n",
       " 'note_chunk_60csv',\n",
       " 'Piano Quintet in A major_OP114_1727_schubert_op114_2.mid',\n",
       " 'Piano Quintet in A major_OP114_1728_schubert_op114_3.mid',\n",
       " 'Piano Quintet in A major_OP114_1729_schubert_op114_4.mid',\n",
       " 'Piano Quintet in A major_OP114_1730_schubert_op114_5.mid',\n",
       " 'Piano Sonata in A major_D664_1768_sy_sps32.mid',\n",
       " 'Piano Sonata in A major_D959_1734_sy_sps93.mid',\n",
       " 'Piano Sonata in A major_D959_1735_sy_sps94.mid',\n",
       " 'Piano Sonata in A minor_D784_1755_sy_sps52.mid',\n",
       " 'Piano Sonata in A minor_D784_1756_sy_sps53.mid',\n",
       " 'Piano Sonata in A minor_D845_1749_sy_sps11.mid',\n",
       " 'Piano Sonata in A minor_D845_1750_sy_sps12.mid',\n",
       " 'Piano Sonata in A minor_D845_1751_sy_sps13.mid',\n",
       " 'Piano Sonata in C minor_D958_1757_d958-1.mid',\n",
       " 'Piano Sonata in C minor_D958_1758_d958-2.mid',\n",
       " 'Piano Sonata in C minor_D958_1759_d958-3.mid',\n",
       " 'Piano Sonata in C minor_D958_1760_d958-4.mid',\n",
       " 'Piano Sonata in D major_D850_1775_sy_sps21.mid',\n",
       " 'Piano Sonata in D major_D850_1777_sy_sps23.mid',\n",
       " 'Piano Sonata in D-flat major_D568_1773_sy_sps43.mid',\n",
       " 'Piano Trio in B-flat major_OP99_1739_sb99m4.mid',\n",
       " 'String Quintet in C major_OP163_1742_sb163m2.mid']"
      ]
     },
     "execution_count": 69,
     "metadata": {},
     "output_type": "execute_result"
    }
   ],
   "source": [
    "os.listdir()"
   ]
  },
  {
   "cell_type": "code",
   "execution_count": 46,
   "metadata": {
    "ExecuteTime": {
     "end_time": "2022-02-16T23:20:30.175736Z",
     "start_time": "2022-02-16T23:20:30.162818Z"
    }
   },
   "outputs": [],
   "source": [
    "filename = path+'Bach\\\\'+'Cello Suite 3_BWV1009_2222_cs3-6gig.mid'\n",
    "# y, sr = librosa.load(filename)"
   ]
  },
  {
   "cell_type": "code",
   "execution_count": 73,
   "metadata": {
    "ExecuteTime": {
     "end_time": "2022-02-17T00:01:21.003685Z",
     "start_time": "2022-02-17T00:01:07.108285Z"
    }
   },
   "outputs": [
    {
     "name": "stdout",
     "output_type": "stream",
     "text": [
      "song= 0 track= 1 E\n",
      "song= 0 track= 1 A\n",
      "song= 0 track= 2 E\n",
      "song= 0 track= 2 A\n",
      "song= 0 track= 3 E\n",
      "song= 0 track= 3 A\n",
      "song= 1 track= 1 C\n",
      "song= 1 track= 2 C\n",
      "song= 1 track= 3 C\n",
      "song= 6 track= 1 Fm\n",
      "song= 6 track= 2 Fm\n",
      "song= 7 track= 1 F\n",
      "song= 7 track= 2 F\n",
      "song= 8 track= 1 C\n",
      "song= 8 track= 2 C\n",
      "song= 9 track= 1 G\n",
      "song= 9 track= 2 G\n",
      "song= 10 track= 1 G\n",
      "song= 10 track= 2 G\n",
      "song= 11 track= 1 Eb\n",
      "song= 11 track= 2 Eb\n",
      "song= 12 track= 1 Bb\n",
      "song= 12 track= 2 Bb\n",
      "song= 13 track= 1 Ab\n",
      "song= 13 track= 1 Abm\n",
      "song= 13 track= 1 Ab\n",
      "song= 13 track= 2 Ab\n",
      "song= 13 track= 2 Abm\n",
      "song= 13 track= 2 Ab\n",
      "song= 14 track= 1 Abm\n",
      "song= 14 track= 1 Ab\n",
      "song= 14 track= 1 Abm\n",
      "song= 14 track= 2 Abm\n",
      "song= 14 track= 2 Ab\n",
      "song= 14 track= 2 Abm\n",
      "song= 15 track= 1 Ab\n",
      "song= 15 track= 2 Ab\n",
      "song= 16 track= 1 Eb\n",
      "song= 16 track= 1 C\n",
      "song= 16 track= 1 Eb\n",
      "song= 16 track= 2 Eb\n",
      "song= 16 track= 2 C\n",
      "song= 16 track= 2 Eb\n",
      "song= 17 track= 2 E\n",
      "song= 17 track= 3 E\n",
      "song= 17 track= 4 E\n",
      "song= 18 track= 1 E\n",
      "song= 18 track= 2 E\n",
      "song= 19 track= 1 E\n",
      "song= 19 track= 2 E\n",
      "song= 20 track= 2 E\n",
      "song= 20 track= 3 E\n",
      "song= 20 track= 4 E\n",
      "song= 21 track= 1 D\n",
      "song= 21 track= 2 D\n",
      "song= 22 track= 1 D\n",
      "song= 22 track= 2 D\n",
      "song= 23 track= 1 D\n",
      "song= 23 track= 2 D\n",
      "song= 24 track= 1 C\n",
      "song= 24 track= 2 C\n",
      "song= 25 track= 1 G\n",
      "song= 25 track= 2 G\n",
      "song= 26 track= 1 Bb\n",
      "song= 26 track= 2 Bb\n",
      "song= 27 track= 1 F\n",
      "song= 27 track= 2 F\n",
      "song= 28 track= 1 Dm\n",
      "song= 28 track= 2 Dm\n",
      "song= 29 track= 1 Bb\n",
      "song= 29 track= 2 Bb\n",
      "song= 30 track= 1 F\n",
      "song= 30 track= 2 F\n",
      "song= 31 track= 1 Ab\n",
      "song= 31 track= 2 Ab\n",
      "song= 32 track= 1 Eb\n",
      "song= 32 track= 2 Eb\n",
      "song= 33 track= 1 Eb\n",
      "song= 33 track= 2 Eb\n",
      "song= 33 track= 3 C\n",
      "song= 34 track= 1 Gm\n",
      "song= 34 track= 2 Gm\n",
      "song= 35 track= 1 G\n",
      "song= 35 track= 1 Gm\n",
      "song= 35 track= 1 G\n",
      "song= 35 track= 2 G\n",
      "song= 35 track= 2 Gm\n",
      "song= 35 track= 2 G\n",
      "song= 36 track= 1 A\n",
      "song= 36 track= 1 C\n",
      "song= 36 track= 1 A\n",
      "song= 36 track= 2 A\n",
      "song= 36 track= 2 C\n",
      "song= 36 track= 2 A\n",
      "song= 37 track= 1 D\n",
      "song= 37 track= 2 D\n",
      "song= 38 track= 1 A\n",
      "song= 38 track= 1 C\n",
      "song= 38 track= 1 A\n",
      "song= 38 track= 2 A\n",
      "song= 38 track= 2 C\n",
      "song= 38 track= 2 A\n",
      "song= 40 track= 1 Bbm\n",
      "song= 40 track= 1 Cm\n",
      "song= 40 track= 1 Ebm\n",
      "song= 40 track= 1 Fm\n",
      "song= 40 track= 1 Gm\n",
      "song= 40 track= 1 G\n",
      "song= 40 track= 1 Gm\n",
      "song= 40 track= 1 Ab\n",
      "song= 40 track= 2 Bbm\n",
      "song= 40 track= 2 Cm\n",
      "song= 40 track= 2 Ebm\n",
      "song= 40 track= 2 Fm\n",
      "song= 40 track= 2 Gm\n",
      "song= 40 track= 2 G\n",
      "song= 40 track= 2 Gm\n",
      "song= 40 track= 2 Ab\n",
      "song= 41 track= 1 Cm\n",
      "song= 41 track= 1 Fm\n",
      "song= 41 track= 1 Gm\n",
      "song= 41 track= 1 Cm\n",
      "song= 41 track= 2 Cm\n",
      "song= 41 track= 2 Fm\n",
      "song= 41 track= 2 Gm\n",
      "song= 41 track= 2 Cm\n",
      "song= 42 track= 1 C\n",
      "song= 42 track= 1 Eb\n",
      "song= 42 track= 1 C\n",
      "song= 42 track= 2 C\n",
      "song= 42 track= 2 Eb\n",
      "song= 42 track= 2 C\n",
      "song= 43 track= 1 Cm\n",
      "song= 43 track= 1 Fm\n",
      "song= 43 track= 1 Gm\n",
      "song= 43 track= 1 Cm\n",
      "song= 43 track= 2 Cm\n",
      "song= 43 track= 2 Fm\n",
      "song= 43 track= 2 Gm\n",
      "song= 43 track= 2 Cm\n",
      "song= 44 track= 1 C\n",
      "song= 44 track= 1 Eb\n",
      "song= 44 track= 1 C\n",
      "song= 44 track= 2 C\n",
      "song= 44 track= 2 Eb\n",
      "song= 44 track= 2 C\n",
      "song= 45 track= 1 G\n",
      "song= 45 track= 2 G\n",
      "song= 45 track= 3 C\n",
      "song= 45 track= 4 C\n",
      "song= 46 track= 1 C\n",
      "song= 46 track= 2 C\n",
      "song= 46 track= 3 C\n",
      "song= 47 track= 1 F\n",
      "song= 47 track= 2 F\n",
      "song= 48 track= 1 F\n",
      "song= 48 track= 2 F\n",
      "song= 49 track= 1 Fm\n",
      "song= 49 track= 1 C\n",
      "song= 49 track= 1 Fm\n",
      "song= 49 track= 2 Fm\n",
      "song= 49 track= 2 C\n",
      "song= 49 track= 2 Fm\n",
      "song= 49 track= 3 Fm\n",
      "song= 50 track= 1 Fm\n",
      "song= 50 track= 1 C\n",
      "song= 50 track= 1 Fm\n",
      "song= 50 track= 2 Fm\n",
      "song= 50 track= 2 C\n",
      "song= 50 track= 2 Fm\n",
      "song= 50 track= 3 Fm\n",
      "song= 51 track= 1 F\n",
      "song= 51 track= 2 F\n",
      "song= 52 track= 1 Cm\n",
      "song= 52 track= 2 Cm\n",
      "song= 53 track= 1 Em\n",
      "song= 53 track= 1 C\n",
      "song= 53 track= 1 G\n",
      "song= 53 track= 2 Em\n",
      "song= 53 track= 2 C\n",
      "song= 53 track= 2 G\n",
      "song= 54 track= 1 Cm\n",
      "song= 54 track= 1 Em\n",
      "song= 54 track= 1 C\n",
      "song= 54 track= 1 E\n",
      "song= 54 track= 1 C\n",
      "song= 54 track= 1 E\n",
      "song= 54 track= 2 Cm\n",
      "song= 54 track= 2 Em\n",
      "song= 54 track= 2 C\n",
      "song= 54 track= 2 E\n",
      "song= 54 track= 2 C\n",
      "song= 54 track= 2 E\n",
      "song= 55 track= 1 A\n",
      "song= 55 track= 2 A\n",
      "song= 57 track= 1 Bb\n",
      "song= 57 track= 1 G\n",
      "song= 57 track= 1 Eb\n",
      "song= 57 track= 1 C\n",
      "song= 57 track= 1 D\n",
      "song= 57 track= 1 B\n",
      "song= 57 track= 1 Bb\n",
      "song= 57 track= 1 D\n",
      "song= 57 track= 1 Bb\n",
      "song= 57 track= 2 Bb\n",
      "song= 57 track= 2 G\n",
      "song= 57 track= 2 Eb\n",
      "song= 57 track= 2 C\n",
      "song= 57 track= 2 D\n",
      "song= 57 track= 2 B\n",
      "song= 57 track= 2 Bb\n",
      "song= 57 track= 2 D\n",
      "song= 57 track= 2 Bb\n",
      "song= 58 track= 1 Bb\n",
      "song= 58 track= 1 Bbm\n",
      "song= 58 track= 1 Bb\n",
      "song= 58 track= 1 C\n",
      "song= 58 track= 1 Bb\n",
      "song= 58 track= 2 Bb\n",
      "song= 58 track= 2 Bbm\n",
      "song= 58 track= 2 Bb\n",
      "song= 58 track= 2 C\n",
      "song= 58 track= 2 Bb\n",
      "song= 59 track= 1 Fm\n",
      "song= 59 track= 1 D\n",
      "song= 59 track= 1 A\n",
      "song= 59 track= 1 Eb\n",
      "song= 59 track= 1 C\n",
      "song= 59 track= 1 A\n",
      "song= 59 track= 1 F\n",
      "song= 59 track= 1 G\n",
      "song= 59 track= 1 D\n",
      "song= 59 track= 1 A\n",
      "song= 59 track= 2 Fm\n",
      "song= 59 track= 2 D\n",
      "song= 59 track= 2 A\n",
      "song= 59 track= 2 Eb\n",
      "song= 59 track= 2 C\n",
      "song= 59 track= 2 A\n",
      "song= 59 track= 2 F\n",
      "song= 59 track= 2 G\n",
      "song= 59 track= 2 D\n",
      "song= 59 track= 2 A\n",
      "song= 60 track= 1 F\n",
      "song= 60 track= 1 Bb\n",
      "song= 60 track= 1 B\n",
      "song= 60 track= 1 A\n",
      "song= 60 track= 1 C\n",
      "song= 60 track= 1 Bb\n",
      "song= 60 track= 1 Ab\n",
      "song= 60 track= 1 Gb\n",
      "song= 60 track= 1 Db\n",
      "song= 60 track= 1 Ab\n",
      "song= 60 track= 1 D\n",
      "song= 60 track= 1 G\n",
      "song= 60 track= 1 Eb\n",
      "song= 60 track= 1 F\n",
      "song= 60 track= 1 D\n",
      "song= 60 track= 1 Bb\n",
      "song= 60 track= 2 F\n",
      "song= 60 track= 2 Bb\n",
      "song= 60 track= 2 B\n",
      "song= 60 track= 2 A\n",
      "song= 60 track= 2 C\n",
      "song= 60 track= 2 Bb\n",
      "song= 60 track= 2 Ab\n",
      "song= 60 track= 2 Gb\n",
      "song= 60 track= 2 Db\n",
      "song= 60 track= 2 Ab\n",
      "song= 60 track= 2 D\n",
      "song= 60 track= 2 G\n",
      "song= 60 track= 2 Eb\n",
      "song= 60 track= 2 F\n",
      "song= 60 track= 2 D\n",
      "song= 60 track= 2 Bb\n",
      "song= 61 track= 1 C\n",
      "song= 61 track= 2 C\n",
      "song= 62 track= 1 E\n",
      "song= 62 track= 1 Em\n",
      "song= 62 track= 1 E\n",
      "song= 62 track= 2 E\n",
      "song= 62 track= 2 Em\n",
      "song= 62 track= 2 E\n",
      "song= 63 track= 1 C\n",
      "song= 63 track= 2 C\n",
      "song= 64 track= 1 C\n",
      "song= 64 track= 2 C\n",
      "song= 65 track= 1 E\n",
      "song= 65 track= 1 C\n",
      "song= 65 track= 1 E\n",
      "song= 65 track= 2 E\n",
      "song= 65 track= 2 C\n",
      "song= 65 track= 2 E\n",
      "song= 66 track= 1 Em\n",
      "song= 66 track= 2 Em\n",
      "song= 67 track= 1 E\n",
      "song= 67 track= 2 E\n",
      "song= 68 track= 1 C\n",
      "song= 68 track= 2 C\n",
      "song= 69 track= 1 Eb\n",
      "song= 69 track= 1 Gb\n",
      "song= 69 track= 1 Eb\n",
      "song= 69 track= 2 Eb\n",
      "song= 69 track= 2 Gb\n",
      "song= 69 track= 2 Eb\n",
      "song= 70 track= 1 Cm\n",
      "song= 70 track= 2 Cm\n",
      "song= 71 track= 1 C\n",
      "song= 71 track= 2 C\n",
      "song= 72 track= 1 Eb\n",
      "song= 72 track= 1 Gb\n",
      "song= 72 track= 1 Eb\n",
      "song= 72 track= 2 Eb\n",
      "song= 72 track= 2 Gb\n",
      "song= 72 track= 2 Eb\n",
      "song= 73 track= 1 Cm\n",
      "song= 73 track= 2 Cm\n",
      "song= 74 track= 1 Cm\n",
      "song= 74 track= 2 Cm\n",
      "song= 75 track= 1 Ab\n",
      "song= 75 track= 2 Ab\n",
      "song= 76 track= 1 Cm\n",
      "song= 76 track= 2 Cm\n",
      "song= 77 track= 1 F\n",
      "song= 77 track= 1 D\n",
      "song= 77 track= 1 F\n",
      "song= 77 track= 2 F\n",
      "song= 77 track= 2 D\n",
      "song= 77 track= 2 F\n",
      "song= 78 track= 1 Fm\n",
      "song= 78 track= 1 Bbm\n",
      "song= 78 track= 1 Fm\n",
      "song= 78 track= 2 Fm\n",
      "song= 78 track= 2 Bbm\n",
      "song= 78 track= 2 Fm\n",
      "song= 79 track= 1 F\n",
      "song= 79 track= 2 F\n",
      "song= 80 track= 1 Dm\n",
      "song= 80 track= 2 Dm\n",
      "song= 81 track= 1 Ab\n",
      "song= 81 track= 2 Ab\n",
      "song= 82 track= 1 Cm\n",
      "song= 82 track= 2 Cm\n",
      "song= 83 track= 1 Em\n",
      "song= 83 track= 1 C\n",
      "song= 83 track= 1 G\n",
      "song= 83 track= 2 Em\n",
      "song= 83 track= 2 C\n",
      "song= 83 track= 2 G\n",
      "song= 84 track= 1 E\n",
      "song= 84 track= 1 Em\n",
      "song= 84 track= 1 E\n",
      "song= 84 track= 2 E\n",
      "song= 84 track= 2 Em\n",
      "song= 84 track= 2 E\n",
      "song= 85 track= 1 E\n",
      "song= 85 track= 2 E\n",
      "song= 86 track= 0 Bb\n",
      "song= 87 track= 0 Eb\n",
      "song= 88 track= 1 F\n",
      "song= 88 track= 2 F\n",
      "song= 88 track= 3 F\n",
      "song= 88 track= 4 F\n",
      "song= 89 track= 1 Fm\n",
      "song= 89 track= 2 Fm\n",
      "song= 89 track= 3 Fm\n",
      "song= 89 track= 4 Fm\n",
      "song= 90 track= 1 Fm\n",
      "song= 90 track= 1 F\n",
      "song= 90 track= 2 Fm\n",
      "song= 90 track= 2 F\n",
      "song= 90 track= 3 Fm\n",
      "song= 90 track= 3 F\n",
      "song= 90 track= 4 Fm\n",
      "song= 90 track= 4 F\n",
      "song= 91 track= 1 Eb\n",
      "song= 91 track= 1 Bb\n",
      "song= 91 track= 1 G\n",
      "song= 91 track= 1 Eb\n",
      "song= 91 track= 1 C\n",
      "song= 91 track= 1 Eb\n",
      "song= 91 track= 2 Eb\n",
      "song= 91 track= 2 Bb\n",
      "song= 91 track= 2 G\n",
      "song= 91 track= 2 Eb\n",
      "song= 91 track= 2 C\n",
      "song= 91 track= 2 Eb\n",
      "song= 91 track= 3 Eb\n",
      "song= 91 track= 3 Bb\n",
      "song= 91 track= 3 G\n",
      "song= 91 track= 3 Eb\n",
      "song= 91 track= 3 C\n",
      "song= 91 track= 3 Eb\n",
      "song= 91 track= 4 Eb\n",
      "song= 91 track= 4 Bb\n",
      "song= 91 track= 4 G\n",
      "song= 91 track= 4 Eb\n",
      "song= 91 track= 4 C\n",
      "song= 91 track= 4 Eb\n",
      "song= 92 track= 1 Ab\n",
      "song= 92 track= 1 E\n",
      "song= 92 track= 1 Ab\n",
      "song= 92 track= 1 E\n",
      "song= 92 track= 1 Ab\n",
      "song= 92 track= 2 Ab\n",
      "song= 92 track= 2 E\n",
      "song= 92 track= 2 Ab\n",
      "song= 92 track= 2 E\n",
      "song= 92 track= 2 Ab\n",
      "song= 92 track= 3 Ab\n",
      "song= 92 track= 3 E\n",
      "song= 92 track= 3 Ab\n",
      "song= 92 track= 3 E\n",
      "song= 92 track= 3 Ab\n",
      "song= 92 track= 4 Ab\n",
      "song= 92 track= 4 E\n",
      "song= 92 track= 4 Ab\n",
      "song= 92 track= 4 E\n",
      "song= 92 track= 4 Ab\n",
      "song= 92 track= 5 Ab\n",
      "song= 92 track= 5 E\n",
      "song= 92 track= 5 Ab\n",
      "song= 92 track= 5 E\n",
      "song= 92 track= 5 Ab\n",
      "song= 92 track= 6 Ab\n",
      "song= 92 track= 6 E\n",
      "song= 92 track= 6 Ab\n",
      "song= 92 track= 6 E\n",
      "song= 92 track= 6 Ab\n",
      "song= 93 track= 1 Eb\n",
      "song= 93 track= 1 C\n",
      "song= 93 track= 1 Eb\n",
      "song= 93 track= 2 Eb\n",
      "song= 93 track= 2 C\n",
      "song= 93 track= 2 Eb\n",
      "song= 93 track= 3 Eb\n",
      "song= 93 track= 3 C\n",
      "song= 93 track= 3 Eb\n",
      "song= 93 track= 4 Eb\n",
      "song= 93 track= 4 C\n",
      "song= 93 track= 4 Eb\n"
     ]
    },
    {
     "name": "stdout",
     "output_type": "stream",
     "text": [
      "song= 94 track= 1 Db\n",
      "song= 94 track= 1 Ab\n",
      "song= 94 track= 1 Db\n",
      "song= 94 track= 2 Db\n",
      "song= 94 track= 2 Ab\n",
      "song= 94 track= 2 Db\n",
      "song= 94 track= 3 Db\n",
      "song= 94 track= 3 Ab\n",
      "song= 94 track= 3 Db\n",
      "song= 94 track= 4 Db\n",
      "song= 94 track= 4 Ab\n",
      "song= 94 track= 4 Db\n",
      "song= 94 track= 5 Db\n",
      "song= 94 track= 5 Ab\n",
      "song= 94 track= 5 Db\n",
      "song= 94 track= 6 Db\n",
      "song= 94 track= 6 Ab\n",
      "song= 94 track= 6 Db\n",
      "song= 94 track= 7 Db\n",
      "song= 94 track= 7 Ab\n",
      "song= 94 track= 7 Db\n",
      "song= 95 track= 1 G\n",
      "song= 95 track= 1 C\n",
      "song= 95 track= 1 G\n",
      "song= 95 track= 2 G\n",
      "song= 95 track= 2 C\n",
      "song= 95 track= 2 G\n",
      "song= 95 track= 3 G\n",
      "song= 95 track= 3 C\n",
      "song= 95 track= 3 G\n",
      "song= 95 track= 4 G\n",
      "song= 95 track= 4 C\n",
      "song= 95 track= 4 G\n",
      "song= 96 track= 1 Am\n",
      "song= 96 track= 1 Dm\n",
      "song= 96 track= 1 Am\n",
      "song= 96 track= 1 Em\n",
      "song= 96 track= 1 Am\n",
      "song= 96 track= 2 Am\n",
      "song= 96 track= 2 Dm\n",
      "song= 96 track= 2 Am\n",
      "song= 96 track= 2 Em\n",
      "song= 96 track= 2 Am\n",
      "song= 96 track= 3 Am\n",
      "song= 96 track= 3 Dm\n",
      "song= 96 track= 3 Am\n",
      "song= 96 track= 3 Em\n",
      "song= 96 track= 3 Am\n",
      "song= 96 track= 4 Am\n",
      "song= 96 track= 4 Dm\n",
      "song= 96 track= 4 Am\n",
      "song= 96 track= 4 Em\n",
      "song= 96 track= 4 Am\n",
      "song= 96 track= 5 Am\n",
      "song= 96 track= 5 Dm\n",
      "song= 96 track= 5 Am\n",
      "song= 96 track= 5 Em\n",
      "song= 96 track= 5 Am\n",
      "song= 97 track= 1 C\n",
      "song= 97 track= 1 D\n",
      "song= 97 track= 1 C\n",
      "song= 97 track= 1 D\n",
      "song= 97 track= 1 C\n",
      "song= 97 track= 2 C\n",
      "song= 97 track= 2 D\n",
      "song= 97 track= 2 C\n",
      "song= 97 track= 2 D\n",
      "song= 97 track= 2 C\n",
      "song= 97 track= 3 C\n",
      "song= 97 track= 3 D\n",
      "song= 97 track= 3 C\n",
      "song= 97 track= 3 D\n",
      "song= 97 track= 3 C\n",
      "song= 97 track= 4 C\n",
      "song= 97 track= 4 D\n",
      "song= 97 track= 4 C\n",
      "song= 97 track= 4 D\n",
      "song= 97 track= 4 C\n",
      "song= 97 track= 5 C\n",
      "song= 97 track= 5 D\n",
      "song= 97 track= 5 C\n",
      "song= 97 track= 5 D\n",
      "song= 97 track= 5 C\n",
      "song= 97 track= 6 C\n",
      "song= 97 track= 6 D\n",
      "song= 97 track= 6 C\n",
      "song= 97 track= 6 D\n",
      "song= 97 track= 6 C\n",
      "song= 98 track= 1 F\n",
      "song= 98 track= 1 G\n",
      "song= 98 track= 1 F\n",
      "song= 98 track= 2 F\n",
      "song= 98 track= 2 G\n",
      "song= 98 track= 2 F\n",
      "song= 98 track= 3 F\n",
      "song= 98 track= 3 G\n",
      "song= 98 track= 3 F\n",
      "song= 98 track= 4 F\n",
      "song= 98 track= 4 G\n",
      "song= 98 track= 4 F\n",
      "song= 98 track= 5 F\n",
      "song= 98 track= 5 G\n",
      "song= 98 track= 5 F\n",
      "song= 99 track= 1 F\n",
      "song= 99 track= 1 G\n",
      "song= 99 track= 1 A\n",
      "song= 99 track= 1 F\n",
      "song= 99 track= 2 F\n",
      "song= 99 track= 2 G\n",
      "song= 99 track= 2 A\n",
      "song= 99 track= 2 F\n",
      "song= 99 track= 3 F\n",
      "song= 99 track= 3 G\n",
      "song= 99 track= 3 A\n",
      "song= 99 track= 3 F\n",
      "song= 99 track= 4 F\n",
      "song= 99 track= 4 G\n",
      "song= 99 track= 4 A\n",
      "song= 99 track= 4 F\n",
      "song= 99 track= 5 F\n",
      "song= 99 track= 5 G\n",
      "song= 99 track= 5 A\n",
      "song= 99 track= 5 F\n",
      "song= 100 track= 1 Db\n",
      "song= 100 track= 1 E\n",
      "song= 100 track= 1 Db\n",
      "song= 100 track= 2 Db\n",
      "song= 100 track= 2 E\n",
      "song= 100 track= 2 Db\n",
      "song= 100 track= 3 Db\n",
      "song= 100 track= 3 E\n",
      "song= 100 track= 3 Db\n",
      "song= 100 track= 4 Db\n",
      "song= 100 track= 4 E\n",
      "song= 100 track= 4 Db\n",
      "song= 101 track= 1 C\n",
      "song= 101 track= 1 F\n",
      "song= 101 track= 1 C\n",
      "song= 101 track= 2 C\n",
      "song= 101 track= 2 F\n",
      "song= 101 track= 2 C\n",
      "song= 101 track= 3 C\n",
      "song= 101 track= 3 F\n",
      "song= 101 track= 3 C\n",
      "song= 101 track= 4 C\n",
      "song= 101 track= 4 F\n",
      "song= 101 track= 4 C\n",
      "song= 102 track= 1 G\n",
      "song= 102 track= 2 G\n",
      "song= 102 track= 3 G\n",
      "song= 102 track= 4 G\n",
      "song= 103 track= 1 A\n",
      "song= 103 track= 2 A\n",
      "song= 103 track= 3 A\n",
      "song= 103 track= 4 A\n",
      "song= 104 track= 1 A\n",
      "song= 104 track= 2 A\n",
      "song= 104 track= 3 A\n",
      "song= 104 track= 4 A\n",
      "song= 105 track= 1 D\n",
      "song= 105 track= 2 D\n",
      "song= 105 track= 3 D\n",
      "song= 105 track= 4 D\n",
      "song= 105 track= 5 D\n",
      "song= 106 track= 1 A\n",
      "song= 106 track= 2 A\n",
      "song= 106 track= 3 A\n",
      "song= 106 track= 4 A\n",
      "song= 106 track= 5 A\n",
      "song= 107 track= 1 Eb\n",
      "song= 107 track= 2 Eb\n",
      "song= 107 track= 3 Eb\n",
      "song= 107 track= 4 Eb\n",
      "song= 107 track= 5 Eb\n",
      "song= 107 track= 6 Eb\n",
      "song= 107 track= 7 Eb\n",
      "song= 107 track= 8 Eb\n",
      "song= 108 track= 1 F\n",
      "song= 108 track= 2 F\n",
      "song= 108 track= 3 F\n",
      "song= 108 track= 4 F\n",
      "song= 109 track= 1 Bb\n",
      "song= 109 track= 2 Bb\n",
      "song= 109 track= 3 Bb\n",
      "song= 109 track= 4 Bb\n",
      "song= 109 track= 5 Bb\n",
      "song= 109 track= 6 Bb\n",
      "song= 109 track= 7 Bb\n",
      "song= 109 track= 8 Bb\n",
      "song= 110 track= 1 E\n",
      "song= 110 track= 2 E\n",
      "song= 110 track= 3 E\n",
      "song= 110 track= 4 E\n",
      "song= 111 track= 0 Eb\n",
      "song= 112 track= 0 Ab\n",
      "song= 113 track= 0 Eb\n",
      "song= 114 track= 0 D\n",
      "song= 114 track= 0 F\n",
      "song= 114 track= 0 F\n",
      "song= 114 track= 0 D\n",
      "song= 115 track= 1 G\n",
      "song= 115 track= 2 G\n",
      "song= 115 track= 3 G\n",
      "song= 115 track= 4 G\n",
      "song= 116 track= 1 Eb\n",
      "song= 116 track= 2 Eb\n",
      "song= 116 track= 3 Eb\n",
      "song= 117 track= 1 Gm\n",
      "song= 117 track= 1 Eb\n",
      "song= 117 track= 1 Gm\n",
      "song= 117 track= 1 G\n",
      "song= 117 track= 2 Gm\n",
      "song= 117 track= 2 Eb\n",
      "song= 117 track= 2 Gm\n",
      "song= 117 track= 2 G\n",
      "song= 117 track= 3 Gm\n",
      "song= 117 track= 3 Eb\n",
      "song= 117 track= 3 Gm\n",
      "song= 117 track= 3 G\n",
      "song= 118 track= 1 G\n",
      "song= 118 track= 1 Eb\n",
      "song= 118 track= 1 G\n",
      "song= 118 track= 1 Bb\n",
      "song= 118 track= 1 G\n",
      "song= 118 track= 2 G\n",
      "song= 118 track= 2 Eb\n",
      "song= 118 track= 2 G\n",
      "song= 118 track= 2 Bb\n",
      "song= 118 track= 2 G\n",
      "song= 118 track= 3 G\n",
      "song= 118 track= 3 Eb\n",
      "song= 118 track= 3 G\n",
      "song= 118 track= 3 Bb\n",
      "song= 118 track= 3 G\n",
      "song= 119 track= 0 A\n",
      "song= 119 track= 0 D\n",
      "song= 119 track= 0 A\n",
      "song= 120 track= 0 C\n",
      "song= 121 track= 0 Eb\n",
      "song= 122 track= 0 A\n",
      "song= 123 track= 0 C\n",
      "song= 123 track= 0 A\n",
      "song= 123 track= 0 Am\n",
      "song= 123 track= 0 F\n",
      "song= 123 track= 0 Am\n",
      "song= 127 track= 1 G\n",
      "song= 127 track= 2 G\n",
      "song= 127 track= 3 G\n",
      "song= 128 track= 1 Eb\n",
      "song= 128 track= 2 Eb\n",
      "song= 128 track= 3 Eb\n",
      "song= 129 track= 1 G\n",
      "song= 129 track= 2 G\n",
      "song= 129 track= 3 G\n",
      "song= 130 track= 1 Eb\n",
      "song= 130 track= 2 Eb\n",
      "song= 130 track= 3 Eb\n",
      "song= 131 track= 1 G\n",
      "song= 131 track= 2 G\n",
      "song= 131 track= 3 G\n"
     ]
    }
   ],
   "source": [
    "for i,file in enumerate(os.listdir()):\n",
    "    filename = path+'Beethoven\\\\'+file\n",
    "    mid = mido.MidiFile(filename)\n",
    "    for j,tr in enumerate(mid.tracks):\n",
    "        for msg in tr:\n",
    "            if 'key_signature' in str(msg):\n",
    "                key = str(msg)[str(msg).rfind('key'):].split(' ')[0].split('=')[1].translate(str.maketrans({a: None for a in string.punctuation}))         \n",
    "                print('song=',i,'track=',j,key)\n",
    "            if 'pitch' in str(msg):\n",
    "                print('song=',i,'track=',j,msg)"
   ]
  },
  {
   "cell_type": "code",
   "execution_count": 53,
   "metadata": {
    "ExecuteTime": {
     "end_time": "2022-02-16T23:22:27.801807Z",
     "start_time": "2022-02-16T23:22:27.790806Z"
    }
   },
   "outputs": [
    {
     "name": "stdout",
     "output_type": "stream",
     "text": [
      "MidiTrack([\n",
      "  MetaMessage('track_name', name='untitled', time=0),\n",
      "  MetaMessage('copyright', text='Copyright © 1996 by David J. Grossman', time=0),\n",
      "  MetaMessage('text', text='David J. Grossman', time=0),\n",
      "  MetaMessage('smpte_offset', frame_rate=25, hours=32, minutes=0, seconds=3, frames=0, sub_frames=0, time=0),\n",
      "  MetaMessage('time_signature', numerator=3, denominator=8, clocks_per_click=12, notated_32nd_notes_per_beat=8, time=0),\n",
      "  MetaMessage('key_signature', key='C', time=0),\n",
      "  MetaMessage('set_tempo', tempo=240000, time=0),\n",
      "  MetaMessage('set_tempo', tempo=545455, time=480),\n",
      "  MetaMessage('marker', text='A', time=240),\n",
      "  MetaMessage('marker', text=\"A'\", time=34560),\n",
      "  MetaMessage('marker', text='B', time=34560),\n",
      "  MetaMessage('marker', text='*', time=40440),\n",
      "  MetaMessage('marker', text=\"B'\", time=2760),\n",
      "  MetaMessage('set_tempo', tempo=1090909, time=42480),\n",
      "  MetaMessage('end_of_track', time=0)]) MetaMessage('key_signature', key='C', time=0)\n"
     ]
    }
   ],
   "source": [
    "for tr in mid.tracks:\n",
    "    for msg in tr:\n",
    "        if 'key_signature' in str(msg):\n",
    "            print(tr,msg)"
   ]
  },
  {
   "cell_type": "code",
   "execution_count": 191,
   "metadata": {
    "ExecuteTime": {
     "end_time": "2022-02-15T03:32:43.080573Z",
     "start_time": "2022-02-15T03:32:43.064492Z"
    }
   },
   "outputs": [
    {
     "data": {
      "text/plain": [
       "60.0"
      ]
     },
     "execution_count": 191,
     "metadata": {},
     "output_type": "execute_result"
    }
   ],
   "source": [
    "mido.tick2second(57600,480,500000)"
   ]
  },
  {
   "cell_type": "code",
   "execution_count": 193,
   "metadata": {
    "ExecuteTime": {
     "end_time": "2022-02-15T03:33:09.434210Z",
     "start_time": "2022-02-15T03:33:09.420210Z"
    }
   },
   "outputs": [
    {
     "data": {
      "text/plain": [
       "1"
      ]
     },
     "execution_count": 193,
     "metadata": {},
     "output_type": "execute_result"
    }
   ],
   "source": [
    "mid.type"
   ]
  },
  {
   "cell_type": "code",
   "execution_count": 194,
   "metadata": {
    "ExecuteTime": {
     "end_time": "2022-02-15T03:33:19.237494Z",
     "start_time": "2022-02-15T03:33:19.231525Z"
    }
   },
   "outputs": [
    {
     "data": {
      "text/plain": [
       "480"
      ]
     },
     "execution_count": 194,
     "metadata": {},
     "output_type": "execute_result"
    }
   ],
   "source": [
    "mid.ticks_per_beat"
   ]
  },
  {
   "cell_type": "markdown",
   "metadata": {},
   "source": [
    "* type 0 (single track): all messages are saved in one track\n",
    "* type 1 (synchronous): all tracks start at the same time\n",
    "* type 2 (asynchronous): each track is independent of the others"
   ]
  },
  {
   "cell_type": "markdown",
   "metadata": {},
   "source": [
    "* Dimension = n rows * 88 columns, each row contains the state of 88 notes at a particular time step. The notes out of piano keyboard range will be ignored.\n",
    "\n",
    "* The values in the array represent velocity (0 means note off, while (0:127] means note on)."
   ]
  },
  {
   "cell_type": "code",
   "execution_count": 197,
   "metadata": {
    "ExecuteTime": {
     "end_time": "2022-02-15T22:14:59.080154Z",
     "start_time": "2022-02-15T22:14:59.066153Z"
    }
   },
   "outputs": [
    {
     "data": {
      "text/plain": [
       "28"
      ]
     },
     "execution_count": 197,
     "metadata": {},
     "output_type": "execute_result"
    }
   ],
   "source": [
    "int(np.mean([39,20,25]))"
   ]
  },
  {
   "cell_type": "code",
   "execution_count": 183,
   "metadata": {
    "ExecuteTime": {
     "end_time": "2022-02-15T02:04:38.379317Z",
     "start_time": "2022-02-15T02:04:38.363317Z"
    }
   },
   "outputs": [
    {
     "data": {
      "text/plain": [
       "[15, 1302, 750, 66, 10, 3, 3, 3, 3, 3, 3, 3, 3, 3, 3, 3, 3, 2]"
      ]
     },
     "execution_count": 183,
     "metadata": {},
     "output_type": "execute_result"
    }
   ],
   "source": [
    "tracks_len = [len(tr) for tr in mid.tracks]\n",
    "tracks_len"
   ]
  },
  {
   "cell_type": "code",
   "execution_count": 189,
   "metadata": {
    "ExecuteTime": {
     "end_time": "2022-02-15T02:08:44.700556Z",
     "start_time": "2022-02-15T02:08:44.691556Z"
    }
   },
   "outputs": [
    {
     "name": "stdout",
     "output_type": "stream",
     "text": [
      "1302\n"
     ]
    }
   ],
   "source": [
    "np.mean(tracks_len),np.std(tracks_len)\n",
    "for length in tracks_len:\n",
    "    z_score = (length-np.mean(tracks_len))/np.std(tracks_len)\n",
    "    if z_score >=3:\n",
    "        print(length)"
   ]
  },
  {
   "cell_type": "code",
   "execution_count": 196,
   "metadata": {
    "ExecuteTime": {
     "end_time": "2022-02-15T21:09:41.293720Z",
     "start_time": "2022-02-15T21:09:41.276721Z"
    }
   },
   "outputs": [
    {
     "data": {
      "text/plain": [
       "\"MetaMessage('midi_port', port=0, time=0)\""
      ]
     },
     "execution_count": 196,
     "metadata": {},
     "output_type": "execute_result"
    }
   ],
   "source": [
    "str(mid.tracks[2][0])"
   ]
  },
  {
   "cell_type": "markdown",
   "metadata": {},
   "source": [
    "* The array combines notes information of all tracks whose number of messages is no less than a threshold. The threshold is calculated as 10% of the number of messages of the longest track."
   ]
  },
  {
   "cell_type": "code",
   "execution_count": 14,
   "metadata": {
    "ExecuteTime": {
     "end_time": "2022-02-14T20:38:14.627958Z",
     "start_time": "2022-02-14T20:38:14.615957Z"
    }
   },
   "outputs": [
    {
     "data": {
      "text/plain": [
       "130.20000000000002"
      ]
     },
     "execution_count": 14,
     "metadata": {},
     "output_type": "execute_result"
    }
   ],
   "source": [
    "min_n_msg = max(tracks_len)*0.1\n",
    "min_n_msg"
   ]
  },
  {
   "cell_type": "markdown",
   "metadata": {},
   "source": [
    "The function `msg2dict` extracts important information (note, velocity, time, on or off) from each message."
   ]
  },
  {
   "cell_type": "code",
   "execution_count": 106,
   "metadata": {
    "ExecuteTime": {
     "end_time": "2022-02-14T21:25:01.241945Z",
     "start_time": "2022-02-14T21:25:01.233959Z"
    }
   },
   "outputs": [],
   "source": [
    "def msg2dict(msg):\n",
    "    result = dict()\n",
    "    if 'note_on' in msg:\n",
    "        on_ = True\n",
    "    elif 'note_off' in msg:\n",
    "        on_ = False\n",
    "    else:\n",
    "        on_ = None\n",
    "    result['time'] = int(msg[msg.rfind('time'):].split(' ')[0].split('=')[1].translate(\n",
    "        str.maketrans({a: None for a in string.punctuation})))\n",
    "\n",
    "    if on_ is not None:\n",
    "        for k in ['note', 'velocity']:\n",
    "            result[k] = int(msg[msg.rfind(k):].split(' ')[0].split('=')[1].translate(\n",
    "                str.maketrans({a: None for a in string.punctuation})))\n",
    "    return [result, on_]"
   ]
  },
  {
   "cell_type": "markdown",
   "metadata": {},
   "source": [
    "The function `switch_note` changes the last_state (the state of the 88 note at the previous time step) based on new value of note, velocity, note on or note off. The state of each time step contains 88 values. **here 128 values**"
   ]
  },
  {
   "cell_type": "code",
   "execution_count": 125,
   "metadata": {
    "ExecuteTime": {
     "end_time": "2022-02-14T21:59:08.219620Z",
     "start_time": "2022-02-14T21:59:08.209618Z"
    }
   },
   "outputs": [],
   "source": [
    "def switch_note(last_state, note, velocity, on_=True):\n",
    "    # piano has 88 notes, corresponding to note id 21 to 108, any note out of this range will be ignored\n",
    "    result = [0] * 128 if last_state is None else last_state.copy()\n",
    "    # we want all 128 notes\n",
    "#     if 21 <= note <= 108:\n",
    "#         result[note-21] = velocity if on_ else 0\n",
    "    result [note] = velocity if on_ else 0\n",
    "    return result"
   ]
  },
  {
   "cell_type": "code",
   "execution_count": 107,
   "metadata": {
    "ExecuteTime": {
     "end_time": "2022-02-14T21:25:32.278309Z",
     "start_time": "2022-02-14T21:25:32.269308Z"
    }
   },
   "outputs": [
    {
     "data": {
      "text/plain": [
       "({'time': 93000, 'note': 43, 'velocity': 100}, True)"
      ]
     },
     "execution_count": 107,
     "metadata": {},
     "output_type": "execute_result"
    }
   ],
   "source": [
    "new_msg, on_ = msg2dict(str(track[5]))\n",
    "new_msg, on_"
   ]
  },
  {
   "cell_type": "code",
   "execution_count": 113,
   "metadata": {
    "ExecuteTime": {
     "end_time": "2022-02-14T21:51:53.740941Z",
     "start_time": "2022-02-14T21:51:53.732941Z"
    }
   },
   "outputs": [
    {
     "data": {
      "text/plain": [
       "\"MetaMessage('midi_port', port=0, time=0)\""
      ]
     },
     "execution_count": 113,
     "metadata": {},
     "output_type": "execute_result"
    }
   ],
   "source": [
    "str(track[0])"
   ]
  },
  {
   "cell_type": "code",
   "execution_count": 115,
   "metadata": {
    "ExecuteTime": {
     "end_time": "2022-02-14T21:52:54.610680Z",
     "start_time": "2022-02-14T21:52:54.602680Z"
    }
   },
   "outputs": [
    {
     "data": {
      "text/plain": [
       "({'time': 0}, None)"
      ]
     },
     "execution_count": 115,
     "metadata": {},
     "output_type": "execute_result"
    }
   ],
   "source": [
    "new_msg, on_ = msg2dict(str(str(track[0])))\n",
    "new_msg, on_"
   ]
  },
  {
   "cell_type": "code",
   "execution_count": 122,
   "metadata": {
    "ExecuteTime": {
     "end_time": "2022-02-14T21:56:59.543603Z",
     "start_time": "2022-02-14T21:56:59.533604Z"
    }
   },
   "outputs": [],
   "source": [
    "last_state, last_time = get_new_state(track[0], [0]*128)"
   ]
  },
  {
   "cell_type": "code",
   "execution_count": 166,
   "metadata": {
    "ExecuteTime": {
     "end_time": "2022-02-14T23:39:26.729593Z",
     "start_time": "2022-02-14T23:39:26.720594Z"
    }
   },
   "outputs": [],
   "source": [
    "def track2seq(track):\n",
    "    # piano has 88 notes, corresponding to note id 21 to 108, any note out of the id range will be ignored\n",
    "    result = []\n",
    "    last_state, last_time = get_new_state(str(track[0]), [0]*128) # switched to 128 instead of 88\n",
    "    for i in range(1, len(track)):\n",
    "        new_state, new_time = get_new_state(track[i], last_state)\n",
    "        if new_time > 0:\n",
    "            print(new_time,last_state,new_state)\n",
    "            result += [last_state]*new_time\n",
    "        last_state, last_time = new_state, new_time\n",
    "    return result"
   ]
  },
  {
   "cell_type": "code",
   "execution_count": 168,
   "metadata": {
    "ExecuteTime": {
     "end_time": "2022-02-14T23:39:54.098839Z",
     "start_time": "2022-02-14T23:39:54.075777Z"
    }
   },
   "outputs": [
    {
     "name": "stdout",
     "output_type": "stream",
     "text": [
      "93000 [0, 0, 0, 0, 0, 0, 0, 0, 0, 0, 0, 0, 0, 0, 0, 0, 0, 0, 0, 0, 0, 0, 0, 0, 0, 0, 0, 0, 0, 0, 0, 0, 0, 0, 0, 0, 0, 0, 0, 0, 0, 0, 0, 0, 0, 0, 0, 0, 0, 0, 0, 0, 0, 0, 0, 0, 0, 0, 0, 0, 0, 0, 0, 0, 0, 0, 0, 0, 0, 0, 0, 0, 0, 0, 0, 0, 0, 0, 0, 0, 0, 0, 0, 0, 0, 0, 0, 0, 0, 0, 0, 0, 0, 0, 0, 0, 0, 0, 0, 0, 0, 0, 0, 0, 0, 0, 0, 0, 0, 0, 0, 0, 0, 0, 0, 0, 0, 0, 0, 0, 0, 0, 0, 0, 0, 0, 0, 0] [0, 0, 0, 0, 0, 0, 0, 0, 0, 0, 0, 0, 0, 0, 0, 0, 0, 0, 0, 0, 0, 0, 0, 0, 0, 0, 0, 0, 0, 0, 0, 0, 0, 0, 0, 0, 0, 0, 0, 0, 0, 0, 0, 100, 0, 0, 0, 0, 0, 0, 0, 0, 0, 0, 0, 0, 0, 0, 0, 0, 0, 0, 0, 0, 0, 0, 0, 0, 0, 0, 0, 0, 0, 0, 0, 0, 0, 0, 0, 0, 0, 0, 0, 0, 0, 0, 0, 0, 0, 0, 0, 0, 0, 0, 0, 0, 0, 0, 0, 0, 0, 0, 0, 0, 0, 0, 0, 0, 0, 0, 0, 0, 0, 0, 0, 0, 0, 0, 0, 0, 0, 0, 0, 0, 0, 0, 0, 0]\n",
      "120 [0, 0, 0, 0, 0, 0, 0, 0, 0, 0, 0, 0, 0, 0, 0, 0, 0, 0, 0, 0, 0, 0, 0, 0, 0, 0, 0, 0, 0, 0, 0, 0, 0, 0, 0, 0, 0, 0, 0, 0, 0, 0, 0, 100, 0, 0, 0, 0, 0, 0, 0, 0, 0, 0, 0, 0, 0, 0, 0, 0, 0, 0, 0, 0, 0, 0, 0, 0, 0, 0, 0, 0, 0, 0, 0, 0, 0, 0, 0, 0, 0, 0, 0, 0, 0, 0, 0, 0, 0, 0, 0, 0, 0, 0, 0, 0, 0, 0, 0, 0, 0, 0, 0, 0, 0, 0, 0, 0, 0, 0, 0, 0, 0, 0, 0, 0, 0, 0, 0, 0, 0, 0, 0, 0, 0, 0, 0, 0] [0, 0, 0, 0, 0, 0, 0, 0, 0, 0, 0, 0, 0, 0, 0, 0, 0, 0, 0, 0, 0, 0, 0, 0, 0, 0, 0, 0, 0, 0, 0, 0, 0, 0, 0, 0, 0, 0, 0, 0, 0, 0, 0, 0, 0, 0, 0, 0, 0, 0, 0, 0, 0, 0, 0, 0, 0, 0, 0, 0, 0, 0, 0, 0, 0, 0, 0, 0, 0, 0, 0, 0, 0, 0, 0, 0, 0, 0, 0, 0, 0, 0, 0, 0, 0, 0, 0, 0, 0, 0, 0, 0, 0, 0, 0, 0, 0, 0, 0, 0, 0, 0, 0, 0, 0, 0, 0, 0, 0, 0, 0, 0, 0, 0, 0, 0, 0, 0, 0, 0, 0, 0, 0, 0, 0, 0, 0, 0]\n",
      "120 [0, 0, 0, 0, 0, 0, 0, 0, 0, 0, 0, 0, 0, 0, 0, 0, 0, 0, 0, 0, 0, 0, 0, 0, 0, 0, 0, 0, 0, 0, 0, 0, 0, 0, 0, 0, 0, 0, 0, 0, 0, 0, 0, 0, 0, 0, 0, 0, 0, 0, 0, 0, 0, 0, 0, 0, 0, 0, 0, 0, 0, 0, 0, 0, 0, 0, 0, 0, 0, 0, 0, 0, 0, 0, 0, 0, 0, 0, 0, 0, 0, 0, 0, 0, 0, 0, 0, 0, 0, 0, 0, 0, 0, 0, 0, 0, 0, 0, 0, 0, 0, 0, 0, 0, 0, 0, 0, 0, 0, 0, 0, 0, 0, 0, 0, 0, 0, 0, 0, 0, 0, 0, 0, 0, 0, 0, 0, 0] [0, 0, 0, 0, 0, 0, 0, 0, 0, 0, 0, 0, 0, 0, 0, 0, 0, 0, 0, 0, 0, 0, 0, 0, 0, 0, 0, 0, 0, 0, 0, 0, 0, 0, 0, 0, 0, 0, 0, 0, 0, 0, 0, 100, 0, 0, 0, 0, 0, 0, 0, 0, 0, 0, 0, 0, 0, 0, 0, 0, 0, 0, 0, 0, 0, 0, 0, 0, 0, 0, 0, 0, 0, 0, 0, 0, 0, 0, 0, 0, 0, 0, 0, 0, 0, 0, 0, 0, 0, 0, 0, 0, 0, 0, 0, 0, 0, 0, 0, 0, 0, 0, 0, 0, 0, 0, 0, 0, 0, 0, 0, 0, 0, 0, 0, 0, 0, 0, 0, 0, 0, 0, 0, 0, 0, 0, 0, 0]\n",
      "120 [0, 0, 0, 0, 0, 0, 0, 0, 0, 0, 0, 0, 0, 0, 0, 0, 0, 0, 0, 0, 0, 0, 0, 0, 0, 0, 0, 0, 0, 0, 0, 0, 0, 0, 0, 0, 0, 0, 0, 0, 0, 0, 0, 100, 0, 0, 0, 0, 0, 0, 0, 0, 0, 0, 0, 0, 0, 0, 0, 0, 0, 0, 0, 0, 0, 0, 0, 0, 0, 0, 0, 0, 0, 0, 0, 0, 0, 0, 0, 0, 0, 0, 0, 0, 0, 0, 0, 0, 0, 0, 0, 0, 0, 0, 0, 0, 0, 0, 0, 0, 0, 0, 0, 0, 0, 0, 0, 0, 0, 0, 0, 0, 0, 0, 0, 0, 0, 0, 0, 0, 0, 0, 0, 0, 0, 0, 0, 0] [0, 0, 0, 0, 0, 0, 0, 0, 0, 0, 0, 0, 0, 0, 0, 0, 0, 0, 0, 0, 0, 0, 0, 0, 0, 0, 0, 0, 0, 0, 0, 0, 0, 0, 0, 0, 0, 0, 0, 0, 0, 0, 0, 0, 0, 0, 0, 0, 0, 0, 0, 0, 0, 0, 0, 0, 0, 0, 0, 0, 0, 0, 0, 0, 0, 0, 0, 0, 0, 0, 0, 0, 0, 0, 0, 0, 0, 0, 0, 0, 0, 0, 0, 0, 0, 0, 0, 0, 0, 0, 0, 0, 0, 0, 0, 0, 0, 0, 0, 0, 0, 0, 0, 0, 0, 0, 0, 0, 0, 0, 0, 0, 0, 0, 0, 0, 0, 0, 0, 0, 0, 0, 0, 0, 0, 0, 0, 0]\n",
      "120 [0, 0, 0, 0, 0, 0, 0, 0, 0, 0, 0, 0, 0, 0, 0, 0, 0, 0, 0, 0, 0, 0, 0, 0, 0, 0, 0, 0, 0, 0, 0, 0, 0, 0, 0, 0, 0, 0, 0, 0, 0, 0, 0, 0, 0, 0, 0, 0, 0, 0, 0, 0, 0, 0, 0, 0, 0, 0, 0, 0, 0, 0, 0, 0, 0, 0, 0, 0, 0, 0, 0, 0, 0, 0, 0, 0, 0, 0, 0, 0, 0, 0, 0, 0, 0, 0, 0, 0, 0, 0, 0, 0, 0, 0, 0, 0, 0, 0, 0, 0, 0, 0, 0, 0, 0, 0, 0, 0, 0, 0, 0, 0, 0, 0, 0, 0, 0, 0, 0, 0, 0, 0, 0, 0, 0, 0, 0, 0] [0, 0, 0, 0, 0, 0, 0, 0, 0, 0, 0, 0, 0, 0, 0, 0, 0, 0, 0, 0, 0, 0, 0, 0, 0, 0, 0, 0, 0, 0, 0, 0, 0, 0, 0, 0, 0, 0, 0, 0, 0, 0, 0, 100, 0, 0, 0, 0, 0, 0, 0, 0, 0, 0, 0, 0, 0, 0, 0, 0, 0, 0, 0, 0, 0, 0, 0, 0, 0, 0, 0, 0, 0, 0, 0, 0, 0, 0, 0, 0, 0, 0, 0, 0, 0, 0, 0, 0, 0, 0, 0, 0, 0, 0, 0, 0, 0, 0, 0, 0, 0, 0, 0, 0, 0, 0, 0, 0, 0, 0, 0, 0, 0, 0, 0, 0, 0, 0, 0, 0, 0, 0, 0, 0, 0, 0, 0, 0]\n",
      "120 [0, 0, 0, 0, 0, 0, 0, 0, 0, 0, 0, 0, 0, 0, 0, 0, 0, 0, 0, 0, 0, 0, 0, 0, 0, 0, 0, 0, 0, 0, 0, 0, 0, 0, 0, 0, 0, 0, 0, 0, 0, 0, 0, 100, 0, 0, 0, 0, 0, 0, 0, 0, 0, 0, 0, 0, 0, 0, 0, 0, 0, 0, 0, 0, 0, 0, 0, 0, 0, 0, 0, 0, 0, 0, 0, 0, 0, 0, 0, 0, 0, 0, 0, 0, 0, 0, 0, 0, 0, 0, 0, 0, 0, 0, 0, 0, 0, 0, 0, 0, 0, 0, 0, 0, 0, 0, 0, 0, 0, 0, 0, 0, 0, 0, 0, 0, 0, 0, 0, 0, 0, 0, 0, 0, 0, 0, 0, 0] [0, 0, 0, 0, 0, 0, 0, 0, 0, 0, 0, 0, 0, 0, 0, 0, 0, 0, 0, 0, 0, 0, 0, 0, 0, 0, 0, 0, 0, 0, 0, 0, 0, 0, 0, 0, 0, 0, 0, 0, 0, 0, 0, 0, 0, 0, 0, 0, 0, 0, 0, 0, 0, 0, 0, 0, 0, 0, 0, 0, 0, 0, 0, 0, 0, 0, 0, 0, 0, 0, 0, 0, 0, 0, 0, 0, 0, 0, 0, 0, 0, 0, 0, 0, 0, 0, 0, 0, 0, 0, 0, 0, 0, 0, 0, 0, 0, 0, 0, 0, 0, 0, 0, 0, 0, 0, 0, 0, 0, 0, 0, 0, 0, 0, 0, 0, 0, 0, 0, 0, 0, 0, 0, 0, 0, 0, 0, 0]\n",
      "120 [0, 0, 0, 0, 0, 0, 0, 0, 0, 0, 0, 0, 0, 0, 0, 0, 0, 0, 0, 0, 0, 0, 0, 0, 0, 0, 0, 0, 0, 0, 0, 0, 0, 0, 0, 0, 0, 0, 0, 0, 0, 0, 0, 0, 0, 0, 0, 0, 0, 0, 0, 0, 0, 0, 0, 0, 0, 0, 0, 0, 0, 0, 0, 0, 0, 0, 0, 0, 0, 0, 0, 0, 0, 0, 0, 0, 0, 0, 0, 0, 0, 0, 0, 0, 0, 0, 0, 0, 0, 0, 0, 0, 0, 0, 0, 0, 0, 0, 0, 0, 0, 0, 0, 0, 0, 0, 0, 0, 0, 0, 0, 0, 0, 0, 0, 0, 0, 0, 0, 0, 0, 0, 0, 0, 0, 0, 0, 0] [0, 0, 0, 0, 0, 0, 0, 0, 0, 0, 0, 0, 0, 0, 0, 0, 0, 0, 0, 0, 0, 0, 0, 0, 0, 0, 0, 0, 0, 0, 0, 0, 0, 0, 0, 0, 0, 0, 0, 0, 0, 0, 0, 100, 0, 0, 0, 0, 0, 0, 0, 0, 0, 0, 0, 0, 0, 0, 0, 0, 0, 0, 0, 0, 0, 0, 0, 0, 0, 0, 0, 0, 0, 0, 0, 0, 0, 0, 0, 0, 0, 0, 0, 0, 0, 0, 0, 0, 0, 0, 0, 0, 0, 0, 0, 0, 0, 0, 0, 0, 0, 0, 0, 0, 0, 0, 0, 0, 0, 0, 0, 0, 0, 0, 0, 0, 0, 0, 0, 0, 0, 0, 0, 0, 0, 0, 0, 0]\n",
      "120 [0, 0, 0, 0, 0, 0, 0, 0, 0, 0, 0, 0, 0, 0, 0, 0, 0, 0, 0, 0, 0, 0, 0, 0, 0, 0, 0, 0, 0, 0, 0, 0, 0, 0, 0, 0, 0, 0, 0, 0, 0, 0, 0, 100, 0, 0, 0, 0, 0, 0, 0, 0, 0, 0, 0, 0, 0, 0, 0, 0, 0, 0, 0, 0, 0, 0, 0, 0, 0, 0, 0, 0, 0, 0, 0, 0, 0, 0, 0, 0, 0, 0, 0, 0, 0, 0, 0, 0, 0, 0, 0, 0, 0, 0, 0, 0, 0, 0, 0, 0, 0, 0, 0, 0, 0, 0, 0, 0, 0, 0, 0, 0, 0, 0, 0, 0, 0, 0, 0, 0, 0, 0, 0, 0, 0, 0, 0, 0] [0, 0, 0, 0, 0, 0, 0, 0, 0, 0, 0, 0, 0, 0, 0, 0, 0, 0, 0, 0, 0, 0, 0, 0, 0, 0, 0, 0, 0, 0, 0, 0, 0, 0, 0, 0, 0, 0, 0, 0, 0, 0, 0, 0, 0, 0, 0, 0, 0, 0, 0, 0, 0, 0, 0, 0, 0, 0, 0, 0, 0, 0, 0, 0, 0, 0, 0, 0, 0, 0, 0, 0, 0, 0, 0, 0, 0, 0, 0, 0, 0, 0, 0, 0, 0, 0, 0, 0, 0, 0, 0, 0, 0, 0, 0, 0, 0, 0, 0, 0, 0, 0, 0, 0, 0, 0, 0, 0, 0, 0, 0, 0, 0, 0, 0, 0, 0, 0, 0, 0, 0, 0, 0, 0, 0, 0, 0, 0]\n",
      "120 [0, 0, 0, 0, 0, 0, 0, 0, 0, 0, 0, 0, 0, 0, 0, 0, 0, 0, 0, 0, 0, 0, 0, 0, 0, 0, 0, 0, 0, 0, 0, 0, 0, 0, 0, 0, 0, 0, 0, 0, 0, 0, 0, 0, 0, 0, 0, 0, 0, 0, 0, 0, 0, 0, 0, 0, 0, 0, 0, 0, 0, 0, 0, 0, 0, 0, 0, 0, 0, 0, 0, 0, 0, 0, 0, 0, 0, 0, 0, 0, 0, 0, 0, 0, 0, 0, 0, 0, 0, 0, 0, 0, 0, 0, 0, 0, 0, 0, 0, 0, 0, 0, 0, 0, 0, 0, 0, 0, 0, 0, 0, 0, 0, 0, 0, 0, 0, 0, 0, 0, 0, 0, 0, 0, 0, 0, 0, 0] [0, 0, 0, 0, 0, 0, 0, 0, 0, 0, 0, 0, 0, 0, 0, 0, 0, 0, 0, 0, 0, 0, 0, 0, 0, 0, 0, 0, 0, 0, 0, 0, 0, 0, 0, 0, 0, 0, 0, 0, 0, 0, 0, 100, 0, 0, 0, 0, 0, 0, 0, 0, 0, 0, 0, 0, 0, 0, 0, 0, 0, 0, 0, 0, 0, 0, 0, 0, 0, 0, 0, 0, 0, 0, 0, 0, 0, 0, 0, 0, 0, 0, 0, 0, 0, 0, 0, 0, 0, 0, 0, 0, 0, 0, 0, 0, 0, 0, 0, 0, 0, 0, 0, 0, 0, 0, 0, 0, 0, 0, 0, 0, 0, 0, 0, 0, 0, 0, 0, 0, 0, 0, 0, 0, 0, 0, 0, 0]\n",
      "120 [0, 0, 0, 0, 0, 0, 0, 0, 0, 0, 0, 0, 0, 0, 0, 0, 0, 0, 0, 0, 0, 0, 0, 0, 0, 0, 0, 0, 0, 0, 0, 0, 0, 0, 0, 0, 0, 0, 0, 0, 0, 0, 0, 100, 0, 0, 0, 0, 0, 0, 0, 0, 0, 0, 0, 0, 0, 0, 0, 0, 0, 0, 0, 0, 0, 0, 0, 0, 0, 0, 0, 0, 0, 0, 0, 0, 0, 0, 0, 0, 0, 0, 0, 0, 0, 0, 0, 0, 0, 0, 0, 0, 0, 0, 0, 0, 0, 0, 0, 0, 0, 0, 0, 0, 0, 0, 0, 0, 0, 0, 0, 0, 0, 0, 0, 0, 0, 0, 0, 0, 0, 0, 0, 0, 0, 0, 0, 0] [0, 0, 0, 0, 0, 0, 0, 0, 0, 0, 0, 0, 0, 0, 0, 0, 0, 0, 0, 0, 0, 0, 0, 0, 0, 0, 0, 0, 0, 0, 0, 0, 0, 0, 0, 0, 0, 0, 0, 0, 0, 0, 0, 0, 0, 0, 0, 0, 0, 0, 0, 0, 0, 0, 0, 0, 0, 0, 0, 0, 0, 0, 0, 0, 0, 0, 0, 0, 0, 0, 0, 0, 0, 0, 0, 0, 0, 0, 0, 0, 0, 0, 0, 0, 0, 0, 0, 0, 0, 0, 0, 0, 0, 0, 0, 0, 0, 0, 0, 0, 0, 0, 0, 0, 0, 0, 0, 0, 0, 0, 0, 0, 0, 0, 0, 0, 0, 0, 0, 0, 0, 0, 0, 0, 0, 0, 0, 0]\n",
      "120 [0, 0, 0, 0, 0, 0, 0, 0, 0, 0, 0, 0, 0, 0, 0, 0, 0, 0, 0, 0, 0, 0, 0, 0, 0, 0, 0, 0, 0, 0, 0, 0, 0, 0, 0, 0, 0, 0, 0, 0, 0, 0, 0, 0, 0, 0, 0, 0, 0, 0, 0, 0, 0, 0, 0, 0, 0, 0, 0, 0, 0, 0, 0, 0, 0, 0, 0, 0, 0, 0, 0, 0, 0, 0, 0, 0, 0, 0, 0, 0, 0, 0, 0, 0, 0, 0, 0, 0, 0, 0, 0, 0, 0, 0, 0, 0, 0, 0, 0, 0, 0, 0, 0, 0, 0, 0, 0, 0, 0, 0, 0, 0, 0, 0, 0, 0, 0, 0, 0, 0, 0, 0, 0, 0, 0, 0, 0, 0] [0, 0, 0, 0, 0, 0, 0, 0, 0, 0, 0, 0, 0, 0, 0, 0, 0, 0, 0, 0, 0, 0, 0, 0, 0, 0, 0, 0, 0, 0, 0, 0, 0, 0, 0, 0, 0, 0, 0, 0, 0, 0, 0, 100, 0, 0, 0, 0, 0, 0, 0, 0, 0, 0, 0, 0, 0, 0, 0, 0, 0, 0, 0, 0, 0, 0, 0, 0, 0, 0, 0, 0, 0, 0, 0, 0, 0, 0, 0, 0, 0, 0, 0, 0, 0, 0, 0, 0, 0, 0, 0, 0, 0, 0, 0, 0, 0, 0, 0, 0, 0, 0, 0, 0, 0, 0, 0, 0, 0, 0, 0, 0, 0, 0, 0, 0, 0, 0, 0, 0, 0, 0, 0, 0, 0, 0, 0, 0]\n",
      "120 [0, 0, 0, 0, 0, 0, 0, 0, 0, 0, 0, 0, 0, 0, 0, 0, 0, 0, 0, 0, 0, 0, 0, 0, 0, 0, 0, 0, 0, 0, 0, 0, 0, 0, 0, 0, 0, 0, 0, 0, 0, 0, 0, 100, 0, 0, 0, 0, 0, 0, 0, 0, 0, 0, 0, 0, 0, 0, 0, 0, 0, 0, 0, 0, 0, 0, 0, 0, 0, 0, 0, 0, 0, 0, 0, 0, 0, 0, 0, 0, 0, 0, 0, 0, 0, 0, 0, 0, 0, 0, 0, 0, 0, 0, 0, 0, 0, 0, 0, 0, 0, 0, 0, 0, 0, 0, 0, 0, 0, 0, 0, 0, 0, 0, 0, 0, 0, 0, 0, 0, 0, 0, 0, 0, 0, 0, 0, 0] [0, 0, 0, 0, 0, 0, 0, 0, 0, 0, 0, 0, 0, 0, 0, 0, 0, 0, 0, 0, 0, 0, 0, 0, 0, 0, 0, 0, 0, 0, 0, 0, 0, 0, 0, 0, 0, 0, 0, 0, 0, 0, 0, 0, 0, 0, 0, 0, 0, 0, 0, 0, 0, 0, 0, 0, 0, 0, 0, 0, 0, 0, 0, 0, 0, 0, 0, 0, 0, 0, 0, 0, 0, 0, 0, 0, 0, 0, 0, 0, 0, 0, 0, 0, 0, 0, 0, 0, 0, 0, 0, 0, 0, 0, 0, 0, 0, 0, 0, 0, 0, 0, 0, 0, 0, 0, 0, 0, 0, 0, 0, 0, 0, 0, 0, 0, 0, 0, 0, 0, 0, 0, 0, 0, 0, 0, 0, 0]\n",
      "120 [0, 0, 0, 0, 0, 0, 0, 0, 0, 0, 0, 0, 0, 0, 0, 0, 0, 0, 0, 0, 0, 0, 0, 0, 0, 0, 0, 0, 0, 0, 0, 0, 0, 0, 0, 0, 0, 0, 0, 0, 0, 0, 0, 0, 0, 0, 0, 0, 0, 0, 0, 0, 0, 0, 0, 0, 0, 0, 0, 0, 0, 0, 0, 0, 0, 0, 0, 0, 0, 0, 0, 0, 0, 0, 0, 0, 0, 0, 0, 0, 0, 0, 0, 0, 0, 0, 0, 0, 0, 0, 0, 0, 0, 0, 0, 0, 0, 0, 0, 0, 0, 0, 0, 0, 0, 0, 0, 0, 0, 0, 0, 0, 0, 0, 0, 0, 0, 0, 0, 0, 0, 0, 0, 0, 0, 0, 0, 0] [0, 0, 0, 0, 0, 0, 0, 0, 0, 0, 0, 0, 0, 0, 0, 0, 0, 0, 0, 0, 0, 0, 0, 0, 0, 0, 0, 0, 0, 0, 0, 0, 0, 0, 0, 0, 0, 0, 0, 0, 0, 0, 0, 100, 0, 0, 0, 0, 0, 0, 0, 0, 0, 0, 0, 0, 0, 0, 0, 0, 0, 0, 0, 0, 0, 0, 0, 0, 0, 0, 0, 0, 0, 0, 0, 0, 0, 0, 0, 0, 0, 0, 0, 0, 0, 0, 0, 0, 0, 0, 0, 0, 0, 0, 0, 0, 0, 0, 0, 0, 0, 0, 0, 0, 0, 0, 0, 0, 0, 0, 0, 0, 0, 0, 0, 0, 0, 0, 0, 0, 0, 0, 0, 0, 0, 0, 0, 0]\n",
      "120 [0, 0, 0, 0, 0, 0, 0, 0, 0, 0, 0, 0, 0, 0, 0, 0, 0, 0, 0, 0, 0, 0, 0, 0, 0, 0, 0, 0, 0, 0, 0, 0, 0, 0, 0, 0, 0, 0, 0, 0, 0, 0, 0, 100, 0, 0, 0, 0, 0, 0, 0, 0, 0, 0, 0, 0, 0, 0, 0, 0, 0, 0, 0, 0, 0, 0, 0, 0, 0, 0, 0, 0, 0, 0, 0, 0, 0, 0, 0, 0, 0, 0, 0, 0, 0, 0, 0, 0, 0, 0, 0, 0, 0, 0, 0, 0, 0, 0, 0, 0, 0, 0, 0, 0, 0, 0, 0, 0, 0, 0, 0, 0, 0, 0, 0, 0, 0, 0, 0, 0, 0, 0, 0, 0, 0, 0, 0, 0] [0, 0, 0, 0, 0, 0, 0, 0, 0, 0, 0, 0, 0, 0, 0, 0, 0, 0, 0, 0, 0, 0, 0, 0, 0, 0, 0, 0, 0, 0, 0, 0, 0, 0, 0, 0, 0, 0, 0, 0, 0, 0, 0, 0, 0, 0, 0, 0, 0, 0, 0, 0, 0, 0, 0, 0, 0, 0, 0, 0, 0, 0, 0, 0, 0, 0, 0, 0, 0, 0, 0, 0, 0, 0, 0, 0, 0, 0, 0, 0, 0, 0, 0, 0, 0, 0, 0, 0, 0, 0, 0, 0, 0, 0, 0, 0, 0, 0, 0, 0, 0, 0, 0, 0, 0, 0, 0, 0, 0, 0, 0, 0, 0, 0, 0, 0, 0, 0, 0, 0, 0, 0, 0, 0, 0, 0, 0, 0]\n",
      "120 [0, 0, 0, 0, 0, 0, 0, 0, 0, 0, 0, 0, 0, 0, 0, 0, 0, 0, 0, 0, 0, 0, 0, 0, 0, 0, 0, 0, 0, 0, 0, 0, 0, 0, 0, 0, 0, 0, 0, 0, 0, 0, 0, 0, 0, 0, 0, 0, 0, 0, 0, 0, 0, 0, 0, 0, 0, 0, 0, 0, 0, 0, 0, 0, 0, 0, 0, 0, 0, 0, 0, 0, 0, 0, 0, 0, 0, 0, 0, 0, 0, 0, 0, 0, 0, 0, 0, 0, 0, 0, 0, 0, 0, 0, 0, 0, 0, 0, 0, 0, 0, 0, 0, 0, 0, 0, 0, 0, 0, 0, 0, 0, 0, 0, 0, 0, 0, 0, 0, 0, 0, 0, 0, 0, 0, 0, 0, 0] [0, 0, 0, 0, 0, 0, 0, 0, 0, 0, 0, 0, 0, 0, 0, 0, 0, 0, 0, 0, 0, 0, 0, 0, 0, 0, 0, 0, 0, 0, 0, 0, 0, 0, 0, 0, 0, 0, 0, 0, 0, 0, 0, 100, 0, 0, 0, 0, 0, 0, 0, 0, 0, 0, 0, 0, 0, 0, 0, 0, 0, 0, 0, 0, 0, 0, 0, 0, 0, 0, 0, 0, 0, 0, 0, 0, 0, 0, 0, 0, 0, 0, 0, 0, 0, 0, 0, 0, 0, 0, 0, 0, 0, 0, 0, 0, 0, 0, 0, 0, 0, 0, 0, 0, 0, 0, 0, 0, 0, 0, 0, 0, 0, 0, 0, 0, 0, 0, 0, 0, 0, 0, 0, 0, 0, 0, 0, 0]\n",
      "120 [0, 0, 0, 0, 0, 0, 0, 0, 0, 0, 0, 0, 0, 0, 0, 0, 0, 0, 0, 0, 0, 0, 0, 0, 0, 0, 0, 0, 0, 0, 0, 0, 0, 0, 0, 0, 0, 0, 0, 0, 0, 0, 0, 100, 0, 0, 0, 0, 0, 0, 0, 0, 0, 0, 0, 0, 0, 0, 0, 0, 0, 0, 0, 0, 0, 0, 0, 0, 0, 0, 0, 0, 0, 0, 0, 0, 0, 0, 0, 0, 0, 0, 0, 0, 0, 0, 0, 0, 0, 0, 0, 0, 0, 0, 0, 0, 0, 0, 0, 0, 0, 0, 0, 0, 0, 0, 0, 0, 0, 0, 0, 0, 0, 0, 0, 0, 0, 0, 0, 0, 0, 0, 0, 0, 0, 0, 0, 0] [0, 0, 0, 0, 0, 0, 0, 0, 0, 0, 0, 0, 0, 0, 0, 0, 0, 0, 0, 0, 0, 0, 0, 0, 0, 0, 0, 0, 0, 0, 0, 0, 0, 0, 0, 0, 0, 0, 0, 0, 0, 0, 0, 0, 0, 0, 0, 0, 0, 0, 0, 0, 0, 0, 0, 0, 0, 0, 0, 0, 0, 0, 0, 0, 0, 0, 0, 0, 0, 0, 0, 0, 0, 0, 0, 0, 0, 0, 0, 0, 0, 0, 0, 0, 0, 0, 0, 0, 0, 0, 0, 0, 0, 0, 0, 0, 0, 0, 0, 0, 0, 0, 0, 0, 0, 0, 0, 0, 0, 0, 0, 0, 0, 0, 0, 0, 0, 0, 0, 0, 0, 0, 0, 0, 0, 0, 0, 0]\n",
      "120 [0, 0, 0, 0, 0, 0, 0, 0, 0, 0, 0, 0, 0, 0, 0, 0, 0, 0, 0, 0, 0, 0, 0, 0, 0, 0, 0, 0, 0, 0, 0, 0, 0, 0, 0, 0, 0, 0, 0, 0, 0, 0, 0, 0, 0, 0, 0, 0, 0, 0, 0, 0, 0, 0, 0, 0, 0, 0, 0, 0, 0, 0, 0, 0, 0, 0, 0, 0, 0, 0, 0, 0, 0, 0, 0, 0, 0, 0, 0, 0, 0, 0, 0, 0, 0, 0, 0, 0, 0, 0, 0, 0, 0, 0, 0, 0, 0, 0, 0, 0, 0, 0, 0, 0, 0, 0, 0, 0, 0, 0, 0, 0, 0, 0, 0, 0, 0, 0, 0, 0, 0, 0, 0, 0, 0, 0, 0, 0] [0, 0, 0, 0, 0, 0, 0, 0, 0, 0, 0, 0, 0, 0, 0, 0, 0, 0, 0, 0, 0, 0, 0, 0, 0, 0, 0, 0, 0, 0, 0, 0, 0, 0, 0, 0, 0, 0, 0, 0, 0, 0, 0, 100, 0, 0, 0, 0, 0, 0, 0, 0, 0, 0, 0, 0, 0, 0, 0, 0, 0, 0, 0, 0, 0, 0, 0, 0, 0, 0, 0, 0, 0, 0, 0, 0, 0, 0, 0, 0, 0, 0, 0, 0, 0, 0, 0, 0, 0, 0, 0, 0, 0, 0, 0, 0, 0, 0, 0, 0, 0, 0, 0, 0, 0, 0, 0, 0, 0, 0, 0, 0, 0, 0, 0, 0, 0, 0, 0, 0, 0, 0, 0, 0, 0, 0, 0, 0]\n",
      "120 [0, 0, 0, 0, 0, 0, 0, 0, 0, 0, 0, 0, 0, 0, 0, 0, 0, 0, 0, 0, 0, 0, 0, 0, 0, 0, 0, 0, 0, 0, 0, 0, 0, 0, 0, 0, 0, 0, 0, 0, 0, 0, 0, 100, 0, 0, 0, 0, 0, 0, 0, 0, 0, 0, 0, 0, 0, 0, 0, 0, 0, 0, 0, 0, 0, 0, 0, 0, 0, 0, 0, 0, 0, 0, 0, 0, 0, 0, 0, 0, 0, 0, 0, 0, 0, 0, 0, 0, 0, 0, 0, 0, 0, 0, 0, 0, 0, 0, 0, 0, 0, 0, 0, 0, 0, 0, 0, 0, 0, 0, 0, 0, 0, 0, 0, 0, 0, 0, 0, 0, 0, 0, 0, 0, 0, 0, 0, 0] [0, 0, 0, 0, 0, 0, 0, 0, 0, 0, 0, 0, 0, 0, 0, 0, 0, 0, 0, 0, 0, 0, 0, 0, 0, 0, 0, 0, 0, 0, 0, 0, 0, 0, 0, 0, 0, 0, 0, 0, 0, 0, 0, 0, 0, 0, 0, 0, 0, 0, 0, 0, 0, 0, 0, 0, 0, 0, 0, 0, 0, 0, 0, 0, 0, 0, 0, 0, 0, 0, 0, 0, 0, 0, 0, 0, 0, 0, 0, 0, 0, 0, 0, 0, 0, 0, 0, 0, 0, 0, 0, 0, 0, 0, 0, 0, 0, 0, 0, 0, 0, 0, 0, 0, 0, 0, 0, 0, 0, 0, 0, 0, 0, 0, 0, 0, 0, 0, 0, 0, 0, 0, 0, 0, 0, 0, 0, 0]\n",
      "120 [0, 0, 0, 0, 0, 0, 0, 0, 0, 0, 0, 0, 0, 0, 0, 0, 0, 0, 0, 0, 0, 0, 0, 0, 0, 0, 0, 0, 0, 0, 0, 0, 0, 0, 0, 0, 0, 0, 0, 0, 0, 0, 0, 0, 0, 0, 0, 0, 0, 0, 0, 0, 0, 0, 0, 0, 0, 0, 0, 0, 0, 0, 0, 0, 0, 0, 0, 0, 0, 0, 0, 0, 0, 0, 0, 0, 0, 0, 0, 0, 0, 0, 0, 0, 0, 0, 0, 0, 0, 0, 0, 0, 0, 0, 0, 0, 0, 0, 0, 0, 0, 0, 0, 0, 0, 0, 0, 0, 0, 0, 0, 0, 0, 0, 0, 0, 0, 0, 0, 0, 0, 0, 0, 0, 0, 0, 0, 0] [0, 0, 0, 0, 0, 0, 0, 0, 0, 0, 0, 0, 0, 0, 0, 0, 0, 0, 0, 0, 0, 0, 0, 0, 0, 0, 0, 0, 0, 0, 0, 0, 0, 0, 0, 0, 0, 0, 0, 0, 0, 0, 0, 100, 0, 0, 0, 0, 0, 0, 0, 0, 0, 0, 0, 0, 0, 0, 0, 0, 0, 0, 0, 0, 0, 0, 0, 0, 0, 0, 0, 0, 0, 0, 0, 0, 0, 0, 0, 0, 0, 0, 0, 0, 0, 0, 0, 0, 0, 0, 0, 0, 0, 0, 0, 0, 0, 0, 0, 0, 0, 0, 0, 0, 0, 0, 0, 0, 0, 0, 0, 0, 0, 0, 0, 0, 0, 0, 0, 0, 0, 0, 0, 0, 0, 0, 0, 0]\n",
      "120 [0, 0, 0, 0, 0, 0, 0, 0, 0, 0, 0, 0, 0, 0, 0, 0, 0, 0, 0, 0, 0, 0, 0, 0, 0, 0, 0, 0, 0, 0, 0, 0, 0, 0, 0, 0, 0, 0, 0, 0, 0, 0, 0, 100, 0, 0, 0, 0, 0, 0, 0, 0, 0, 0, 0, 0, 0, 0, 0, 0, 0, 0, 0, 0, 0, 0, 0, 0, 0, 0, 0, 0, 0, 0, 0, 0, 0, 0, 0, 0, 0, 0, 0, 0, 0, 0, 0, 0, 0, 0, 0, 0, 0, 0, 0, 0, 0, 0, 0, 0, 0, 0, 0, 0, 0, 0, 0, 0, 0, 0, 0, 0, 0, 0, 0, 0, 0, 0, 0, 0, 0, 0, 0, 0, 0, 0, 0, 0] [0, 0, 0, 0, 0, 0, 0, 0, 0, 0, 0, 0, 0, 0, 0, 0, 0, 0, 0, 0, 0, 0, 0, 0, 0, 0, 0, 0, 0, 0, 0, 0, 0, 0, 0, 0, 0, 0, 0, 0, 0, 0, 0, 0, 0, 0, 0, 0, 0, 0, 0, 0, 0, 0, 0, 0, 0, 0, 0, 0, 0, 0, 0, 0, 0, 0, 0, 0, 0, 0, 0, 0, 0, 0, 0, 0, 0, 0, 0, 0, 0, 0, 0, 0, 0, 0, 0, 0, 0, 0, 0, 0, 0, 0, 0, 0, 0, 0, 0, 0, 0, 0, 0, 0, 0, 0, 0, 0, 0, 0, 0, 0, 0, 0, 0, 0, 0, 0, 0, 0, 0, 0, 0, 0, 0, 0, 0, 0]\n",
      "120 [0, 0, 0, 0, 0, 0, 0, 0, 0, 0, 0, 0, 0, 0, 0, 0, 0, 0, 0, 0, 0, 0, 0, 0, 0, 0, 0, 0, 0, 0, 0, 0, 0, 0, 0, 0, 0, 0, 0, 0, 0, 0, 0, 0, 0, 0, 0, 0, 0, 0, 0, 0, 0, 0, 0, 0, 0, 0, 0, 0, 0, 0, 0, 0, 0, 0, 0, 0, 0, 0, 0, 0, 0, 0, 0, 0, 0, 0, 0, 0, 0, 0, 0, 0, 0, 0, 0, 0, 0, 0, 0, 0, 0, 0, 0, 0, 0, 0, 0, 0, 0, 0, 0, 0, 0, 0, 0, 0, 0, 0, 0, 0, 0, 0, 0, 0, 0, 0, 0, 0, 0, 0, 0, 0, 0, 0, 0, 0] [0, 0, 0, 0, 0, 0, 0, 0, 0, 0, 0, 0, 0, 0, 0, 0, 0, 0, 0, 0, 0, 0, 0, 0, 0, 0, 0, 0, 0, 0, 0, 0, 0, 0, 0, 0, 0, 0, 0, 0, 0, 0, 0, 100, 0, 0, 0, 0, 0, 0, 0, 0, 0, 0, 0, 0, 0, 0, 0, 0, 0, 0, 0, 0, 0, 0, 0, 0, 0, 0, 0, 0, 0, 0, 0, 0, 0, 0, 0, 0, 0, 0, 0, 0, 0, 0, 0, 0, 0, 0, 0, 0, 0, 0, 0, 0, 0, 0, 0, 0, 0, 0, 0, 0, 0, 0, 0, 0, 0, 0, 0, 0, 0, 0, 0, 0, 0, 0, 0, 0, 0, 0, 0, 0, 0, 0, 0, 0]\n",
      "120 [0, 0, 0, 0, 0, 0, 0, 0, 0, 0, 0, 0, 0, 0, 0, 0, 0, 0, 0, 0, 0, 0, 0, 0, 0, 0, 0, 0, 0, 0, 0, 0, 0, 0, 0, 0, 0, 0, 0, 0, 0, 0, 0, 100, 0, 0, 0, 0, 0, 0, 0, 0, 0, 0, 0, 0, 0, 0, 0, 0, 0, 0, 0, 0, 0, 0, 0, 0, 0, 0, 0, 0, 0, 0, 0, 0, 0, 0, 0, 0, 0, 0, 0, 0, 0, 0, 0, 0, 0, 0, 0, 0, 0, 0, 0, 0, 0, 0, 0, 0, 0, 0, 0, 0, 0, 0, 0, 0, 0, 0, 0, 0, 0, 0, 0, 0, 0, 0, 0, 0, 0, 0, 0, 0, 0, 0, 0, 0] [0, 0, 0, 0, 0, 0, 0, 0, 0, 0, 0, 0, 0, 0, 0, 0, 0, 0, 0, 0, 0, 0, 0, 0, 0, 0, 0, 0, 0, 0, 0, 0, 0, 0, 0, 0, 0, 0, 0, 0, 0, 0, 0, 0, 0, 0, 0, 0, 0, 0, 0, 0, 0, 0, 0, 0, 0, 0, 0, 0, 0, 0, 0, 0, 0, 0, 0, 0, 0, 0, 0, 0, 0, 0, 0, 0, 0, 0, 0, 0, 0, 0, 0, 0, 0, 0, 0, 0, 0, 0, 0, 0, 0, 0, 0, 0, 0, 0, 0, 0, 0, 0, 0, 0, 0, 0, 0, 0, 0, 0, 0, 0, 0, 0, 0, 0, 0, 0, 0, 0, 0, 0, 0, 0, 0, 0, 0, 0]\n",
      "120 [0, 0, 0, 0, 0, 0, 0, 0, 0, 0, 0, 0, 0, 0, 0, 0, 0, 0, 0, 0, 0, 0, 0, 0, 0, 0, 0, 0, 0, 0, 0, 0, 0, 0, 0, 0, 0, 0, 0, 0, 0, 0, 0, 0, 0, 0, 0, 0, 0, 0, 0, 0, 0, 0, 0, 0, 0, 0, 0, 0, 0, 0, 0, 0, 0, 0, 0, 0, 0, 0, 0, 0, 0, 0, 0, 0, 0, 0, 0, 0, 0, 0, 0, 0, 0, 0, 0, 0, 0, 0, 0, 0, 0, 0, 0, 0, 0, 0, 0, 0, 0, 0, 0, 0, 0, 0, 0, 0, 0, 0, 0, 0, 0, 0, 0, 0, 0, 0, 0, 0, 0, 0, 0, 0, 0, 0, 0, 0] [0, 0, 0, 0, 0, 0, 0, 0, 0, 0, 0, 0, 0, 0, 0, 0, 0, 0, 0, 0, 0, 0, 0, 0, 0, 0, 0, 0, 0, 0, 0, 0, 0, 0, 0, 0, 0, 0, 0, 0, 0, 0, 0, 100, 0, 0, 0, 0, 0, 0, 0, 0, 0, 0, 0, 0, 0, 0, 0, 0, 0, 0, 0, 0, 0, 0, 0, 0, 0, 0, 0, 0, 0, 0, 0, 0, 0, 0, 0, 0, 0, 0, 0, 0, 0, 0, 0, 0, 0, 0, 0, 0, 0, 0, 0, 0, 0, 0, 0, 0, 0, 0, 0, 0, 0, 0, 0, 0, 0, 0, 0, 0, 0, 0, 0, 0, 0, 0, 0, 0, 0, 0, 0, 0, 0, 0, 0, 0]\n",
      "120 [0, 0, 0, 0, 0, 0, 0, 0, 0, 0, 0, 0, 0, 0, 0, 0, 0, 0, 0, 0, 0, 0, 0, 0, 0, 0, 0, 0, 0, 0, 0, 0, 0, 0, 0, 0, 0, 0, 0, 0, 0, 0, 0, 100, 0, 0, 0, 0, 0, 0, 0, 0, 0, 0, 0, 0, 0, 0, 0, 0, 0, 0, 0, 0, 0, 0, 0, 0, 0, 0, 0, 0, 0, 0, 0, 0, 0, 0, 0, 0, 0, 0, 0, 0, 0, 0, 0, 0, 0, 0, 0, 0, 0, 0, 0, 0, 0, 0, 0, 0, 0, 0, 0, 0, 0, 0, 0, 0, 0, 0, 0, 0, 0, 0, 0, 0, 0, 0, 0, 0, 0, 0, 0, 0, 0, 0, 0, 0] [0, 0, 0, 0, 0, 0, 0, 0, 0, 0, 0, 0, 0, 0, 0, 0, 0, 0, 0, 0, 0, 0, 0, 0, 0, 0, 0, 0, 0, 0, 0, 0, 0, 0, 0, 0, 0, 0, 0, 0, 0, 0, 0, 0, 0, 0, 0, 0, 0, 0, 0, 0, 0, 0, 0, 0, 0, 0, 0, 0, 0, 0, 0, 0, 0, 0, 0, 0, 0, 0, 0, 0, 0, 0, 0, 0, 0, 0, 0, 0, 0, 0, 0, 0, 0, 0, 0, 0, 0, 0, 0, 0, 0, 0, 0, 0, 0, 0, 0, 0, 0, 0, 0, 0, 0, 0, 0, 0, 0, 0, 0, 0, 0, 0, 0, 0, 0, 0, 0, 0, 0, 0, 0, 0, 0, 0, 0, 0]\n",
      "240 [0, 0, 0, 0, 0, 0, 0, 0, 0, 0, 0, 0, 0, 0, 0, 0, 0, 0, 0, 0, 0, 0, 0, 0, 0, 0, 0, 0, 0, 0, 0, 0, 0, 0, 0, 0, 0, 0, 0, 0, 0, 0, 0, 100, 0, 0, 0, 0, 0, 0, 0, 0, 0, 0, 0, 0, 0, 0, 0, 0, 0, 0, 0, 0, 0, 0, 0, 0, 0, 0, 0, 0, 0, 0, 0, 0, 0, 0, 0, 0, 0, 0, 0, 0, 0, 0, 0, 0, 0, 0, 0, 0, 0, 0, 0, 0, 0, 0, 0, 0, 0, 0, 0, 0, 0, 0, 0, 0, 0, 0, 0, 0, 0, 0, 0, 0, 0, 0, 0, 0, 0, 0, 0, 0, 0, 0, 0, 0] [0, 0, 0, 0, 0, 0, 0, 0, 0, 0, 0, 0, 0, 0, 0, 0, 0, 0, 0, 0, 0, 0, 0, 0, 0, 0, 0, 0, 0, 0, 0, 0, 0, 0, 0, 0, 0, 0, 0, 0, 0, 0, 0, 0, 0, 0, 0, 0, 0, 0, 0, 0, 0, 0, 0, 0, 0, 0, 0, 0, 0, 0, 0, 0, 0, 0, 0, 0, 0, 0, 0, 0, 0, 0, 0, 0, 0, 0, 0, 0, 0, 0, 0, 0, 0, 0, 0, 0, 0, 0, 0, 0, 0, 0, 0, 0, 0, 0, 0, 0, 0, 0, 0, 0, 0, 0, 0, 0, 0, 0, 0, 0, 0, 0, 0, 0, 0, 0, 0, 0, 0, 0, 0, 0, 0, 0, 0, 0]\n",
      "1200 [0, 0, 0, 0, 0, 0, 0, 0, 0, 0, 0, 0, 0, 0, 0, 0, 0, 0, 0, 0, 0, 0, 0, 0, 0, 0, 0, 0, 0, 0, 0, 0, 0, 0, 0, 0, 0, 0, 0, 0, 0, 0, 0, 0, 0, 0, 0, 0, 0, 0, 0, 0, 0, 0, 0, 0, 0, 0, 0, 0, 0, 0, 0, 0, 0, 0, 0, 0, 0, 0, 0, 0, 0, 0, 0, 0, 0, 0, 0, 0, 0, 0, 0, 0, 0, 0, 0, 0, 0, 0, 0, 0, 0, 0, 0, 0, 0, 0, 0, 0, 0, 0, 0, 0, 0, 0, 0, 0, 0, 0, 0, 0, 0, 0, 0, 0, 0, 0, 0, 0, 0, 0, 0, 0, 0, 0, 0, 0] [0, 0, 0, 0, 0, 0, 0, 0, 0, 0, 0, 0, 0, 0, 0, 0, 0, 0, 0, 0, 0, 0, 0, 0, 0, 0, 0, 0, 0, 0, 0, 0, 0, 0, 0, 0, 0, 0, 0, 0, 0, 0, 0, 100, 0, 0, 0, 0, 0, 0, 0, 0, 0, 0, 0, 0, 0, 0, 0, 0, 0, 0, 0, 0, 0, 0, 0, 0, 0, 0, 0, 0, 0, 0, 0, 0, 0, 0, 0, 0, 0, 0, 0, 0, 0, 0, 0, 0, 0, 0, 0, 0, 0, 0, 0, 0, 0, 0, 0, 0, 0, 0, 0, 0, 0, 0, 0, 0, 0, 0, 0, 0, 0, 0, 0, 0, 0, 0, 0, 0, 0, 0, 0, 0, 0, 0, 0, 0]\n",
      "240 [0, 0, 0, 0, 0, 0, 0, 0, 0, 0, 0, 0, 0, 0, 0, 0, 0, 0, 0, 0, 0, 0, 0, 0, 0, 0, 0, 0, 0, 0, 0, 0, 0, 0, 0, 0, 0, 0, 0, 0, 0, 0, 0, 100, 0, 0, 0, 0, 0, 0, 0, 0, 0, 0, 0, 0, 0, 0, 0, 0, 0, 0, 0, 0, 0, 0, 0, 0, 0, 0, 0, 0, 0, 0, 0, 0, 0, 0, 0, 0, 0, 0, 0, 0, 0, 0, 0, 0, 0, 0, 0, 0, 0, 0, 0, 0, 0, 0, 0, 0, 0, 0, 0, 0, 0, 0, 0, 0, 0, 0, 0, 0, 0, 0, 0, 0, 0, 0, 0, 0, 0, 0, 0, 0, 0, 0, 0, 0] [0, 0, 0, 0, 0, 0, 0, 0, 0, 0, 0, 0, 0, 0, 0, 0, 0, 0, 0, 0, 0, 0, 0, 0, 0, 0, 0, 0, 0, 0, 0, 0, 0, 0, 0, 0, 0, 0, 0, 0, 0, 0, 0, 0, 0, 0, 0, 0, 0, 0, 0, 0, 0, 0, 0, 0, 0, 0, 0, 0, 0, 0, 0, 0, 0, 0, 0, 0, 0, 0, 0, 0, 0, 0, 0, 0, 0, 0, 0, 0, 0, 0, 0, 0, 0, 0, 0, 0, 0, 0, 0, 0, 0, 0, 0, 0, 0, 0, 0, 0, 0, 0, 0, 0, 0, 0, 0, 0, 0, 0, 0, 0, 0, 0, 0, 0, 0, 0, 0, 0, 0, 0, 0, 0, 0, 0, 0, 0]\n",
      "14880 [0, 0, 0, 0, 0, 0, 0, 0, 0, 0, 0, 0, 0, 0, 0, 0, 0, 0, 0, 0, 0, 0, 0, 0, 0, 0, 0, 0, 0, 0, 0, 0, 0, 0, 0, 0, 0, 0, 0, 0, 0, 0, 0, 0, 0, 0, 0, 0, 0, 0, 0, 0, 0, 0, 0, 0, 0, 0, 0, 0, 0, 0, 0, 0, 0, 0, 0, 0, 0, 0, 0, 0, 0, 0, 0, 0, 0, 0, 0, 0, 0, 0, 0, 0, 0, 0, 0, 0, 0, 0, 0, 0, 0, 0, 0, 0, 0, 0, 0, 0, 0, 0, 0, 0, 0, 0, 0, 0, 0, 0, 0, 0, 0, 0, 0, 0, 0, 0, 0, 0, 0, 0, 0, 0, 0, 0, 0, 0] [0, 0, 0, 0, 0, 0, 0, 0, 0, 0, 0, 0, 0, 0, 0, 0, 0, 0, 0, 0, 0, 0, 0, 0, 0, 0, 0, 0, 0, 0, 0, 0, 0, 0, 0, 0, 0, 0, 0, 0, 0, 0, 0, 100, 0, 0, 0, 0, 0, 0, 0, 0, 0, 0, 0, 0, 0, 0, 0, 0, 0, 0, 0, 0, 0, 0, 0, 0, 0, 0, 0, 0, 0, 0, 0, 0, 0, 0, 0, 0, 0, 0, 0, 0, 0, 0, 0, 0, 0, 0, 0, 0, 0, 0, 0, 0, 0, 0, 0, 0, 0, 0, 0, 0, 0, 0, 0, 0, 0, 0, 0, 0, 0, 0, 0, 0, 0, 0, 0, 0, 0, 0, 0, 0, 0, 0, 0, 0]\n",
      "480 [0, 0, 0, 0, 0, 0, 0, 0, 0, 0, 0, 0, 0, 0, 0, 0, 0, 0, 0, 0, 0, 0, 0, 0, 0, 0, 0, 0, 0, 0, 0, 0, 0, 0, 0, 0, 0, 0, 0, 0, 0, 0, 0, 100, 0, 0, 0, 0, 0, 0, 0, 0, 0, 0, 0, 0, 0, 0, 0, 0, 0, 0, 0, 0, 0, 0, 0, 0, 0, 0, 0, 0, 0, 0, 0, 0, 0, 0, 0, 0, 0, 0, 0, 0, 0, 0, 0, 0, 0, 0, 0, 0, 0, 0, 0, 0, 0, 0, 0, 0, 0, 0, 0, 0, 0, 0, 0, 0, 0, 0, 0, 0, 0, 0, 0, 0, 0, 0, 0, 0, 0, 0, 0, 0, 0, 0, 0, 0] [0, 0, 0, 0, 0, 0, 0, 0, 0, 0, 0, 0, 0, 0, 0, 0, 0, 0, 0, 0, 0, 0, 0, 0, 0, 0, 0, 0, 0, 0, 0, 0, 0, 0, 0, 0, 0, 0, 0, 0, 0, 0, 0, 0, 0, 0, 0, 0, 0, 0, 0, 0, 0, 0, 0, 0, 0, 0, 0, 0, 0, 0, 0, 0, 0, 0, 0, 0, 0, 0, 0, 0, 0, 0, 0, 0, 0, 0, 0, 0, 0, 0, 0, 0, 0, 0, 0, 0, 0, 0, 0, 0, 0, 0, 0, 0, 0, 0, 0, 0, 0, 0, 0, 0, 0, 0, 0, 0, 0, 0, 0, 0, 0, 0, 0, 0, 0, 0, 0, 0, 0, 0, 0, 0, 0, 0, 0, 0]\n",
      "23400 [0, 0, 0, 0, 0, 0, 0, 0, 0, 0, 0, 0, 0, 0, 0, 0, 0, 0, 0, 0, 0, 0, 0, 0, 0, 0, 0, 0, 0, 0, 0, 0, 0, 0, 0, 0, 0, 0, 0, 0, 0, 0, 0, 0, 0, 0, 0, 0, 0, 0, 0, 0, 0, 0, 0, 0, 0, 0, 0, 0, 0, 0, 0, 0, 0, 0, 0, 0, 0, 0, 0, 0, 0, 0, 0, 0, 0, 0, 0, 0, 0, 0, 0, 0, 0, 0, 0, 0, 0, 0, 0, 0, 0, 0, 0, 0, 0, 0, 0, 0, 0, 0, 0, 0, 0, 0, 0, 0, 0, 0, 0, 0, 0, 0, 0, 0, 0, 0, 0, 0, 0, 0, 0, 0, 0, 0, 0, 0] [0, 0, 0, 0, 0, 0, 0, 0, 0, 0, 0, 0, 0, 0, 0, 0, 0, 0, 0, 0, 0, 0, 0, 0, 0, 0, 0, 0, 0, 0, 0, 0, 0, 0, 0, 0, 0, 0, 0, 0, 0, 0, 0, 100, 0, 0, 0, 0, 0, 0, 0, 0, 0, 0, 0, 0, 0, 0, 0, 0, 0, 0, 0, 0, 0, 0, 0, 0, 0, 0, 0, 0, 0, 0, 0, 0, 0, 0, 0, 0, 0, 0, 0, 0, 0, 0, 0, 0, 0, 0, 0, 0, 0, 0, 0, 0, 0, 0, 0, 0, 0, 0, 0, 0, 0, 0, 0, 0, 0, 0, 0, 0, 0, 0, 0, 0, 0, 0, 0, 0, 0, 0, 0, 0, 0, 0, 0, 0]\n",
      "120 [0, 0, 0, 0, 0, 0, 0, 0, 0, 0, 0, 0, 0, 0, 0, 0, 0, 0, 0, 0, 0, 0, 0, 0, 0, 0, 0, 0, 0, 0, 0, 0, 0, 0, 0, 0, 0, 0, 0, 0, 0, 0, 0, 100, 0, 0, 0, 0, 0, 0, 0, 0, 0, 0, 0, 0, 0, 0, 0, 0, 0, 0, 0, 0, 0, 0, 0, 0, 0, 0, 0, 0, 0, 0, 0, 0, 0, 0, 0, 0, 0, 0, 0, 0, 0, 0, 0, 0, 0, 0, 0, 0, 0, 0, 0, 0, 0, 0, 0, 0, 0, 0, 0, 0, 0, 0, 0, 0, 0, 0, 0, 0, 0, 0, 0, 0, 0, 0, 0, 0, 0, 0, 0, 0, 0, 0, 0, 0] [0, 0, 0, 0, 0, 0, 0, 0, 0, 0, 0, 0, 0, 0, 0, 0, 0, 0, 0, 0, 0, 0, 0, 0, 0, 0, 0, 0, 0, 0, 0, 0, 0, 0, 0, 0, 0, 0, 0, 0, 0, 0, 0, 0, 0, 0, 0, 0, 0, 0, 0, 0, 0, 0, 0, 0, 0, 0, 0, 0, 0, 0, 0, 0, 0, 0, 0, 0, 0, 0, 0, 0, 0, 0, 0, 0, 0, 0, 0, 0, 0, 0, 0, 0, 0, 0, 0, 0, 0, 0, 0, 0, 0, 0, 0, 0, 0, 0, 0, 0, 0, 0, 0, 0, 0, 0, 0, 0, 0, 0, 0, 0, 0, 0, 0, 0, 0, 0, 0, 0, 0, 0, 0, 0, 0, 0, 0, 0]\n",
      "120 [0, 0, 0, 0, 0, 0, 0, 0, 0, 0, 0, 0, 0, 0, 0, 0, 0, 0, 0, 0, 0, 0, 0, 0, 0, 0, 0, 0, 0, 0, 0, 0, 0, 0, 0, 0, 0, 0, 0, 0, 0, 0, 0, 0, 0, 0, 0, 0, 0, 0, 0, 0, 0, 0, 0, 0, 0, 0, 0, 0, 0, 0, 0, 0, 0, 0, 0, 0, 0, 0, 0, 0, 0, 0, 0, 0, 0, 0, 0, 0, 0, 0, 0, 0, 0, 0, 0, 0, 0, 0, 0, 0, 0, 0, 0, 0, 0, 0, 0, 0, 0, 0, 0, 0, 0, 0, 0, 0, 0, 0, 0, 0, 0, 0, 0, 0, 0, 0, 0, 0, 0, 0, 0, 0, 0, 0, 0, 0] [0, 0, 0, 0, 0, 0, 0, 0, 0, 0, 0, 0, 0, 0, 0, 0, 0, 0, 0, 0, 0, 0, 0, 0, 0, 0, 0, 0, 0, 0, 0, 0, 0, 0, 0, 0, 0, 0, 0, 0, 0, 0, 0, 100, 0, 0, 0, 0, 0, 0, 0, 0, 0, 0, 0, 0, 0, 0, 0, 0, 0, 0, 0, 0, 0, 0, 0, 0, 0, 0, 0, 0, 0, 0, 0, 0, 0, 0, 0, 0, 0, 0, 0, 0, 0, 0, 0, 0, 0, 0, 0, 0, 0, 0, 0, 0, 0, 0, 0, 0, 0, 0, 0, 0, 0, 0, 0, 0, 0, 0, 0, 0, 0, 0, 0, 0, 0, 0, 0, 0, 0, 0, 0, 0, 0, 0, 0, 0]\n",
      "120 [0, 0, 0, 0, 0, 0, 0, 0, 0, 0, 0, 0, 0, 0, 0, 0, 0, 0, 0, 0, 0, 0, 0, 0, 0, 0, 0, 0, 0, 0, 0, 0, 0, 0, 0, 0, 0, 0, 0, 0, 0, 0, 0, 100, 0, 0, 0, 0, 0, 0, 0, 0, 0, 0, 0, 0, 0, 0, 0, 0, 0, 0, 0, 0, 0, 0, 0, 0, 0, 0, 0, 0, 0, 0, 0, 0, 0, 0, 0, 0, 0, 0, 0, 0, 0, 0, 0, 0, 0, 0, 0, 0, 0, 0, 0, 0, 0, 0, 0, 0, 0, 0, 0, 0, 0, 0, 0, 0, 0, 0, 0, 0, 0, 0, 0, 0, 0, 0, 0, 0, 0, 0, 0, 0, 0, 0, 0, 0] [0, 0, 0, 0, 0, 0, 0, 0, 0, 0, 0, 0, 0, 0, 0, 0, 0, 0, 0, 0, 0, 0, 0, 0, 0, 0, 0, 0, 0, 0, 0, 0, 0, 0, 0, 0, 0, 0, 0, 0, 0, 0, 0, 0, 0, 0, 0, 0, 0, 0, 0, 0, 0, 0, 0, 0, 0, 0, 0, 0, 0, 0, 0, 0, 0, 0, 0, 0, 0, 0, 0, 0, 0, 0, 0, 0, 0, 0, 0, 0, 0, 0, 0, 0, 0, 0, 0, 0, 0, 0, 0, 0, 0, 0, 0, 0, 0, 0, 0, 0, 0, 0, 0, 0, 0, 0, 0, 0, 0, 0, 0, 0, 0, 0, 0, 0, 0, 0, 0, 0, 0, 0, 0, 0, 0, 0, 0, 0]\n",
      "120 [0, 0, 0, 0, 0, 0, 0, 0, 0, 0, 0, 0, 0, 0, 0, 0, 0, 0, 0, 0, 0, 0, 0, 0, 0, 0, 0, 0, 0, 0, 0, 0, 0, 0, 0, 0, 0, 0, 0, 0, 0, 0, 0, 0, 0, 0, 0, 0, 0, 0, 0, 0, 0, 0, 0, 0, 0, 0, 0, 0, 0, 0, 0, 0, 0, 0, 0, 0, 0, 0, 0, 0, 0, 0, 0, 0, 0, 0, 0, 0, 0, 0, 0, 0, 0, 0, 0, 0, 0, 0, 0, 0, 0, 0, 0, 0, 0, 0, 0, 0, 0, 0, 0, 0, 0, 0, 0, 0, 0, 0, 0, 0, 0, 0, 0, 0, 0, 0, 0, 0, 0, 0, 0, 0, 0, 0, 0, 0] [0, 0, 0, 0, 0, 0, 0, 0, 0, 0, 0, 0, 0, 0, 0, 0, 0, 0, 0, 0, 0, 0, 0, 0, 0, 0, 0, 0, 0, 0, 0, 0, 0, 0, 0, 0, 0, 0, 0, 0, 0, 0, 0, 100, 0, 0, 0, 0, 0, 0, 0, 0, 0, 0, 0, 0, 0, 0, 0, 0, 0, 0, 0, 0, 0, 0, 0, 0, 0, 0, 0, 0, 0, 0, 0, 0, 0, 0, 0, 0, 0, 0, 0, 0, 0, 0, 0, 0, 0, 0, 0, 0, 0, 0, 0, 0, 0, 0, 0, 0, 0, 0, 0, 0, 0, 0, 0, 0, 0, 0, 0, 0, 0, 0, 0, 0, 0, 0, 0, 0, 0, 0, 0, 0, 0, 0, 0, 0]\n",
      "120 [0, 0, 0, 0, 0, 0, 0, 0, 0, 0, 0, 0, 0, 0, 0, 0, 0, 0, 0, 0, 0, 0, 0, 0, 0, 0, 0, 0, 0, 0, 0, 0, 0, 0, 0, 0, 0, 0, 0, 0, 0, 0, 0, 100, 0, 0, 0, 0, 0, 0, 0, 0, 0, 0, 0, 0, 0, 0, 0, 0, 0, 0, 0, 0, 0, 0, 0, 0, 0, 0, 0, 0, 0, 0, 0, 0, 0, 0, 0, 0, 0, 0, 0, 0, 0, 0, 0, 0, 0, 0, 0, 0, 0, 0, 0, 0, 0, 0, 0, 0, 0, 0, 0, 0, 0, 0, 0, 0, 0, 0, 0, 0, 0, 0, 0, 0, 0, 0, 0, 0, 0, 0, 0, 0, 0, 0, 0, 0] [0, 0, 0, 0, 0, 0, 0, 0, 0, 0, 0, 0, 0, 0, 0, 0, 0, 0, 0, 0, 0, 0, 0, 0, 0, 0, 0, 0, 0, 0, 0, 0, 0, 0, 0, 0, 0, 0, 0, 0, 0, 0, 0, 0, 0, 0, 0, 0, 0, 0, 0, 0, 0, 0, 0, 0, 0, 0, 0, 0, 0, 0, 0, 0, 0, 0, 0, 0, 0, 0, 0, 0, 0, 0, 0, 0, 0, 0, 0, 0, 0, 0, 0, 0, 0, 0, 0, 0, 0, 0, 0, 0, 0, 0, 0, 0, 0, 0, 0, 0, 0, 0, 0, 0, 0, 0, 0, 0, 0, 0, 0, 0, 0, 0, 0, 0, 0, 0, 0, 0, 0, 0, 0, 0, 0, 0, 0, 0]\n",
      "120 [0, 0, 0, 0, 0, 0, 0, 0, 0, 0, 0, 0, 0, 0, 0, 0, 0, 0, 0, 0, 0, 0, 0, 0, 0, 0, 0, 0, 0, 0, 0, 0, 0, 0, 0, 0, 0, 0, 0, 0, 0, 0, 0, 0, 0, 0, 0, 0, 0, 0, 0, 0, 0, 0, 0, 0, 0, 0, 0, 0, 0, 0, 0, 0, 0, 0, 0, 0, 0, 0, 0, 0, 0, 0, 0, 0, 0, 0, 0, 0, 0, 0, 0, 0, 0, 0, 0, 0, 0, 0, 0, 0, 0, 0, 0, 0, 0, 0, 0, 0, 0, 0, 0, 0, 0, 0, 0, 0, 0, 0, 0, 0, 0, 0, 0, 0, 0, 0, 0, 0, 0, 0, 0, 0, 0, 0, 0, 0] [0, 0, 0, 0, 0, 0, 0, 0, 0, 0, 0, 0, 0, 0, 0, 0, 0, 0, 0, 0, 0, 0, 0, 0, 0, 0, 0, 0, 0, 0, 0, 0, 0, 0, 0, 0, 0, 0, 0, 0, 0, 0, 0, 100, 0, 0, 0, 0, 0, 0, 0, 0, 0, 0, 0, 0, 0, 0, 0, 0, 0, 0, 0, 0, 0, 0, 0, 0, 0, 0, 0, 0, 0, 0, 0, 0, 0, 0, 0, 0, 0, 0, 0, 0, 0, 0, 0, 0, 0, 0, 0, 0, 0, 0, 0, 0, 0, 0, 0, 0, 0, 0, 0, 0, 0, 0, 0, 0, 0, 0, 0, 0, 0, 0, 0, 0, 0, 0, 0, 0, 0, 0, 0, 0, 0, 0, 0, 0]\n",
      "120 [0, 0, 0, 0, 0, 0, 0, 0, 0, 0, 0, 0, 0, 0, 0, 0, 0, 0, 0, 0, 0, 0, 0, 0, 0, 0, 0, 0, 0, 0, 0, 0, 0, 0, 0, 0, 0, 0, 0, 0, 0, 0, 0, 100, 0, 0, 0, 0, 0, 0, 0, 0, 0, 0, 0, 0, 0, 0, 0, 0, 0, 0, 0, 0, 0, 0, 0, 0, 0, 0, 0, 0, 0, 0, 0, 0, 0, 0, 0, 0, 0, 0, 0, 0, 0, 0, 0, 0, 0, 0, 0, 0, 0, 0, 0, 0, 0, 0, 0, 0, 0, 0, 0, 0, 0, 0, 0, 0, 0, 0, 0, 0, 0, 0, 0, 0, 0, 0, 0, 0, 0, 0, 0, 0, 0, 0, 0, 0] [0, 0, 0, 0, 0, 0, 0, 0, 0, 0, 0, 0, 0, 0, 0, 0, 0, 0, 0, 0, 0, 0, 0, 0, 0, 0, 0, 0, 0, 0, 0, 0, 0, 0, 0, 0, 0, 0, 0, 0, 0, 0, 0, 0, 0, 0, 0, 0, 0, 0, 0, 0, 0, 0, 0, 0, 0, 0, 0, 0, 0, 0, 0, 0, 0, 0, 0, 0, 0, 0, 0, 0, 0, 0, 0, 0, 0, 0, 0, 0, 0, 0, 0, 0, 0, 0, 0, 0, 0, 0, 0, 0, 0, 0, 0, 0, 0, 0, 0, 0, 0, 0, 0, 0, 0, 0, 0, 0, 0, 0, 0, 0, 0, 0, 0, 0, 0, 0, 0, 0, 0, 0, 0, 0, 0, 0, 0, 0]\n",
      "120 [0, 0, 0, 0, 0, 0, 0, 0, 0, 0, 0, 0, 0, 0, 0, 0, 0, 0, 0, 0, 0, 0, 0, 0, 0, 0, 0, 0, 0, 0, 0, 0, 0, 0, 0, 0, 0, 0, 0, 0, 0, 0, 0, 0, 0, 0, 0, 0, 0, 0, 0, 0, 0, 0, 0, 0, 0, 0, 0, 0, 0, 0, 0, 0, 0, 0, 0, 0, 0, 0, 0, 0, 0, 0, 0, 0, 0, 0, 0, 0, 0, 0, 0, 0, 0, 0, 0, 0, 0, 0, 0, 0, 0, 0, 0, 0, 0, 0, 0, 0, 0, 0, 0, 0, 0, 0, 0, 0, 0, 0, 0, 0, 0, 0, 0, 0, 0, 0, 0, 0, 0, 0, 0, 0, 0, 0, 0, 0] [0, 0, 0, 0, 0, 0, 0, 0, 0, 0, 0, 0, 0, 0, 0, 0, 0, 0, 0, 0, 0, 0, 0, 0, 0, 0, 0, 0, 0, 0, 0, 0, 0, 0, 0, 0, 0, 0, 0, 0, 0, 0, 0, 100, 0, 0, 0, 0, 0, 0, 0, 0, 0, 0, 0, 0, 0, 0, 0, 0, 0, 0, 0, 0, 0, 0, 0, 0, 0, 0, 0, 0, 0, 0, 0, 0, 0, 0, 0, 0, 0, 0, 0, 0, 0, 0, 0, 0, 0, 0, 0, 0, 0, 0, 0, 0, 0, 0, 0, 0, 0, 0, 0, 0, 0, 0, 0, 0, 0, 0, 0, 0, 0, 0, 0, 0, 0, 0, 0, 0, 0, 0, 0, 0, 0, 0, 0, 0]\n",
      "120 [0, 0, 0, 0, 0, 0, 0, 0, 0, 0, 0, 0, 0, 0, 0, 0, 0, 0, 0, 0, 0, 0, 0, 0, 0, 0, 0, 0, 0, 0, 0, 0, 0, 0, 0, 0, 0, 0, 0, 0, 0, 0, 0, 100, 0, 0, 0, 0, 0, 0, 0, 0, 0, 0, 0, 0, 0, 0, 0, 0, 0, 0, 0, 0, 0, 0, 0, 0, 0, 0, 0, 0, 0, 0, 0, 0, 0, 0, 0, 0, 0, 0, 0, 0, 0, 0, 0, 0, 0, 0, 0, 0, 0, 0, 0, 0, 0, 0, 0, 0, 0, 0, 0, 0, 0, 0, 0, 0, 0, 0, 0, 0, 0, 0, 0, 0, 0, 0, 0, 0, 0, 0, 0, 0, 0, 0, 0, 0] [0, 0, 0, 0, 0, 0, 0, 0, 0, 0, 0, 0, 0, 0, 0, 0, 0, 0, 0, 0, 0, 0, 0, 0, 0, 0, 0, 0, 0, 0, 0, 0, 0, 0, 0, 0, 0, 0, 0, 0, 0, 0, 0, 0, 0, 0, 0, 0, 0, 0, 0, 0, 0, 0, 0, 0, 0, 0, 0, 0, 0, 0, 0, 0, 0, 0, 0, 0, 0, 0, 0, 0, 0, 0, 0, 0, 0, 0, 0, 0, 0, 0, 0, 0, 0, 0, 0, 0, 0, 0, 0, 0, 0, 0, 0, 0, 0, 0, 0, 0, 0, 0, 0, 0, 0, 0, 0, 0, 0, 0, 0, 0, 0, 0, 0, 0, 0, 0, 0, 0, 0, 0, 0, 0, 0, 0, 0, 0]\n",
      "120 [0, 0, 0, 0, 0, 0, 0, 0, 0, 0, 0, 0, 0, 0, 0, 0, 0, 0, 0, 0, 0, 0, 0, 0, 0, 0, 0, 0, 0, 0, 0, 0, 0, 0, 0, 0, 0, 0, 0, 0, 0, 0, 0, 0, 0, 0, 0, 0, 0, 0, 0, 0, 0, 0, 0, 0, 0, 0, 0, 0, 0, 0, 0, 0, 0, 0, 0, 0, 0, 0, 0, 0, 0, 0, 0, 0, 0, 0, 0, 0, 0, 0, 0, 0, 0, 0, 0, 0, 0, 0, 0, 0, 0, 0, 0, 0, 0, 0, 0, 0, 0, 0, 0, 0, 0, 0, 0, 0, 0, 0, 0, 0, 0, 0, 0, 0, 0, 0, 0, 0, 0, 0, 0, 0, 0, 0, 0, 0] [0, 0, 0, 0, 0, 0, 0, 0, 0, 0, 0, 0, 0, 0, 0, 0, 0, 0, 0, 0, 0, 0, 0, 0, 0, 0, 0, 0, 0, 0, 0, 0, 0, 0, 0, 0, 0, 0, 0, 0, 0, 0, 0, 100, 0, 0, 0, 0, 0, 0, 0, 0, 0, 0, 0, 0, 0, 0, 0, 0, 0, 0, 0, 0, 0, 0, 0, 0, 0, 0, 0, 0, 0, 0, 0, 0, 0, 0, 0, 0, 0, 0, 0, 0, 0, 0, 0, 0, 0, 0, 0, 0, 0, 0, 0, 0, 0, 0, 0, 0, 0, 0, 0, 0, 0, 0, 0, 0, 0, 0, 0, 0, 0, 0, 0, 0, 0, 0, 0, 0, 0, 0, 0, 0, 0, 0, 0, 0]\n",
      "120 [0, 0, 0, 0, 0, 0, 0, 0, 0, 0, 0, 0, 0, 0, 0, 0, 0, 0, 0, 0, 0, 0, 0, 0, 0, 0, 0, 0, 0, 0, 0, 0, 0, 0, 0, 0, 0, 0, 0, 0, 0, 0, 0, 100, 0, 0, 0, 0, 0, 0, 0, 0, 0, 0, 0, 0, 0, 0, 0, 0, 0, 0, 0, 0, 0, 0, 0, 0, 0, 0, 0, 0, 0, 0, 0, 0, 0, 0, 0, 0, 0, 0, 0, 0, 0, 0, 0, 0, 0, 0, 0, 0, 0, 0, 0, 0, 0, 0, 0, 0, 0, 0, 0, 0, 0, 0, 0, 0, 0, 0, 0, 0, 0, 0, 0, 0, 0, 0, 0, 0, 0, 0, 0, 0, 0, 0, 0, 0] [0, 0, 0, 0, 0, 0, 0, 0, 0, 0, 0, 0, 0, 0, 0, 0, 0, 0, 0, 0, 0, 0, 0, 0, 0, 0, 0, 0, 0, 0, 0, 0, 0, 0, 0, 0, 0, 0, 0, 0, 0, 0, 0, 0, 0, 0, 0, 0, 0, 0, 0, 0, 0, 0, 0, 0, 0, 0, 0, 0, 0, 0, 0, 0, 0, 0, 0, 0, 0, 0, 0, 0, 0, 0, 0, 0, 0, 0, 0, 0, 0, 0, 0, 0, 0, 0, 0, 0, 0, 0, 0, 0, 0, 0, 0, 0, 0, 0, 0, 0, 0, 0, 0, 0, 0, 0, 0, 0, 0, 0, 0, 0, 0, 0, 0, 0, 0, 0, 0, 0, 0, 0, 0, 0, 0, 0, 0, 0]\n",
      "120 [0, 0, 0, 0, 0, 0, 0, 0, 0, 0, 0, 0, 0, 0, 0, 0, 0, 0, 0, 0, 0, 0, 0, 0, 0, 0, 0, 0, 0, 0, 0, 0, 0, 0, 0, 0, 0, 0, 0, 0, 0, 0, 0, 0, 0, 0, 0, 0, 0, 0, 0, 0, 0, 0, 0, 0, 0, 0, 0, 0, 0, 0, 0, 0, 0, 0, 0, 0, 0, 0, 0, 0, 0, 0, 0, 0, 0, 0, 0, 0, 0, 0, 0, 0, 0, 0, 0, 0, 0, 0, 0, 0, 0, 0, 0, 0, 0, 0, 0, 0, 0, 0, 0, 0, 0, 0, 0, 0, 0, 0, 0, 0, 0, 0, 0, 0, 0, 0, 0, 0, 0, 0, 0, 0, 0, 0, 0, 0] [0, 0, 0, 0, 0, 0, 0, 0, 0, 0, 0, 0, 0, 0, 0, 0, 0, 0, 0, 0, 0, 0, 0, 0, 0, 0, 0, 0, 0, 0, 0, 0, 0, 0, 0, 0, 0, 0, 0, 0, 0, 0, 0, 100, 0, 0, 0, 0, 0, 0, 0, 0, 0, 0, 0, 0, 0, 0, 0, 0, 0, 0, 0, 0, 0, 0, 0, 0, 0, 0, 0, 0, 0, 0, 0, 0, 0, 0, 0, 0, 0, 0, 0, 0, 0, 0, 0, 0, 0, 0, 0, 0, 0, 0, 0, 0, 0, 0, 0, 0, 0, 0, 0, 0, 0, 0, 0, 0, 0, 0, 0, 0, 0, 0, 0, 0, 0, 0, 0, 0, 0, 0, 0, 0, 0, 0, 0, 0]\n",
      "120 [0, 0, 0, 0, 0, 0, 0, 0, 0, 0, 0, 0, 0, 0, 0, 0, 0, 0, 0, 0, 0, 0, 0, 0, 0, 0, 0, 0, 0, 0, 0, 0, 0, 0, 0, 0, 0, 0, 0, 0, 0, 0, 0, 100, 0, 0, 0, 0, 0, 0, 0, 0, 0, 0, 0, 0, 0, 0, 0, 0, 0, 0, 0, 0, 0, 0, 0, 0, 0, 0, 0, 0, 0, 0, 0, 0, 0, 0, 0, 0, 0, 0, 0, 0, 0, 0, 0, 0, 0, 0, 0, 0, 0, 0, 0, 0, 0, 0, 0, 0, 0, 0, 0, 0, 0, 0, 0, 0, 0, 0, 0, 0, 0, 0, 0, 0, 0, 0, 0, 0, 0, 0, 0, 0, 0, 0, 0, 0] [0, 0, 0, 0, 0, 0, 0, 0, 0, 0, 0, 0, 0, 0, 0, 0, 0, 0, 0, 0, 0, 0, 0, 0, 0, 0, 0, 0, 0, 0, 0, 0, 0, 0, 0, 0, 0, 0, 0, 0, 0, 0, 0, 0, 0, 0, 0, 0, 0, 0, 0, 0, 0, 0, 0, 0, 0, 0, 0, 0, 0, 0, 0, 0, 0, 0, 0, 0, 0, 0, 0, 0, 0, 0, 0, 0, 0, 0, 0, 0, 0, 0, 0, 0, 0, 0, 0, 0, 0, 0, 0, 0, 0, 0, 0, 0, 0, 0, 0, 0, 0, 0, 0, 0, 0, 0, 0, 0, 0, 0, 0, 0, 0, 0, 0, 0, 0, 0, 0, 0, 0, 0, 0, 0, 0, 0, 0, 0]\n",
      "120 [0, 0, 0, 0, 0, 0, 0, 0, 0, 0, 0, 0, 0, 0, 0, 0, 0, 0, 0, 0, 0, 0, 0, 0, 0, 0, 0, 0, 0, 0, 0, 0, 0, 0, 0, 0, 0, 0, 0, 0, 0, 0, 0, 0, 0, 0, 0, 0, 0, 0, 0, 0, 0, 0, 0, 0, 0, 0, 0, 0, 0, 0, 0, 0, 0, 0, 0, 0, 0, 0, 0, 0, 0, 0, 0, 0, 0, 0, 0, 0, 0, 0, 0, 0, 0, 0, 0, 0, 0, 0, 0, 0, 0, 0, 0, 0, 0, 0, 0, 0, 0, 0, 0, 0, 0, 0, 0, 0, 0, 0, 0, 0, 0, 0, 0, 0, 0, 0, 0, 0, 0, 0, 0, 0, 0, 0, 0, 0] [0, 0, 0, 0, 0, 0, 0, 0, 0, 0, 0, 0, 0, 0, 0, 0, 0, 0, 0, 0, 0, 0, 0, 0, 0, 0, 0, 0, 0, 0, 0, 0, 0, 0, 0, 0, 0, 0, 0, 0, 0, 0, 0, 100, 0, 0, 0, 0, 0, 0, 0, 0, 0, 0, 0, 0, 0, 0, 0, 0, 0, 0, 0, 0, 0, 0, 0, 0, 0, 0, 0, 0, 0, 0, 0, 0, 0, 0, 0, 0, 0, 0, 0, 0, 0, 0, 0, 0, 0, 0, 0, 0, 0, 0, 0, 0, 0, 0, 0, 0, 0, 0, 0, 0, 0, 0, 0, 0, 0, 0, 0, 0, 0, 0, 0, 0, 0, 0, 0, 0, 0, 0, 0, 0, 0, 0, 0, 0]\n",
      "120 [0, 0, 0, 0, 0, 0, 0, 0, 0, 0, 0, 0, 0, 0, 0, 0, 0, 0, 0, 0, 0, 0, 0, 0, 0, 0, 0, 0, 0, 0, 0, 0, 0, 0, 0, 0, 0, 0, 0, 0, 0, 0, 0, 100, 0, 0, 0, 0, 0, 0, 0, 0, 0, 0, 0, 0, 0, 0, 0, 0, 0, 0, 0, 0, 0, 0, 0, 0, 0, 0, 0, 0, 0, 0, 0, 0, 0, 0, 0, 0, 0, 0, 0, 0, 0, 0, 0, 0, 0, 0, 0, 0, 0, 0, 0, 0, 0, 0, 0, 0, 0, 0, 0, 0, 0, 0, 0, 0, 0, 0, 0, 0, 0, 0, 0, 0, 0, 0, 0, 0, 0, 0, 0, 0, 0, 0, 0, 0] [0, 0, 0, 0, 0, 0, 0, 0, 0, 0, 0, 0, 0, 0, 0, 0, 0, 0, 0, 0, 0, 0, 0, 0, 0, 0, 0, 0, 0, 0, 0, 0, 0, 0, 0, 0, 0, 0, 0, 0, 0, 0, 0, 0, 0, 0, 0, 0, 0, 0, 0, 0, 0, 0, 0, 0, 0, 0, 0, 0, 0, 0, 0, 0, 0, 0, 0, 0, 0, 0, 0, 0, 0, 0, 0, 0, 0, 0, 0, 0, 0, 0, 0, 0, 0, 0, 0, 0, 0, 0, 0, 0, 0, 0, 0, 0, 0, 0, 0, 0, 0, 0, 0, 0, 0, 0, 0, 0, 0, 0, 0, 0, 0, 0, 0, 0, 0, 0, 0, 0, 0, 0, 0, 0, 0, 0, 0, 0]\n",
      "120 [0, 0, 0, 0, 0, 0, 0, 0, 0, 0, 0, 0, 0, 0, 0, 0, 0, 0, 0, 0, 0, 0, 0, 0, 0, 0, 0, 0, 0, 0, 0, 0, 0, 0, 0, 0, 0, 0, 0, 0, 0, 0, 0, 0, 0, 0, 0, 0, 0, 0, 0, 0, 0, 0, 0, 0, 0, 0, 0, 0, 0, 0, 0, 0, 0, 0, 0, 0, 0, 0, 0, 0, 0, 0, 0, 0, 0, 0, 0, 0, 0, 0, 0, 0, 0, 0, 0, 0, 0, 0, 0, 0, 0, 0, 0, 0, 0, 0, 0, 0, 0, 0, 0, 0, 0, 0, 0, 0, 0, 0, 0, 0, 0, 0, 0, 0, 0, 0, 0, 0, 0, 0, 0, 0, 0, 0, 0, 0] [0, 0, 0, 0, 0, 0, 0, 0, 0, 0, 0, 0, 0, 0, 0, 0, 0, 0, 0, 0, 0, 0, 0, 0, 0, 0, 0, 0, 0, 0, 0, 0, 0, 0, 0, 0, 0, 0, 0, 0, 0, 0, 0, 100, 0, 0, 0, 0, 0, 0, 0, 0, 0, 0, 0, 0, 0, 0, 0, 0, 0, 0, 0, 0, 0, 0, 0, 0, 0, 0, 0, 0, 0, 0, 0, 0, 0, 0, 0, 0, 0, 0, 0, 0, 0, 0, 0, 0, 0, 0, 0, 0, 0, 0, 0, 0, 0, 0, 0, 0, 0, 0, 0, 0, 0, 0, 0, 0, 0, 0, 0, 0, 0, 0, 0, 0, 0, 0, 0, 0, 0, 0, 0, 0, 0, 0, 0, 0]\n",
      "120 [0, 0, 0, 0, 0, 0, 0, 0, 0, 0, 0, 0, 0, 0, 0, 0, 0, 0, 0, 0, 0, 0, 0, 0, 0, 0, 0, 0, 0, 0, 0, 0, 0, 0, 0, 0, 0, 0, 0, 0, 0, 0, 0, 100, 0, 0, 0, 0, 0, 0, 0, 0, 0, 0, 0, 0, 0, 0, 0, 0, 0, 0, 0, 0, 0, 0, 0, 0, 0, 0, 0, 0, 0, 0, 0, 0, 0, 0, 0, 0, 0, 0, 0, 0, 0, 0, 0, 0, 0, 0, 0, 0, 0, 0, 0, 0, 0, 0, 0, 0, 0, 0, 0, 0, 0, 0, 0, 0, 0, 0, 0, 0, 0, 0, 0, 0, 0, 0, 0, 0, 0, 0, 0, 0, 0, 0, 0, 0] [0, 0, 0, 0, 0, 0, 0, 0, 0, 0, 0, 0, 0, 0, 0, 0, 0, 0, 0, 0, 0, 0, 0, 0, 0, 0, 0, 0, 0, 0, 0, 0, 0, 0, 0, 0, 0, 0, 0, 0, 0, 0, 0, 0, 0, 0, 0, 0, 0, 0, 0, 0, 0, 0, 0, 0, 0, 0, 0, 0, 0, 0, 0, 0, 0, 0, 0, 0, 0, 0, 0, 0, 0, 0, 0, 0, 0, 0, 0, 0, 0, 0, 0, 0, 0, 0, 0, 0, 0, 0, 0, 0, 0, 0, 0, 0, 0, 0, 0, 0, 0, 0, 0, 0, 0, 0, 0, 0, 0, 0, 0, 0, 0, 0, 0, 0, 0, 0, 0, 0, 0, 0, 0, 0, 0, 0, 0, 0]\n",
      "120 [0, 0, 0, 0, 0, 0, 0, 0, 0, 0, 0, 0, 0, 0, 0, 0, 0, 0, 0, 0, 0, 0, 0, 0, 0, 0, 0, 0, 0, 0, 0, 0, 0, 0, 0, 0, 0, 0, 0, 0, 0, 0, 0, 0, 0, 0, 0, 0, 0, 0, 0, 0, 0, 0, 0, 0, 0, 0, 0, 0, 0, 0, 0, 0, 0, 0, 0, 0, 0, 0, 0, 0, 0, 0, 0, 0, 0, 0, 0, 0, 0, 0, 0, 0, 0, 0, 0, 0, 0, 0, 0, 0, 0, 0, 0, 0, 0, 0, 0, 0, 0, 0, 0, 0, 0, 0, 0, 0, 0, 0, 0, 0, 0, 0, 0, 0, 0, 0, 0, 0, 0, 0, 0, 0, 0, 0, 0, 0] [0, 0, 0, 0, 0, 0, 0, 0, 0, 0, 0, 0, 0, 0, 0, 0, 0, 0, 0, 0, 0, 0, 0, 0, 0, 0, 0, 0, 0, 0, 0, 0, 0, 0, 0, 0, 0, 0, 0, 0, 0, 0, 0, 100, 0, 0, 0, 0, 0, 0, 0, 0, 0, 0, 0, 0, 0, 0, 0, 0, 0, 0, 0, 0, 0, 0, 0, 0, 0, 0, 0, 0, 0, 0, 0, 0, 0, 0, 0, 0, 0, 0, 0, 0, 0, 0, 0, 0, 0, 0, 0, 0, 0, 0, 0, 0, 0, 0, 0, 0, 0, 0, 0, 0, 0, 0, 0, 0, 0, 0, 0, 0, 0, 0, 0, 0, 0, 0, 0, 0, 0, 0, 0, 0, 0, 0, 0, 0]\n",
      "120 [0, 0, 0, 0, 0, 0, 0, 0, 0, 0, 0, 0, 0, 0, 0, 0, 0, 0, 0, 0, 0, 0, 0, 0, 0, 0, 0, 0, 0, 0, 0, 0, 0, 0, 0, 0, 0, 0, 0, 0, 0, 0, 0, 100, 0, 0, 0, 0, 0, 0, 0, 0, 0, 0, 0, 0, 0, 0, 0, 0, 0, 0, 0, 0, 0, 0, 0, 0, 0, 0, 0, 0, 0, 0, 0, 0, 0, 0, 0, 0, 0, 0, 0, 0, 0, 0, 0, 0, 0, 0, 0, 0, 0, 0, 0, 0, 0, 0, 0, 0, 0, 0, 0, 0, 0, 0, 0, 0, 0, 0, 0, 0, 0, 0, 0, 0, 0, 0, 0, 0, 0, 0, 0, 0, 0, 0, 0, 0] [0, 0, 0, 0, 0, 0, 0, 0, 0, 0, 0, 0, 0, 0, 0, 0, 0, 0, 0, 0, 0, 0, 0, 0, 0, 0, 0, 0, 0, 0, 0, 0, 0, 0, 0, 0, 0, 0, 0, 0, 0, 0, 0, 0, 0, 0, 0, 0, 0, 0, 0, 0, 0, 0, 0, 0, 0, 0, 0, 0, 0, 0, 0, 0, 0, 0, 0, 0, 0, 0, 0, 0, 0, 0, 0, 0, 0, 0, 0, 0, 0, 0, 0, 0, 0, 0, 0, 0, 0, 0, 0, 0, 0, 0, 0, 0, 0, 0, 0, 0, 0, 0, 0, 0, 0, 0, 0, 0, 0, 0, 0, 0, 0, 0, 0, 0, 0, 0, 0, 0, 0, 0, 0, 0, 0, 0, 0, 0]\n",
      "120 [0, 0, 0, 0, 0, 0, 0, 0, 0, 0, 0, 0, 0, 0, 0, 0, 0, 0, 0, 0, 0, 0, 0, 0, 0, 0, 0, 0, 0, 0, 0, 0, 0, 0, 0, 0, 0, 0, 0, 0, 0, 0, 0, 0, 0, 0, 0, 0, 0, 0, 0, 0, 0, 0, 0, 0, 0, 0, 0, 0, 0, 0, 0, 0, 0, 0, 0, 0, 0, 0, 0, 0, 0, 0, 0, 0, 0, 0, 0, 0, 0, 0, 0, 0, 0, 0, 0, 0, 0, 0, 0, 0, 0, 0, 0, 0, 0, 0, 0, 0, 0, 0, 0, 0, 0, 0, 0, 0, 0, 0, 0, 0, 0, 0, 0, 0, 0, 0, 0, 0, 0, 0, 0, 0, 0, 0, 0, 0] [0, 0, 0, 0, 0, 0, 0, 0, 0, 0, 0, 0, 0, 0, 0, 0, 0, 0, 0, 0, 0, 0, 0, 0, 0, 0, 0, 0, 0, 0, 0, 0, 0, 0, 0, 0, 0, 0, 0, 0, 0, 0, 0, 100, 0, 0, 0, 0, 0, 0, 0, 0, 0, 0, 0, 0, 0, 0, 0, 0, 0, 0, 0, 0, 0, 0, 0, 0, 0, 0, 0, 0, 0, 0, 0, 0, 0, 0, 0, 0, 0, 0, 0, 0, 0, 0, 0, 0, 0, 0, 0, 0, 0, 0, 0, 0, 0, 0, 0, 0, 0, 0, 0, 0, 0, 0, 0, 0, 0, 0, 0, 0, 0, 0, 0, 0, 0, 0, 0, 0, 0, 0, 0, 0, 0, 0, 0, 0]\n",
      "120 [0, 0, 0, 0, 0, 0, 0, 0, 0, 0, 0, 0, 0, 0, 0, 0, 0, 0, 0, 0, 0, 0, 0, 0, 0, 0, 0, 0, 0, 0, 0, 0, 0, 0, 0, 0, 0, 0, 0, 0, 0, 0, 0, 100, 0, 0, 0, 0, 0, 0, 0, 0, 0, 0, 0, 0, 0, 0, 0, 0, 0, 0, 0, 0, 0, 0, 0, 0, 0, 0, 0, 0, 0, 0, 0, 0, 0, 0, 0, 0, 0, 0, 0, 0, 0, 0, 0, 0, 0, 0, 0, 0, 0, 0, 0, 0, 0, 0, 0, 0, 0, 0, 0, 0, 0, 0, 0, 0, 0, 0, 0, 0, 0, 0, 0, 0, 0, 0, 0, 0, 0, 0, 0, 0, 0, 0, 0, 0] [0, 0, 0, 0, 0, 0, 0, 0, 0, 0, 0, 0, 0, 0, 0, 0, 0, 0, 0, 0, 0, 0, 0, 0, 0, 0, 0, 0, 0, 0, 0, 0, 0, 0, 0, 0, 0, 0, 0, 0, 0, 0, 0, 0, 0, 0, 0, 0, 0, 0, 0, 0, 0, 0, 0, 0, 0, 0, 0, 0, 0, 0, 0, 0, 0, 0, 0, 0, 0, 0, 0, 0, 0, 0, 0, 0, 0, 0, 0, 0, 0, 0, 0, 0, 0, 0, 0, 0, 0, 0, 0, 0, 0, 0, 0, 0, 0, 0, 0, 0, 0, 0, 0, 0, 0, 0, 0, 0, 0, 0, 0, 0, 0, 0, 0, 0, 0, 0, 0, 0, 0, 0, 0, 0, 0, 0, 0, 0]\n",
      "120 [0, 0, 0, 0, 0, 0, 0, 0, 0, 0, 0, 0, 0, 0, 0, 0, 0, 0, 0, 0, 0, 0, 0, 0, 0, 0, 0, 0, 0, 0, 0, 0, 0, 0, 0, 0, 0, 0, 0, 0, 0, 0, 0, 0, 0, 0, 0, 0, 0, 0, 0, 0, 0, 0, 0, 0, 0, 0, 0, 0, 0, 0, 0, 0, 0, 0, 0, 0, 0, 0, 0, 0, 0, 0, 0, 0, 0, 0, 0, 0, 0, 0, 0, 0, 0, 0, 0, 0, 0, 0, 0, 0, 0, 0, 0, 0, 0, 0, 0, 0, 0, 0, 0, 0, 0, 0, 0, 0, 0, 0, 0, 0, 0, 0, 0, 0, 0, 0, 0, 0, 0, 0, 0, 0, 0, 0, 0, 0] [0, 0, 0, 0, 0, 0, 0, 0, 0, 0, 0, 0, 0, 0, 0, 0, 0, 0, 0, 0, 0, 0, 0, 0, 0, 0, 0, 0, 0, 0, 0, 0, 0, 0, 0, 0, 0, 0, 0, 0, 0, 0, 0, 100, 0, 0, 0, 0, 0, 0, 0, 0, 0, 0, 0, 0, 0, 0, 0, 0, 0, 0, 0, 0, 0, 0, 0, 0, 0, 0, 0, 0, 0, 0, 0, 0, 0, 0, 0, 0, 0, 0, 0, 0, 0, 0, 0, 0, 0, 0, 0, 0, 0, 0, 0, 0, 0, 0, 0, 0, 0, 0, 0, 0, 0, 0, 0, 0, 0, 0, 0, 0, 0, 0, 0, 0, 0, 0, 0, 0, 0, 0, 0, 0, 0, 0, 0, 0]\n",
      "120 [0, 0, 0, 0, 0, 0, 0, 0, 0, 0, 0, 0, 0, 0, 0, 0, 0, 0, 0, 0, 0, 0, 0, 0, 0, 0, 0, 0, 0, 0, 0, 0, 0, 0, 0, 0, 0, 0, 0, 0, 0, 0, 0, 100, 0, 0, 0, 0, 0, 0, 0, 0, 0, 0, 0, 0, 0, 0, 0, 0, 0, 0, 0, 0, 0, 0, 0, 0, 0, 0, 0, 0, 0, 0, 0, 0, 0, 0, 0, 0, 0, 0, 0, 0, 0, 0, 0, 0, 0, 0, 0, 0, 0, 0, 0, 0, 0, 0, 0, 0, 0, 0, 0, 0, 0, 0, 0, 0, 0, 0, 0, 0, 0, 0, 0, 0, 0, 0, 0, 0, 0, 0, 0, 0, 0, 0, 0, 0] [0, 0, 0, 0, 0, 0, 0, 0, 0, 0, 0, 0, 0, 0, 0, 0, 0, 0, 0, 0, 0, 0, 0, 0, 0, 0, 0, 0, 0, 0, 0, 0, 0, 0, 0, 0, 0, 0, 0, 0, 0, 0, 0, 0, 0, 0, 0, 0, 0, 0, 0, 0, 0, 0, 0, 0, 0, 0, 0, 0, 0, 0, 0, 0, 0, 0, 0, 0, 0, 0, 0, 0, 0, 0, 0, 0, 0, 0, 0, 0, 0, 0, 0, 0, 0, 0, 0, 0, 0, 0, 0, 0, 0, 0, 0, 0, 0, 0, 0, 0, 0, 0, 0, 0, 0, 0, 0, 0, 0, 0, 0, 0, 0, 0, 0, 0, 0, 0, 0, 0, 0, 0, 0, 0, 0, 0, 0, 0]\n",
      "240 [0, 0, 0, 0, 0, 0, 0, 0, 0, 0, 0, 0, 0, 0, 0, 0, 0, 0, 0, 0, 0, 0, 0, 0, 0, 0, 0, 0, 0, 0, 0, 0, 0, 0, 0, 0, 0, 0, 0, 0, 0, 0, 0, 100, 0, 0, 0, 0, 0, 0, 0, 0, 0, 0, 0, 0, 0, 0, 0, 0, 0, 0, 0, 0, 0, 0, 0, 0, 0, 0, 0, 0, 0, 0, 0, 0, 0, 0, 0, 0, 0, 0, 0, 0, 0, 0, 0, 0, 0, 0, 0, 0, 0, 0, 0, 0, 0, 0, 0, 0, 0, 0, 0, 0, 0, 0, 0, 0, 0, 0, 0, 0, 0, 0, 0, 0, 0, 0, 0, 0, 0, 0, 0, 0, 0, 0, 0, 0] [0, 0, 0, 0, 0, 0, 0, 0, 0, 0, 0, 0, 0, 0, 0, 0, 0, 0, 0, 0, 0, 0, 0, 0, 0, 0, 0, 0, 0, 0, 0, 0, 0, 0, 0, 0, 0, 0, 0, 0, 0, 0, 0, 0, 0, 0, 0, 0, 0, 0, 0, 0, 0, 0, 0, 0, 0, 0, 0, 0, 0, 0, 0, 0, 0, 0, 0, 0, 0, 0, 0, 0, 0, 0, 0, 0, 0, 0, 0, 0, 0, 0, 0, 0, 0, 0, 0, 0, 0, 0, 0, 0, 0, 0, 0, 0, 0, 0, 0, 0, 0, 0, 0, 0, 0, 0, 0, 0, 0, 0, 0, 0, 0, 0, 0, 0, 0, 0, 0, 0, 0, 0, 0, 0, 0, 0, 0, 0]\n",
      "1200 [0, 0, 0, 0, 0, 0, 0, 0, 0, 0, 0, 0, 0, 0, 0, 0, 0, 0, 0, 0, 0, 0, 0, 0, 0, 0, 0, 0, 0, 0, 0, 0, 0, 0, 0, 0, 0, 0, 0, 0, 0, 0, 0, 0, 0, 0, 0, 0, 0, 0, 0, 0, 0, 0, 0, 0, 0, 0, 0, 0, 0, 0, 0, 0, 0, 0, 0, 0, 0, 0, 0, 0, 0, 0, 0, 0, 0, 0, 0, 0, 0, 0, 0, 0, 0, 0, 0, 0, 0, 0, 0, 0, 0, 0, 0, 0, 0, 0, 0, 0, 0, 0, 0, 0, 0, 0, 0, 0, 0, 0, 0, 0, 0, 0, 0, 0, 0, 0, 0, 0, 0, 0, 0, 0, 0, 0, 0, 0] [0, 0, 0, 0, 0, 0, 0, 0, 0, 0, 0, 0, 0, 0, 0, 0, 0, 0, 0, 0, 0, 0, 0, 0, 0, 0, 0, 0, 0, 0, 0, 0, 0, 0, 0, 0, 0, 0, 0, 0, 0, 0, 0, 100, 0, 0, 0, 0, 0, 0, 0, 0, 0, 0, 0, 0, 0, 0, 0, 0, 0, 0, 0, 0, 0, 0, 0, 0, 0, 0, 0, 0, 0, 0, 0, 0, 0, 0, 0, 0, 0, 0, 0, 0, 0, 0, 0, 0, 0, 0, 0, 0, 0, 0, 0, 0, 0, 0, 0, 0, 0, 0, 0, 0, 0, 0, 0, 0, 0, 0, 0, 0, 0, 0, 0, 0, 0, 0, 0, 0, 0, 0, 0, 0, 0, 0, 0, 0]\n",
      "240 [0, 0, 0, 0, 0, 0, 0, 0, 0, 0, 0, 0, 0, 0, 0, 0, 0, 0, 0, 0, 0, 0, 0, 0, 0, 0, 0, 0, 0, 0, 0, 0, 0, 0, 0, 0, 0, 0, 0, 0, 0, 0, 0, 100, 0, 0, 0, 0, 0, 0, 0, 0, 0, 0, 0, 0, 0, 0, 0, 0, 0, 0, 0, 0, 0, 0, 0, 0, 0, 0, 0, 0, 0, 0, 0, 0, 0, 0, 0, 0, 0, 0, 0, 0, 0, 0, 0, 0, 0, 0, 0, 0, 0, 0, 0, 0, 0, 0, 0, 0, 0, 0, 0, 0, 0, 0, 0, 0, 0, 0, 0, 0, 0, 0, 0, 0, 0, 0, 0, 0, 0, 0, 0, 0, 0, 0, 0, 0] [0, 0, 0, 0, 0, 0, 0, 0, 0, 0, 0, 0, 0, 0, 0, 0, 0, 0, 0, 0, 0, 0, 0, 0, 0, 0, 0, 0, 0, 0, 0, 0, 0, 0, 0, 0, 0, 0, 0, 0, 0, 0, 0, 0, 0, 0, 0, 0, 0, 0, 0, 0, 0, 0, 0, 0, 0, 0, 0, 0, 0, 0, 0, 0, 0, 0, 0, 0, 0, 0, 0, 0, 0, 0, 0, 0, 0, 0, 0, 0, 0, 0, 0, 0, 0, 0, 0, 0, 0, 0, 0, 0, 0, 0, 0, 0, 0, 0, 0, 0, 0, 0, 0, 0, 0, 0, 0, 0, 0, 0, 0, 0, 0, 0, 0, 0, 0, 0, 0, 0, 0, 0, 0, 0, 0, 0, 0, 0]\n",
      "14880 [0, 0, 0, 0, 0, 0, 0, 0, 0, 0, 0, 0, 0, 0, 0, 0, 0, 0, 0, 0, 0, 0, 0, 0, 0, 0, 0, 0, 0, 0, 0, 0, 0, 0, 0, 0, 0, 0, 0, 0, 0, 0, 0, 0, 0, 0, 0, 0, 0, 0, 0, 0, 0, 0, 0, 0, 0, 0, 0, 0, 0, 0, 0, 0, 0, 0, 0, 0, 0, 0, 0, 0, 0, 0, 0, 0, 0, 0, 0, 0, 0, 0, 0, 0, 0, 0, 0, 0, 0, 0, 0, 0, 0, 0, 0, 0, 0, 0, 0, 0, 0, 0, 0, 0, 0, 0, 0, 0, 0, 0, 0, 0, 0, 0, 0, 0, 0, 0, 0, 0, 0, 0, 0, 0, 0, 0, 0, 0] [0, 0, 0, 0, 0, 0, 0, 0, 0, 0, 0, 0, 0, 0, 0, 0, 0, 0, 0, 0, 0, 0, 0, 0, 0, 0, 0, 0, 0, 0, 0, 0, 0, 0, 0, 0, 0, 0, 0, 0, 0, 0, 0, 100, 0, 0, 0, 0, 0, 0, 0, 0, 0, 0, 0, 0, 0, 0, 0, 0, 0, 0, 0, 0, 0, 0, 0, 0, 0, 0, 0, 0, 0, 0, 0, 0, 0, 0, 0, 0, 0, 0, 0, 0, 0, 0, 0, 0, 0, 0, 0, 0, 0, 0, 0, 0, 0, 0, 0, 0, 0, 0, 0, 0, 0, 0, 0, 0, 0, 0, 0, 0, 0, 0, 0, 0, 0, 0, 0, 0, 0, 0, 0, 0, 0, 0, 0, 0]\n",
      "480 [0, 0, 0, 0, 0, 0, 0, 0, 0, 0, 0, 0, 0, 0, 0, 0, 0, 0, 0, 0, 0, 0, 0, 0, 0, 0, 0, 0, 0, 0, 0, 0, 0, 0, 0, 0, 0, 0, 0, 0, 0, 0, 0, 100, 0, 0, 0, 0, 0, 0, 0, 0, 0, 0, 0, 0, 0, 0, 0, 0, 0, 0, 0, 0, 0, 0, 0, 0, 0, 0, 0, 0, 0, 0, 0, 0, 0, 0, 0, 0, 0, 0, 0, 0, 0, 0, 0, 0, 0, 0, 0, 0, 0, 0, 0, 0, 0, 0, 0, 0, 0, 0, 0, 0, 0, 0, 0, 0, 0, 0, 0, 0, 0, 0, 0, 0, 0, 0, 0, 0, 0, 0, 0, 0, 0, 0, 0, 0] [0, 0, 0, 0, 0, 0, 0, 0, 0, 0, 0, 0, 0, 0, 0, 0, 0, 0, 0, 0, 0, 0, 0, 0, 0, 0, 0, 0, 0, 0, 0, 0, 0, 0, 0, 0, 0, 0, 0, 0, 0, 0, 0, 0, 0, 0, 0, 0, 0, 0, 0, 0, 0, 0, 0, 0, 0, 0, 0, 0, 0, 0, 0, 0, 0, 0, 0, 0, 0, 0, 0, 0, 0, 0, 0, 0, 0, 0, 0, 0, 0, 0, 0, 0, 0, 0, 0, 0, 0, 0, 0, 0, 0, 0, 0, 0, 0, 0, 0, 0, 0, 0, 0, 0, 0, 0, 0, 0, 0, 0, 0, 0, 0, 0, 0, 0, 0, 0, 0, 0, 0, 0, 0, 0, 0, 0, 0, 0]\n"
     ]
    }
   ],
   "source": [
    "result = track2seq(track)"
   ]
  },
  {
   "cell_type": "markdown",
   "metadata": {},
   "source": [
    "The function `track2seq` converts each message in a track to a list of 88 values, and stores each list in the result list in order."
   ]
  },
  {
   "cell_type": "code",
   "execution_count": 112,
   "metadata": {
    "ExecuteTime": {
     "end_time": "2022-02-14T21:49:13.653104Z",
     "start_time": "2022-02-14T21:49:13.642104Z"
    }
   },
   "outputs": [],
   "source": [
    "\n",
    "def get_new_state(new_msg, last_state):\n",
    "    new_msg, on_ = msg2dict(str(new_msg))\n",
    "    new_state = switch_note(last_state, note=new_msg['note'], velocity=new_msg['velocity'], on_=on_) if on_ is not None else last_state\n",
    "    return [new_state, new_msg['time']]\n",
    "def track2seq(track):\n",
    "    # piano has 88 notes, corresponding to note id 21 to 108, any note out of the id range will be ignored\n",
    "    result = []\n",
    "    last_state, last_time = get_new_state(str(track[0]), [0]*128) # switched to 128 instead of 88\n",
    "    for i in range(1, len(track)):\n",
    "        new_state, new_time = get_new_state(track[i], last_state)\n",
    "        if new_time > 0:\n",
    "            result += [last_state]*new_time\n",
    "        last_state, last_time = new_state, new_time\n",
    "    return result"
   ]
  },
  {
   "cell_type": "code",
   "execution_count": 177,
   "metadata": {
    "ExecuteTime": {
     "end_time": "2022-02-15T00:50:53.976693Z",
     "start_time": "2022-02-15T00:50:53.961773Z"
    }
   },
   "outputs": [
    {
     "data": {
      "text/plain": [
       "MidiTrack([\n",
       "  MetaMessage('midi_port', port=0, time=0),\n",
       "  MetaMessage('track_name', name='--------------------------------------', time=0),\n",
       "  Message('program_change', channel=1, program=42, time=0),\n",
       "  Message('control_change', channel=1, control=7, value=100, time=0),\n",
       "  Message('control_change', channel=1, control=10, value=74, time=0),\n",
       "  Message('note_on', channel=1, note=50, velocity=100, time=15240),\n",
       "  Message('note_on', channel=1, note=50, velocity=0, time=120),\n",
       "  Message('note_on', channel=1, note=50, velocity=100, time=120),\n",
       "  Message('note_on', channel=1, note=50, velocity=0, time=120),\n",
       "  Message('note_on', channel=1, note=50, velocity=100, time=120),\n",
       "  Message('note_on', channel=1, note=50, velocity=0, time=120),\n",
       "  Message('note_on', channel=1, note=50, velocity=100, time=120),\n",
       "  Message('note_on', channel=1, note=50, velocity=0, time=120),\n",
       "  Message('note_on', channel=1, note=50, velocity=100, time=120),\n",
       "  Message('note_on', channel=1, note=50, velocity=0, time=120),\n",
       "  Message('note_on', channel=1, note=50, velocity=100, time=120),\n",
       "  Message('note_on', channel=1, note=50, velocity=0, time=120),\n",
       "  Message('note_on', channel=1, note=50, velocity=100, time=120),\n",
       "  Message('note_on', channel=1, note=50, velocity=0, time=120),\n",
       "  Message('note_on', channel=1, note=50, velocity=100, time=120),\n",
       "  Message('note_on', channel=1, note=50, velocity=0, time=120),\n",
       "  Message('note_on', channel=1, note=50, velocity=100, time=120),\n",
       "  Message('note_on', channel=1, note=50, velocity=0, time=120),\n",
       "  Message('note_on', channel=1, note=50, velocity=100, time=120),\n",
       "  Message('note_on', channel=1, note=50, velocity=0, time=120),\n",
       "  Message('note_on', channel=1, note=50, velocity=100, time=120),\n",
       "  Message('note_on', channel=1, note=50, velocity=0, time=120),\n",
       "  Message('note_on', channel=1, note=50, velocity=100, time=120),\n",
       "  Message('note_on', channel=1, note=50, velocity=0, time=120),\n",
       "  Message('note_on', channel=1, note=43, velocity=100, time=120),\n",
       "  Message('note_on', channel=1, note=43, velocity=0, time=120),\n",
       "  Message('note_on', channel=1, note=43, velocity=100, time=120),\n",
       "  Message('note_on', channel=1, note=43, velocity=0, time=120),\n",
       "  Message('note_on', channel=1, note=43, velocity=100, time=120),\n",
       "  Message('note_on', channel=1, note=43, velocity=0, time=120),\n",
       "  Message('note_on', channel=1, note=43, velocity=100, time=120),\n",
       "  Message('note_on', channel=1, note=43, velocity=0, time=120),\n",
       "  Message('note_on', channel=1, note=43, velocity=100, time=120),\n",
       "  Message('note_on', channel=1, note=43, velocity=0, time=120),\n",
       "  Message('note_on', channel=1, note=43, velocity=100, time=120),\n",
       "  Message('note_on', channel=1, note=43, velocity=0, time=120),\n",
       "  Message('note_on', channel=1, note=43, velocity=100, time=120),\n",
       "  Message('note_on', channel=1, note=43, velocity=0, time=120),\n",
       "  Message('note_on', channel=1, note=43, velocity=100, time=120),\n",
       "  Message('note_on', channel=1, note=43, velocity=0, time=120),\n",
       "  Message('note_on', channel=1, note=43, velocity=100, time=120),\n",
       "  Message('note_on', channel=1, note=43, velocity=0, time=120),\n",
       "  Message('note_on', channel=1, note=43, velocity=100, time=120),\n",
       "  Message('note_on', channel=1, note=43, velocity=0, time=120),\n",
       "  Message('note_on', channel=1, note=43, velocity=100, time=120),\n",
       "  Message('note_on', channel=1, note=43, velocity=0, time=120),\n",
       "  Message('note_on', channel=1, note=43, velocity=100, time=120),\n",
       "  Message('note_on', channel=1, note=43, velocity=0, time=120),\n",
       "  Message('note_on', channel=1, note=43, velocity=100, time=120),\n",
       "  Message('note_on', channel=1, note=43, velocity=0, time=120),\n",
       "  Message('note_on', channel=1, note=43, velocity=100, time=120),\n",
       "  Message('note_on', channel=1, note=43, velocity=0, time=120),\n",
       "  Message('note_on', channel=1, note=43, velocity=100, time=120),\n",
       "  Message('note_on', channel=1, note=43, velocity=0, time=120),\n",
       "  Message('note_on', channel=1, note=43, velocity=100, time=120),\n",
       "  Message('note_on', channel=1, note=43, velocity=0, time=120),\n",
       "  Message('note_on', channel=1, note=43, velocity=100, time=120),\n",
       "  Message('note_on', channel=1, note=43, velocity=0, time=120),\n",
       "  Message('note_on', channel=1, note=43, velocity=100, time=120),\n",
       "  Message('note_on', channel=1, note=43, velocity=0, time=120),\n",
       "  Message('note_on', channel=1, note=43, velocity=100, time=120),\n",
       "  Message('note_on', channel=1, note=43, velocity=0, time=120),\n",
       "  Message('note_on', channel=1, note=43, velocity=100, time=120),\n",
       "  Message('note_on', channel=1, note=43, velocity=0, time=120),\n",
       "  Message('note_on', channel=1, note=50, velocity=100, time=960),\n",
       "  Message('note_on', channel=1, note=50, velocity=0, time=240),\n",
       "  Message('note_on', channel=1, note=50, velocity=100, time=0),\n",
       "  Message('note_on', channel=1, note=50, velocity=0, time=240),\n",
       "  Message('note_on', channel=1, note=50, velocity=100, time=0),\n",
       "  Message('note_on', channel=1, note=50, velocity=0, time=240),\n",
       "  Message('note_on', channel=1, note=50, velocity=100, time=0),\n",
       "  Message('note_on', channel=1, note=50, velocity=0, time=240),\n",
       "  Message('note_on', channel=1, note=50, velocity=100, time=0),\n",
       "  Message('note_on', channel=1, note=50, velocity=0, time=240),\n",
       "  Message('note_on', channel=1, note=50, velocity=100, time=0),\n",
       "  Message('note_on', channel=1, note=50, velocity=0, time=240),\n",
       "  Message('note_on', channel=1, note=50, velocity=100, time=0),\n",
       "  Message('note_on', channel=1, note=50, velocity=0, time=480),\n",
       "  Message('note_on', channel=1, note=50, velocity=100, time=0),\n",
       "  Message('note_on', channel=1, note=50, velocity=0, time=240),\n",
       "  Message('note_on', channel=1, note=50, velocity=100, time=0),\n",
       "  Message('note_on', channel=1, note=50, velocity=0, time=480),\n",
       "  Message('note_on', channel=1, note=50, velocity=100, time=0),\n",
       "  Message('note_on', channel=1, note=50, velocity=0, time=240),\n",
       "  Message('note_on', channel=1, note=50, velocity=100, time=0),\n",
       "  Message('note_on', channel=1, note=50, velocity=0, time=240),\n",
       "  Message('note_on', channel=1, note=50, velocity=100, time=0),\n",
       "  Message('note_on', channel=1, note=50, velocity=0, time=240),\n",
       "  Message('note_on', channel=1, note=50, velocity=100, time=0),\n",
       "  Message('note_on', channel=1, note=50, velocity=0, time=240),\n",
       "  Message('note_on', channel=1, note=50, velocity=100, time=0),\n",
       "  Message('note_on', channel=1, note=50, velocity=0, time=240),\n",
       "  Message('note_on', channel=1, note=50, velocity=100, time=0),\n",
       "  Message('note_on', channel=1, note=50, velocity=0, time=240),\n",
       "  Message('note_on', channel=1, note=50, velocity=100, time=0),\n",
       "  Message('note_on', channel=1, note=50, velocity=0, time=240),\n",
       "  Message('note_on', channel=1, note=50, velocity=100, time=0),\n",
       "  Message('note_on', channel=1, note=50, velocity=0, time=480),\n",
       "  Message('note_on', channel=1, note=50, velocity=100, time=0),\n",
       "  Message('note_on', channel=1, note=50, velocity=0, time=240),\n",
       "  Message('note_on', channel=1, note=50, velocity=100, time=0),\n",
       "  Message('note_on', channel=1, note=50, velocity=0, time=480),\n",
       "  Message('note_on', channel=1, note=50, velocity=100, time=20520),\n",
       "  Message('note_on', channel=1, note=50, velocity=0, time=120),\n",
       "  Message('note_on', channel=1, note=50, velocity=100, time=120),\n",
       "  Message('note_on', channel=1, note=50, velocity=0, time=120),\n",
       "  Message('note_on', channel=1, note=50, velocity=100, time=120),\n",
       "  Message('note_on', channel=1, note=50, velocity=0, time=120),\n",
       "  Message('note_on', channel=1, note=50, velocity=100, time=120),\n",
       "  Message('note_on', channel=1, note=50, velocity=0, time=120),\n",
       "  Message('note_on', channel=1, note=50, velocity=100, time=120),\n",
       "  Message('note_on', channel=1, note=50, velocity=0, time=120),\n",
       "  Message('note_on', channel=1, note=50, velocity=100, time=120),\n",
       "  Message('note_on', channel=1, note=50, velocity=0, time=120),\n",
       "  Message('note_on', channel=1, note=50, velocity=100, time=120),\n",
       "  Message('note_on', channel=1, note=50, velocity=0, time=120),\n",
       "  Message('note_on', channel=1, note=50, velocity=100, time=120),\n",
       "  Message('note_on', channel=1, note=50, velocity=0, time=120),\n",
       "  Message('note_on', channel=1, note=50, velocity=100, time=120),\n",
       "  Message('note_on', channel=1, note=50, velocity=0, time=120),\n",
       "  Message('note_on', channel=1, note=50, velocity=100, time=120),\n",
       "  Message('note_on', channel=1, note=50, velocity=0, time=120),\n",
       "  Message('note_on', channel=1, note=50, velocity=100, time=120),\n",
       "  Message('note_on', channel=1, note=50, velocity=0, time=120),\n",
       "  Message('note_on', channel=1, note=50, velocity=100, time=120),\n",
       "  Message('note_on', channel=1, note=50, velocity=0, time=120),\n",
       "  Message('note_on', channel=1, note=43, velocity=100, time=120),\n",
       "  Message('note_on', channel=1, note=43, velocity=0, time=120),\n",
       "  Message('note_on', channel=1, note=43, velocity=100, time=120),\n",
       "  Message('note_on', channel=1, note=43, velocity=0, time=120),\n",
       "  Message('note_on', channel=1, note=43, velocity=100, time=120),\n",
       "  Message('note_on', channel=1, note=43, velocity=0, time=120),\n",
       "  Message('note_on', channel=1, note=43, velocity=100, time=120),\n",
       "  Message('note_on', channel=1, note=43, velocity=0, time=120),\n",
       "  Message('note_on', channel=1, note=43, velocity=100, time=120),\n",
       "  Message('note_on', channel=1, note=43, velocity=0, time=120),\n",
       "  Message('note_on', channel=1, note=43, velocity=100, time=120),\n",
       "  Message('note_on', channel=1, note=43, velocity=0, time=120),\n",
       "  Message('note_on', channel=1, note=43, velocity=100, time=120),\n",
       "  Message('note_on', channel=1, note=43, velocity=0, time=120),\n",
       "  Message('note_on', channel=1, note=43, velocity=100, time=120),\n",
       "  Message('note_on', channel=1, note=43, velocity=0, time=120),\n",
       "  Message('note_on', channel=1, note=43, velocity=100, time=120),\n",
       "  Message('note_on', channel=1, note=43, velocity=0, time=120),\n",
       "  Message('note_on', channel=1, note=43, velocity=100, time=120),\n",
       "  Message('note_on', channel=1, note=43, velocity=0, time=120),\n",
       "  Message('note_on', channel=1, note=43, velocity=100, time=120),\n",
       "  Message('note_on', channel=1, note=43, velocity=0, time=120),\n",
       "  Message('note_on', channel=1, note=43, velocity=100, time=120),\n",
       "  Message('note_on', channel=1, note=43, velocity=0, time=120),\n",
       "  Message('note_on', channel=1, note=43, velocity=100, time=120),\n",
       "  Message('note_on', channel=1, note=43, velocity=0, time=120),\n",
       "  Message('note_on', channel=1, note=43, velocity=100, time=120),\n",
       "  Message('note_on', channel=1, note=43, velocity=0, time=120),\n",
       "  Message('note_on', channel=1, note=43, velocity=100, time=120),\n",
       "  Message('note_on', channel=1, note=43, velocity=0, time=120),\n",
       "  Message('note_on', channel=1, note=43, velocity=100, time=120),\n",
       "  Message('note_on', channel=1, note=43, velocity=0, time=120),\n",
       "  Message('note_on', channel=1, note=43, velocity=100, time=120),\n",
       "  Message('note_on', channel=1, note=43, velocity=0, time=120),\n",
       "  Message('note_on', channel=1, note=43, velocity=100, time=120),\n",
       "  Message('note_on', channel=1, note=43, velocity=0, time=120),\n",
       "  Message('note_on', channel=1, note=43, velocity=100, time=120),\n",
       "  Message('note_on', channel=1, note=43, velocity=0, time=120),\n",
       "  Message('note_on', channel=1, note=43, velocity=100, time=120),\n",
       "  Message('note_on', channel=1, note=43, velocity=0, time=120),\n",
       "  Message('note_on', channel=1, note=50, velocity=100, time=960),\n",
       "  Message('note_on', channel=1, note=50, velocity=0, time=240),\n",
       "  Message('note_on', channel=1, note=50, velocity=100, time=0),\n",
       "  Message('note_on', channel=1, note=50, velocity=0, time=240),\n",
       "  Message('note_on', channel=1, note=50, velocity=100, time=0),\n",
       "  Message('note_on', channel=1, note=50, velocity=0, time=240),\n",
       "  Message('note_on', channel=1, note=50, velocity=100, time=0),\n",
       "  Message('note_on', channel=1, note=50, velocity=0, time=240),\n",
       "  Message('note_on', channel=1, note=50, velocity=100, time=0),\n",
       "  Message('note_on', channel=1, note=50, velocity=0, time=240),\n",
       "  Message('note_on', channel=1, note=50, velocity=100, time=0),\n",
       "  Message('note_on', channel=1, note=50, velocity=0, time=240),\n",
       "  Message('note_on', channel=1, note=50, velocity=100, time=0),\n",
       "  Message('note_on', channel=1, note=50, velocity=0, time=480),\n",
       "  Message('note_on', channel=1, note=50, velocity=100, time=0),\n",
       "  Message('note_on', channel=1, note=50, velocity=0, time=240),\n",
       "  Message('note_on', channel=1, note=50, velocity=100, time=0),\n",
       "  Message('note_on', channel=1, note=50, velocity=0, time=480),\n",
       "  Message('note_on', channel=1, note=50, velocity=100, time=0),\n",
       "  Message('note_on', channel=1, note=50, velocity=0, time=240),\n",
       "  Message('note_on', channel=1, note=50, velocity=100, time=0),\n",
       "  Message('note_on', channel=1, note=50, velocity=0, time=240),\n",
       "  Message('note_on', channel=1, note=50, velocity=100, time=0),\n",
       "  Message('note_on', channel=1, note=50, velocity=0, time=240),\n",
       "  Message('note_on', channel=1, note=50, velocity=100, time=0),\n",
       "  Message('note_on', channel=1, note=50, velocity=0, time=240),\n",
       "  Message('note_on', channel=1, note=50, velocity=100, time=0),\n",
       "  Message('note_on', channel=1, note=50, velocity=0, time=240),\n",
       "  Message('note_on', channel=1, note=50, velocity=100, time=0),\n",
       "  Message('note_on', channel=1, note=50, velocity=0, time=240),\n",
       "  Message('note_on', channel=1, note=50, velocity=100, time=0),\n",
       "  Message('note_on', channel=1, note=50, velocity=0, time=240),\n",
       "  Message('note_on', channel=1, note=50, velocity=100, time=0),\n",
       "  Message('note_on', channel=1, note=50, velocity=0, time=480),\n",
       "  Message('note_on', channel=1, note=50, velocity=100, time=0),\n",
       "  Message('note_on', channel=1, note=50, velocity=0, time=240),\n",
       "  Message('note_on', channel=1, note=50, velocity=100, time=0),\n",
       "  Message('note_on', channel=1, note=50, velocity=0, time=480),\n",
       "  Message('note_on', channel=1, note=54, velocity=100, time=23280),\n",
       "  Message('note_on', channel=1, note=54, velocity=0, time=120),\n",
       "  Message('note_on', channel=1, note=52, velocity=100, time=0),\n",
       "  Message('note_on', channel=1, note=52, velocity=0, time=120),\n",
       "  Message('note_on', channel=1, note=54, velocity=100, time=0),\n",
       "  Message('note_on', channel=1, note=54, velocity=0, time=240),\n",
       "  Message('note_on', channel=1, note=50, velocity=100, time=0),\n",
       "  Message('note_on', channel=1, note=50, velocity=0, time=240),\n",
       "  Message('note_on', channel=1, note=38, velocity=100, time=0),\n",
       "  Message('note_on', channel=1, note=38, velocity=0, time=120),\n",
       "  Message('note_on', channel=1, note=45, velocity=100, time=0),\n",
       "  Message('note_on', channel=1, note=45, velocity=0, time=120),\n",
       "  Message('note_on', channel=1, note=50, velocity=100, time=0),\n",
       "  Message('note_on', channel=1, note=50, velocity=0, time=240),\n",
       "  Message('note_on', channel=1, note=54, velocity=100, time=0),\n",
       "  Message('note_on', channel=1, note=54, velocity=0, time=240),\n",
       "  Message('note_on', channel=1, note=55, velocity=100, time=0),\n",
       "  Message('note_on', channel=1, note=55, velocity=0, time=120),\n",
       "  Message('note_on', channel=1, note=54, velocity=100, time=0),\n",
       "  Message('note_on', channel=1, note=54, velocity=0, time=120),\n",
       "  Message('note_on', channel=1, note=55, velocity=100, time=0),\n",
       "  Message('note_on', channel=1, note=55, velocity=0, time=240),\n",
       "  Message('note_on', channel=1, note=50, velocity=100, time=0),\n",
       "  Message('note_on', channel=1, note=50, velocity=0, time=240),\n",
       "  Message('note_on', channel=1, note=52, velocity=100, time=0),\n",
       "  Message('note_on', channel=1, note=52, velocity=0, time=120),\n",
       "  Message('note_on', channel=1, note=53, velocity=100, time=0),\n",
       "  Message('note_on', channel=1, note=53, velocity=0, time=120),\n",
       "  Message('note_on', channel=1, note=55, velocity=100, time=0),\n",
       "  Message('note_on', channel=1, note=55, velocity=0, time=120),\n",
       "  Message('note_on', channel=1, note=57, velocity=100, time=0),\n",
       "  Message('note_on', channel=1, note=57, velocity=0, time=120),\n",
       "  Message('note_on', channel=1, note=58, velocity=100, time=0),\n",
       "  Message('note_on', channel=1, note=58, velocity=0, time=120),\n",
       "  Message('note_on', channel=1, note=55, velocity=100, time=0),\n",
       "  Message('note_on', channel=1, note=55, velocity=0, time=120),\n",
       "  Message('note_on', channel=1, note=57, velocity=100, time=0),\n",
       "  Message('note_on', channel=1, note=57, velocity=0, time=120),\n",
       "  Message('note_on', channel=1, note=55, velocity=100, time=0),\n",
       "  Message('note_on', channel=1, note=55, velocity=0, time=120),\n",
       "  Message('note_on', channel=1, note=53, velocity=100, time=0),\n",
       "  Message('note_on', channel=1, note=53, velocity=0, time=120),\n",
       "  Message('note_on', channel=1, note=52, velocity=100, time=0),\n",
       "  Message('note_on', channel=1, note=52, velocity=0, time=120),\n",
       "  Message('note_on', channel=1, note=53, velocity=100, time=0),\n",
       "  Message('note_on', channel=1, note=53, velocity=0, time=120),\n",
       "  Message('note_on', channel=1, note=62, velocity=100, time=0),\n",
       "  Message('note_on', channel=1, note=62, velocity=0, time=120),\n",
       "  Message('note_on', channel=1, note=60, velocity=100, time=0),\n",
       "  Message('note_on', channel=1, note=60, velocity=0, time=120),\n",
       "  Message('note_on', channel=1, note=59, velocity=100, time=0),\n",
       "  Message('note_on', channel=1, note=59, velocity=0, time=120),\n",
       "  Message('note_on', channel=1, note=57, velocity=100, time=0),\n",
       "  Message('note_on', channel=1, note=57, velocity=0, time=120),\n",
       "  Message('note_on', channel=1, note=55, velocity=100, time=0),\n",
       "  Message('note_on', channel=1, note=55, velocity=0, time=120),\n",
       "  Message('note_on', channel=1, note=60, velocity=100, time=0),\n",
       "  Message('note_on', channel=1, note=60, velocity=0, time=120),\n",
       "  Message('note_on', channel=1, note=52, velocity=100, time=0),\n",
       "  Message('note_on', channel=1, note=52, velocity=0, time=120),\n",
       "  Message('note_on', channel=1, note=43, velocity=100, time=0),\n",
       "  Message('note_on', channel=1, note=43, velocity=0, time=120),\n",
       "  Message('note_on', channel=1, note=53, velocity=100, time=0),\n",
       "  Message('note_on', channel=1, note=53, velocity=0, time=120),\n",
       "  Message('note_on', channel=1, note=52, velocity=100, time=0),\n",
       "  Message('note_on', channel=1, note=52, velocity=0, time=120),\n",
       "  Message('note_on', channel=1, note=50, velocity=100, time=0),\n",
       "  Message('note_on', channel=1, note=50, velocity=0, time=120),\n",
       "  Message('note_on', channel=1, note=52, velocity=100, time=0),\n",
       "  Message('note_on', channel=1, note=52, velocity=0, time=120),\n",
       "  Message('note_on', channel=1, note=48, velocity=100, time=0),\n",
       "  Message('note_on', channel=1, note=48, velocity=0, time=120),\n",
       "  Message('note_on', channel=1, note=55, velocity=100, time=0),\n",
       "  Message('note_on', channel=1, note=55, velocity=0, time=480),\n",
       "  Message('note_on', channel=1, note=55, velocity=100, time=0),\n",
       "  Message('note_on', channel=1, note=55, velocity=0, time=240),\n",
       "  Message('note_on', channel=1, note=53, velocity=100, time=0),\n",
       "  Message('note_on', channel=1, note=53, velocity=0, time=120),\n",
       "  Message('note_on', channel=1, note=52, velocity=100, time=120),\n",
       "  Message('note_on', channel=1, note=52, velocity=0, time=120),\n",
       "  Message('note_on', channel=1, note=50, velocity=100, time=120),\n",
       "  Message('note_on', channel=1, note=50, velocity=0, time=120),\n",
       "  Message('note_on', channel=1, note=52, velocity=100, time=120),\n",
       "  Message('note_on', channel=1, note=52, velocity=0, time=120),\n",
       "  Message('note_on', channel=1, note=50, velocity=100, time=120),\n",
       "  Message('note_on', channel=1, note=50, velocity=0, time=120),\n",
       "  Message('note_on', channel=1, note=52, velocity=100, time=120),\n",
       "  Message('note_on', channel=1, note=52, velocity=0, time=120),\n",
       "  Message('note_on', channel=1, note=53, velocity=100, time=120),\n",
       "  Message('note_on', channel=1, note=53, velocity=0, time=120),\n",
       "  Message('note_on', channel=1, note=52, velocity=100, time=120),\n",
       "  Message('note_on', channel=1, note=52, velocity=0, time=120),\n",
       "  Message('note_on', channel=1, note=50, velocity=100, time=120),\n",
       "  Message('note_on', channel=1, note=50, velocity=0, time=120),\n",
       "  Message('note_on', channel=1, note=52, velocity=100, time=120),\n",
       "  Message('note_on', channel=1, note=52, velocity=0, time=120),\n",
       "  Message('note_on', channel=1, note=54, velocity=100, time=120),\n",
       "  Message('note_on', channel=1, note=54, velocity=0, time=120),\n",
       "  Message('note_on', channel=1, note=55, velocity=100, time=120),\n",
       "  Message('note_on', channel=1, note=55, velocity=0, time=120),\n",
       "  Message('note_on', channel=1, note=54, velocity=100, time=120),\n",
       "  Message('note_on', channel=1, note=54, velocity=0, time=120),\n",
       "  Message('note_on', channel=1, note=50, velocity=100, time=120),\n",
       "  Message('note_on', channel=1, note=50, velocity=0, time=120),\n",
       "  Message('note_on', channel=1, note=52, velocity=100, time=120),\n",
       "  Message('note_on', channel=1, note=52, velocity=0, time=120),\n",
       "  Message('note_on', channel=1, note=54, velocity=100, time=120),\n",
       "  Message('note_on', channel=1, note=54, velocity=0, time=120),\n",
       "  Message('note_on', channel=1, note=55, velocity=100, time=120),\n",
       "  Message('note_on', channel=1, note=55, velocity=0, time=120),\n",
       "  Message('note_on', channel=1, note=52, velocity=100, time=120),\n",
       "  Message('note_on', channel=1, note=52, velocity=0, time=120),\n",
       "  Message('note_on', channel=1, note=54, velocity=100, time=120),\n",
       "  Message('note_on', channel=1, note=54, velocity=0, time=120),\n",
       "  Message('note_on', channel=1, note=50, velocity=100, time=120),\n",
       "  Message('note_on', channel=1, note=50, velocity=0, time=120),\n",
       "  Message('note_on', channel=1, note=52, velocity=100, time=120),\n",
       "  Message('note_on', channel=1, note=52, velocity=0, time=120),\n",
       "  Message('note_on', channel=1, note=54, velocity=100, time=120),\n",
       "  Message('note_on', channel=1, note=54, velocity=0, time=120),\n",
       "  Message('note_on', channel=1, note=52, velocity=100, time=120),\n",
       "  Message('note_on', channel=1, note=52, velocity=0, time=120),\n",
       "  Message('note_on', channel=1, note=50, velocity=100, time=120),\n",
       "  Message('note_on', channel=1, note=50, velocity=0, time=120),\n",
       "  Message('note_on', channel=1, note=50, velocity=100, time=240),\n",
       "  Message('note_on', channel=1, note=50, velocity=0, time=120),\n",
       "  Message('note_on', channel=1, note=50, velocity=100, time=120),\n",
       "  Message('note_on', channel=1, note=50, velocity=0, time=120),\n",
       "  Message('note_on', channel=1, note=50, velocity=100, time=120),\n",
       "  Message('note_on', channel=1, note=50, velocity=0, time=120),\n",
       "  Message('note_on', channel=1, note=50, velocity=100, time=120),\n",
       "  Message('note_on', channel=1, note=50, velocity=0, time=120),\n",
       "  Message('note_on', channel=1, note=50, velocity=100, time=120),\n",
       "  Message('note_on', channel=1, note=50, velocity=0, time=120),\n",
       "  Message('note_on', channel=1, note=50, velocity=100, time=120),\n",
       "  Message('note_on', channel=1, note=50, velocity=0, time=120),\n",
       "  Message('note_on', channel=1, note=50, velocity=100, time=120),\n",
       "  Message('note_on', channel=1, note=50, velocity=0, time=120),\n",
       "  Message('note_on', channel=1, note=50, velocity=100, time=120),\n",
       "  Message('note_on', channel=1, note=50, velocity=0, time=120),\n",
       "  Message('note_on', channel=1, note=43, velocity=100, time=240),\n",
       "  Message('note_on', channel=1, note=43, velocity=0, time=480),\n",
       "  Message('note_on', channel=1, note=53, velocity=100, time=240),\n",
       "  Message('note_on', channel=1, note=53, velocity=0, time=120),\n",
       "  Message('note_on', channel=1, note=55, velocity=100, time=0),\n",
       "  Message('note_on', channel=1, note=55, velocity=0, time=120),\n",
       "  Message('note_on', channel=1, note=56, velocity=100, time=0),\n",
       "  Message('note_on', channel=1, note=56, velocity=0, time=240),\n",
       "  Message('note_on', channel=1, note=55, velocity=100, time=0),\n",
       "  Message('note_on', channel=1, note=55, velocity=0, time=240),\n",
       "  Message('note_on', channel=1, note=53, velocity=100, time=0),\n",
       "  Message('note_on', channel=1, note=53, velocity=0, time=240),\n",
       "  Message('note_on', channel=1, note=51, velocity=100, time=0),\n",
       "  Message('note_on', channel=1, note=51, velocity=0, time=240),\n",
       "  Message('note_on', channel=1, note=50, velocity=100, time=0),\n",
       "  Message('note_on', channel=1, note=50, velocity=0, time=240),\n",
       "  Message('note_on', channel=1, note=59, velocity=100, time=0),\n",
       "  Message('note_on', channel=1, note=59, velocity=0, time=240),\n",
       "  Message('note_on', channel=1, note=60, velocity=100, time=0),\n",
       "  Message('note_on', channel=1, note=60, velocity=0, time=240),\n",
       "  Message('note_on', channel=1, note=50, velocity=100, time=0),\n",
       "  Message('note_on', channel=1, note=50, velocity=0, time=240),\n",
       "  Message('note_on', channel=1, note=59, velocity=100, time=0),\n",
       "  Message('note_on', channel=1, note=59, velocity=0, time=240),\n",
       "  Message('note_on', channel=1, note=60, velocity=100, time=0),\n",
       "  Message('note_on', channel=1, note=60, velocity=0, time=240),\n",
       "  Message('note_on', channel=1, note=50, velocity=100, time=0),\n",
       "  Message('note_on', channel=1, note=50, velocity=0, time=240),\n",
       "  Message('note_on', channel=1, note=53, velocity=100, time=0),\n",
       "  Message('note_on', channel=1, note=53, velocity=0, time=120),\n",
       "  Message('note_on', channel=1, note=55, velocity=100, time=0),\n",
       "  Message('note_on', channel=1, note=55, velocity=0, time=120),\n",
       "  Message('note_on', channel=1, note=56, velocity=100, time=0),\n",
       "  Message('note_on', channel=1, note=56, velocity=0, time=240),\n",
       "  Message('note_on', channel=1, note=55, velocity=100, time=0),\n",
       "  Message('note_on', channel=1, note=55, velocity=0, time=240),\n",
       "  Message('note_on', channel=1, note=53, velocity=100, time=0),\n",
       "  Message('note_on', channel=1, note=53, velocity=0, time=240),\n",
       "  Message('note_on', channel=1, note=51, velocity=100, time=0),\n",
       "  Message('note_on', channel=1, note=51, velocity=0, time=240),\n",
       "  Message('note_on', channel=1, note=50, velocity=100, time=0),\n",
       "  Message('note_on', channel=1, note=50, velocity=0, time=240),\n",
       "  Message('note_on', channel=1, note=54, velocity=100, time=0),\n",
       "  Message('note_on', channel=1, note=54, velocity=0, time=240),\n",
       "  Message('note_on', channel=1, note=55, velocity=100, time=0),\n",
       "  Message('note_on', channel=1, note=55, velocity=0, time=240),\n",
       "  Message('note_on', channel=1, note=50, velocity=100, time=0),\n",
       "  Message('note_on', channel=1, note=50, velocity=0, time=240),\n",
       "  Message('note_on', channel=1, note=54, velocity=100, time=0),\n",
       "  Message('note_on', channel=1, note=54, velocity=0, time=240),\n",
       "  Message('note_on', channel=1, note=55, velocity=100, time=0),\n",
       "  Message('note_on', channel=1, note=55, velocity=0, time=120),\n",
       "  Message('note_on', channel=1, note=53, velocity=100, time=0),\n",
       "  Message('note_on', channel=1, note=53, velocity=0, time=120),\n",
       "  Message('note_on', channel=1, note=52, velocity=100, time=0),\n",
       "  Message('note_on', channel=1, note=52, velocity=0, time=120),\n",
       "  Message('note_on', channel=1, note=50, velocity=100, time=0),\n",
       "  Message('note_on', channel=1, note=50, velocity=0, time=120),\n",
       "  Message('note_on', channel=1, note=48, velocity=100, time=0),\n",
       "  Message('note_on', channel=1, note=48, velocity=0, time=120),\n",
       "  Message('note_on', channel=1, note=52, velocity=100, time=0),\n",
       "  Message('note_on', channel=1, note=52, velocity=0, time=120),\n",
       "  Message('note_on', channel=1, note=55, velocity=100, time=0),\n",
       "  Message('note_on', channel=1, note=55, velocity=0, time=240),\n",
       "  Message('note_on', channel=1, note=57, velocity=100, time=0),\n",
       "  Message('note_on', channel=1, note=57, velocity=0, time=240),\n",
       "  Message('note_on', channel=1, note=50, velocity=100, time=0),\n",
       "  Message('note_on', channel=1, note=50, velocity=0, time=120),\n",
       "  Message('note_on', channel=1, note=53, velocity=100, time=0),\n",
       "  Message('note_on', channel=1, note=53, velocity=0, time=120),\n",
       "  Message('note_on', channel=1, note=57, velocity=100, time=0),\n",
       "  Message('note_on', channel=1, note=57, velocity=0, time=240),\n",
       "  Message('note_on', channel=1, note=59, velocity=100, time=0),\n",
       "  Message('note_on', channel=1, note=59, velocity=0, time=240),\n",
       "  Message('note_on', channel=1, note=52, velocity=100, time=0),\n",
       "  Message('note_on', channel=1, note=52, velocity=0, time=120),\n",
       "  Message('note_on', channel=1, note=55, velocity=100, time=0),\n",
       "  Message('note_on', channel=1, note=55, velocity=0, time=120),\n",
       "  Message('note_on', channel=1, note=60, velocity=100, time=0),\n",
       "  Message('note_on', channel=1, note=60, velocity=0, time=120),\n",
       "  Message('note_on', channel=1, note=57, velocity=100, time=0),\n",
       "  Message('note_on', channel=1, note=57, velocity=0, time=120),\n",
       "  Message('note_on', channel=1, note=58, velocity=100, time=0),\n",
       "  Message('note_on', channel=1, note=58, velocity=0, time=120),\n",
       "  Message('note_on', channel=1, note=55, velocity=100, time=0),\n",
       "  Message('note_on', channel=1, note=55, velocity=0, time=120),\n",
       "  Message('note_on', channel=1, note=57, velocity=100, time=0),\n",
       "  Message('note_on', channel=1, note=57, velocity=0, time=120),\n",
       "  Message('note_on', channel=1, note=53, velocity=100, time=0),\n",
       "  Message('note_on', channel=1, note=53, velocity=0, time=120),\n",
       "  Message('note_on', channel=1, note=50, velocity=100, time=0),\n",
       "  Message('note_on', channel=1, note=50, velocity=0, time=120),\n",
       "  Message('note_on', channel=1, note=53, velocity=100, time=0),\n",
       "  Message('note_on', channel=1, note=53, velocity=0, time=120),\n",
       "  Message('note_on', channel=1, note=52, velocity=100, time=0),\n",
       "  Message('note_on', channel=1, note=52, velocity=0, time=120),\n",
       "  Message('note_on', channel=1, note=50, velocity=100, time=0),\n",
       "  Message('note_on', channel=1, note=50, velocity=0, time=120),\n",
       "  Message('note_on', channel=1, note=55, velocity=100, time=0),\n",
       "  Message('note_on', channel=1, note=55, velocity=0, time=120),\n",
       "  Message('note_on', channel=1, note=50, velocity=100, time=0),\n",
       "  Message('note_on', channel=1, note=50, velocity=0, time=120),\n",
       "  Message('note_on', channel=1, note=47, velocity=100, time=0),\n",
       "  Message('note_on', channel=1, note=47, velocity=0, time=120),\n",
       "  Message('note_on', channel=1, note=45, velocity=100, time=0),\n",
       "  Message('note_on', channel=1, note=45, velocity=0, time=120),\n",
       "  Message('note_on', channel=1, note=43, velocity=100, time=0),\n",
       "  Message('note_on', channel=1, note=43, velocity=0, time=120),\n",
       "  Message('note_on', channel=1, note=41, velocity=100, time=0),\n",
       "  Message('note_on', channel=1, note=41, velocity=0, time=120),\n",
       "  Message('note_on', channel=1, note=40, velocity=100, time=0),\n",
       "  Message('note_on', channel=1, note=40, velocity=0, time=120),\n",
       "  Message('note_on', channel=1, note=43, velocity=100, time=0),\n",
       "  Message('note_on', channel=1, note=43, velocity=0, time=120),\n",
       "  Message('note_on', channel=1, note=48, velocity=100, time=0),\n",
       "  Message('note_on', channel=1, note=48, velocity=0, time=120),\n",
       "  Message('note_on', channel=1, note=40, velocity=100, time=0),\n",
       "  Message('note_on', channel=1, note=40, velocity=0, time=120),\n",
       "  Message('note_on', channel=1, note=38, velocity=100, time=0),\n",
       "  Message('note_on', channel=1, note=38, velocity=0, time=120),\n",
       "  Message('note_on', channel=1, note=47, velocity=100, time=0),\n",
       "  Message('note_on', channel=1, note=47, velocity=0, time=120),\n",
       "  Message('note_on', channel=1, note=48, velocity=100, time=0),\n",
       "  Message('note_on', channel=1, note=48, velocity=0, time=240),\n",
       "  Message('note_on', channel=1, note=52, velocity=100, time=0),\n",
       "  Message('note_on', channel=1, note=52, velocity=0, time=240),\n",
       "  Message('note_on', channel=1, note=55, velocity=100, time=0),\n",
       "  Message('note_on', channel=1, note=55, velocity=0, time=240),\n",
       "  Message('note_on', channel=1, note=60, velocity=100, time=0),\n",
       "  Message('note_on', channel=1, note=60, velocity=0, time=480),\n",
       "  Message('note_on', channel=1, note=54, velocity=100, time=17520),\n",
       "  Message('note_on', channel=1, note=54, velocity=0, time=120),\n",
       "  Message('note_on', channel=1, note=52, velocity=100, time=0),\n",
       "  Message('note_on', channel=1, note=52, velocity=0, time=120),\n",
       "  Message('note_on', channel=1, note=54, velocity=100, time=0),\n",
       "  Message('note_on', channel=1, note=54, velocity=0, time=240),\n",
       "  Message('note_on', channel=1, note=50, velocity=100, time=0),\n",
       "  Message('note_on', channel=1, note=50, velocity=0, time=240),\n",
       "  Message('note_on', channel=1, note=38, velocity=100, time=0),\n",
       "  Message('note_on', channel=1, note=38, velocity=0, time=120),\n",
       "  Message('note_on', channel=1, note=45, velocity=100, time=0),\n",
       "  Message('note_on', channel=1, note=45, velocity=0, time=120),\n",
       "  Message('note_on', channel=1, note=50, velocity=100, time=0),\n",
       "  Message('note_on', channel=1, note=50, velocity=0, time=240),\n",
       "  Message('note_on', channel=1, note=54, velocity=100, time=0),\n",
       "  Message('note_on', channel=1, note=54, velocity=0, time=240),\n",
       "  Message('note_on', channel=1, note=55, velocity=100, time=0),\n",
       "  Message('note_on', channel=1, note=55, velocity=0, time=120),\n",
       "  Message('note_on', channel=1, note=54, velocity=100, time=0),\n",
       "  Message('note_on', channel=1, note=54, velocity=0, time=120),\n",
       "  Message('note_on', channel=1, note=55, velocity=100, time=0),\n",
       "  Message('note_on', channel=1, note=55, velocity=0, time=240),\n",
       "  Message('note_on', channel=1, note=50, velocity=100, time=0),\n",
       "  Message('note_on', channel=1, note=50, velocity=0, time=240),\n",
       "  Message('note_on', channel=1, note=52, velocity=100, time=0),\n",
       "  Message('note_on', channel=1, note=52, velocity=0, time=120),\n",
       "  Message('note_on', channel=1, note=53, velocity=100, time=0),\n",
       "  Message('note_on', channel=1, note=53, velocity=0, time=120),\n",
       "  Message('note_on', channel=1, note=55, velocity=100, time=0),\n",
       "  Message('note_on', channel=1, note=55, velocity=0, time=120),\n",
       "  Message('note_on', channel=1, note=57, velocity=100, time=0),\n",
       "  Message('note_on', channel=1, note=57, velocity=0, time=120),\n",
       "  Message('note_on', channel=1, note=58, velocity=100, time=0),\n",
       "  Message('note_on', channel=1, note=58, velocity=0, time=120),\n",
       "  Message('note_on', channel=1, note=55, velocity=100, time=0),\n",
       "  Message('note_on', channel=1, note=55, velocity=0, time=120),\n",
       "  Message('note_on', channel=1, note=57, velocity=100, time=0),\n",
       "  Message('note_on', channel=1, note=57, velocity=0, time=120),\n",
       "  Message('note_on', channel=1, note=55, velocity=100, time=0),\n",
       "  Message('note_on', channel=1, note=55, velocity=0, time=120),\n",
       "  Message('note_on', channel=1, note=53, velocity=100, time=0),\n",
       "  Message('note_on', channel=1, note=53, velocity=0, time=120),\n",
       "  Message('note_on', channel=1, note=52, velocity=100, time=0),\n",
       "  Message('note_on', channel=1, note=52, velocity=0, time=120),\n",
       "  Message('note_on', channel=1, note=53, velocity=100, time=0),\n",
       "  Message('note_on', channel=1, note=53, velocity=0, time=120),\n",
       "  Message('note_on', channel=1, note=62, velocity=100, time=0),\n",
       "  Message('note_on', channel=1, note=62, velocity=0, time=120),\n",
       "  Message('note_on', channel=1, note=60, velocity=100, time=0),\n",
       "  Message('note_on', channel=1, note=60, velocity=0, time=120),\n",
       "  Message('note_on', channel=1, note=59, velocity=100, time=0),\n",
       "  Message('note_on', channel=1, note=59, velocity=0, time=120),\n",
       "  Message('note_on', channel=1, note=57, velocity=100, time=0),\n",
       "  Message('note_on', channel=1, note=57, velocity=0, time=120),\n",
       "  Message('note_on', channel=1, note=55, velocity=100, time=0),\n",
       "  Message('note_on', channel=1, note=55, velocity=0, time=120),\n",
       "  Message('note_on', channel=1, note=60, velocity=100, time=0),\n",
       "  Message('note_on', channel=1, note=60, velocity=0, time=120),\n",
       "  Message('note_on', channel=1, note=52, velocity=100, time=0),\n",
       "  Message('note_on', channel=1, note=52, velocity=0, time=120),\n",
       "  Message('note_on', channel=1, note=43, velocity=100, time=0),\n",
       "  Message('note_on', channel=1, note=43, velocity=0, time=120),\n",
       "  Message('note_on', channel=1, note=53, velocity=100, time=0),\n",
       "  Message('note_on', channel=1, note=53, velocity=0, time=120),\n",
       "  Message('note_on', channel=1, note=52, velocity=100, time=0),\n",
       "  Message('note_on', channel=1, note=52, velocity=0, time=120),\n",
       "  Message('note_on', channel=1, note=50, velocity=100, time=0),\n",
       "  Message('note_on', channel=1, note=50, velocity=0, time=120),\n",
       "  Message('note_on', channel=1, note=52, velocity=100, time=0),\n",
       "  Message('note_on', channel=1, note=52, velocity=0, time=120),\n",
       "  Message('note_on', channel=1, note=48, velocity=100, time=0),\n",
       "  Message('note_on', channel=1, note=48, velocity=0, time=120),\n",
       "  Message('note_on', channel=1, note=55, velocity=100, time=0),\n",
       "  Message('note_on', channel=1, note=55, velocity=0, time=480),\n",
       "  Message('note_on', channel=1, note=55, velocity=100, time=0),\n",
       "  Message('note_on', channel=1, note=55, velocity=0, time=240),\n",
       "  Message('note_on', channel=1, note=53, velocity=100, time=0),\n",
       "  Message('note_on', channel=1, note=53, velocity=0, time=120),\n",
       "  Message('note_on', channel=1, note=52, velocity=100, time=120),\n",
       "  Message('note_on', channel=1, note=52, velocity=0, time=120),\n",
       "  Message('note_on', channel=1, note=50, velocity=100, time=120),\n",
       "  Message('note_on', channel=1, note=50, velocity=0, time=120),\n",
       "  Message('note_on', channel=1, note=52, velocity=100, time=120),\n",
       "  Message('note_on', channel=1, note=52, velocity=0, time=120),\n",
       "  Message('note_on', channel=1, note=50, velocity=100, time=120),\n",
       "  Message('note_on', channel=1, note=50, velocity=0, time=120),\n",
       "  Message('note_on', channel=1, note=52, velocity=100, time=120),\n",
       "  Message('note_on', channel=1, note=52, velocity=0, time=120),\n",
       "  Message('note_on', channel=1, note=53, velocity=100, time=120),\n",
       "  Message('note_on', channel=1, note=53, velocity=0, time=120),\n",
       "  Message('note_on', channel=1, note=52, velocity=100, time=120),\n",
       "  Message('note_on', channel=1, note=52, velocity=0, time=120),\n",
       "  Message('note_on', channel=1, note=50, velocity=100, time=120),\n",
       "  Message('note_on', channel=1, note=50, velocity=0, time=120),\n",
       "  Message('note_on', channel=1, note=52, velocity=100, time=120),\n",
       "  Message('note_on', channel=1, note=52, velocity=0, time=120),\n",
       "  Message('note_on', channel=1, note=54, velocity=100, time=120),\n",
       "  Message('note_on', channel=1, note=54, velocity=0, time=120),\n",
       "  Message('note_on', channel=1, note=55, velocity=100, time=120),\n",
       "  Message('note_on', channel=1, note=55, velocity=0, time=120),\n",
       "  Message('note_on', channel=1, note=54, velocity=100, time=120),\n",
       "  Message('note_on', channel=1, note=54, velocity=0, time=120),\n",
       "  Message('note_on', channel=1, note=50, velocity=100, time=120),\n",
       "  Message('note_on', channel=1, note=50, velocity=0, time=120),\n",
       "  Message('note_on', channel=1, note=52, velocity=100, time=120),\n",
       "  Message('note_on', channel=1, note=52, velocity=0, time=120),\n",
       "  Message('note_on', channel=1, note=54, velocity=100, time=120),\n",
       "  Message('note_on', channel=1, note=54, velocity=0, time=120),\n",
       "  Message('note_on', channel=1, note=55, velocity=100, time=120),\n",
       "  Message('note_on', channel=1, note=55, velocity=0, time=120),\n",
       "  Message('note_on', channel=1, note=52, velocity=100, time=120),\n",
       "  Message('note_on', channel=1, note=52, velocity=0, time=120),\n",
       "  Message('note_on', channel=1, note=54, velocity=100, time=120),\n",
       "  Message('note_on', channel=1, note=54, velocity=0, time=120),\n",
       "  Message('note_on', channel=1, note=50, velocity=100, time=120),\n",
       "  Message('note_on', channel=1, note=50, velocity=0, time=120),\n",
       "  Message('note_on', channel=1, note=52, velocity=100, time=120),\n",
       "  Message('note_on', channel=1, note=52, velocity=0, time=120),\n",
       "  Message('note_on', channel=1, note=54, velocity=100, time=120),\n",
       "  Message('note_on', channel=1, note=54, velocity=0, time=120),\n",
       "  Message('note_on', channel=1, note=52, velocity=100, time=120),\n",
       "  Message('note_on', channel=1, note=52, velocity=0, time=120),\n",
       "  Message('note_on', channel=1, note=50, velocity=100, time=120),\n",
       "  Message('note_on', channel=1, note=50, velocity=0, time=120),\n",
       "  Message('note_on', channel=1, note=50, velocity=100, time=240),\n",
       "  Message('note_on', channel=1, note=50, velocity=0, time=120),\n",
       "  Message('note_on', channel=1, note=50, velocity=100, time=120),\n",
       "  Message('note_on', channel=1, note=50, velocity=0, time=120),\n",
       "  Message('note_on', channel=1, note=50, velocity=100, time=120),\n",
       "  Message('note_on', channel=1, note=50, velocity=0, time=120),\n",
       "  Message('note_on', channel=1, note=50, velocity=100, time=120),\n",
       "  Message('note_on', channel=1, note=50, velocity=0, time=120),\n",
       "  Message('note_on', channel=1, note=50, velocity=100, time=120),\n",
       "  Message('note_on', channel=1, note=50, velocity=0, time=120),\n",
       "  Message('note_on', channel=1, note=50, velocity=100, time=120),\n",
       "  Message('note_on', channel=1, note=50, velocity=0, time=120),\n",
       "  Message('note_on', channel=1, note=50, velocity=100, time=120),\n",
       "  Message('note_on', channel=1, note=50, velocity=0, time=120),\n",
       "  Message('note_on', channel=1, note=50, velocity=100, time=120),\n",
       "  Message('note_on', channel=1, note=50, velocity=0, time=120),\n",
       "  Message('note_on', channel=1, note=43, velocity=100, time=240),\n",
       "  Message('note_on', channel=1, note=43, velocity=0, time=480),\n",
       "  Message('note_on', channel=1, note=53, velocity=100, time=240),\n",
       "  Message('note_on', channel=1, note=53, velocity=0, time=120),\n",
       "  Message('note_on', channel=1, note=55, velocity=100, time=0),\n",
       "  Message('note_on', channel=1, note=55, velocity=0, time=120),\n",
       "  Message('note_on', channel=1, note=56, velocity=100, time=0),\n",
       "  Message('note_on', channel=1, note=56, velocity=0, time=240),\n",
       "  Message('note_on', channel=1, note=55, velocity=100, time=0),\n",
       "  Message('note_on', channel=1, note=55, velocity=0, time=240),\n",
       "  Message('note_on', channel=1, note=53, velocity=100, time=0),\n",
       "  Message('note_on', channel=1, note=53, velocity=0, time=240),\n",
       "  Message('note_on', channel=1, note=51, velocity=100, time=0),\n",
       "  Message('note_on', channel=1, note=51, velocity=0, time=240),\n",
       "  Message('note_on', channel=1, note=50, velocity=100, time=0),\n",
       "  Message('note_on', channel=1, note=50, velocity=0, time=240),\n",
       "  Message('note_on', channel=1, note=59, velocity=100, time=0),\n",
       "  Message('note_on', channel=1, note=59, velocity=0, time=240),\n",
       "  Message('note_on', channel=1, note=60, velocity=100, time=0),\n",
       "  Message('note_on', channel=1, note=60, velocity=0, time=240),\n",
       "  Message('note_on', channel=1, note=50, velocity=100, time=0),\n",
       "  Message('note_on', channel=1, note=50, velocity=0, time=240),\n",
       "  Message('note_on', channel=1, note=59, velocity=100, time=0),\n",
       "  Message('note_on', channel=1, note=59, velocity=0, time=240),\n",
       "  Message('note_on', channel=1, note=60, velocity=100, time=0),\n",
       "  Message('note_on', channel=1, note=60, velocity=0, time=240),\n",
       "  Message('note_on', channel=1, note=50, velocity=100, time=0),\n",
       "  Message('note_on', channel=1, note=50, velocity=0, time=240),\n",
       "  Message('note_on', channel=1, note=53, velocity=100, time=0),\n",
       "  Message('note_on', channel=1, note=53, velocity=0, time=120),\n",
       "  Message('note_on', channel=1, note=55, velocity=100, time=0),\n",
       "  Message('note_on', channel=1, note=55, velocity=0, time=120),\n",
       "  Message('note_on', channel=1, note=56, velocity=100, time=0),\n",
       "  Message('note_on', channel=1, note=56, velocity=0, time=240),\n",
       "  Message('note_on', channel=1, note=55, velocity=100, time=0),\n",
       "  Message('note_on', channel=1, note=55, velocity=0, time=240),\n",
       "  Message('note_on', channel=1, note=53, velocity=100, time=0),\n",
       "  Message('note_on', channel=1, note=53, velocity=0, time=240),\n",
       "  Message('note_on', channel=1, note=51, velocity=100, time=0),\n",
       "  Message('note_on', channel=1, note=51, velocity=0, time=240),\n",
       "  Message('note_on', channel=1, note=50, velocity=100, time=0),\n",
       "  Message('note_on', channel=1, note=50, velocity=0, time=240),\n",
       "  Message('note_on', channel=1, note=54, velocity=100, time=0),\n",
       "  Message('note_on', channel=1, note=54, velocity=0, time=240),\n",
       "  Message('note_on', channel=1, note=55, velocity=100, time=0),\n",
       "  Message('note_on', channel=1, note=55, velocity=0, time=240),\n",
       "  Message('note_on', channel=1, note=50, velocity=100, time=0),\n",
       "  Message('note_on', channel=1, note=50, velocity=0, time=240),\n",
       "  Message('note_on', channel=1, note=54, velocity=100, time=0),\n",
       "  Message('note_on', channel=1, note=54, velocity=0, time=240),\n",
       "  Message('note_on', channel=1, note=55, velocity=100, time=0),\n",
       "  Message('note_on', channel=1, note=55, velocity=0, time=120),\n",
       "  Message('note_on', channel=1, note=53, velocity=100, time=0),\n",
       "  Message('note_on', channel=1, note=53, velocity=0, time=120),\n",
       "  Message('note_on', channel=1, note=52, velocity=100, time=0),\n",
       "  Message('note_on', channel=1, note=52, velocity=0, time=120),\n",
       "  Message('note_on', channel=1, note=50, velocity=100, time=0),\n",
       "  Message('note_on', channel=1, note=50, velocity=0, time=120),\n",
       "  Message('note_on', channel=1, note=48, velocity=100, time=0),\n",
       "  Message('note_on', channel=1, note=48, velocity=0, time=120),\n",
       "  Message('note_on', channel=1, note=52, velocity=100, time=0),\n",
       "  Message('note_on', channel=1, note=52, velocity=0, time=120),\n",
       "  Message('note_on', channel=1, note=55, velocity=100, time=0),\n",
       "  Message('note_on', channel=1, note=55, velocity=0, time=240),\n",
       "  Message('note_on', channel=1, note=57, velocity=100, time=0),\n",
       "  Message('note_on', channel=1, note=57, velocity=0, time=240),\n",
       "  Message('note_on', channel=1, note=50, velocity=100, time=0),\n",
       "  Message('note_on', channel=1, note=50, velocity=0, time=120),\n",
       "  Message('note_on', channel=1, note=53, velocity=100, time=0),\n",
       "  Message('note_on', channel=1, note=53, velocity=0, time=120),\n",
       "  Message('note_on', channel=1, note=57, velocity=100, time=0),\n",
       "  Message('note_on', channel=1, note=57, velocity=0, time=240),\n",
       "  Message('note_on', channel=1, note=59, velocity=100, time=0),\n",
       "  Message('note_on', channel=1, note=59, velocity=0, time=240),\n",
       "  Message('note_on', channel=1, note=52, velocity=100, time=0),\n",
       "  Message('note_on', channel=1, note=52, velocity=0, time=120),\n",
       "  Message('note_on', channel=1, note=55, velocity=100, time=0),\n",
       "  Message('note_on', channel=1, note=55, velocity=0, time=120),\n",
       "  Message('note_on', channel=1, note=60, velocity=100, time=0),\n",
       "  Message('note_on', channel=1, note=60, velocity=0, time=120),\n",
       "  Message('note_on', channel=1, note=57, velocity=100, time=0),\n",
       "  Message('note_on', channel=1, note=57, velocity=0, time=120),\n",
       "  Message('note_on', channel=1, note=58, velocity=100, time=0),\n",
       "  Message('note_on', channel=1, note=58, velocity=0, time=120),\n",
       "  Message('note_on', channel=1, note=55, velocity=100, time=0),\n",
       "  Message('note_on', channel=1, note=55, velocity=0, time=120),\n",
       "  Message('note_on', channel=1, note=57, velocity=100, time=0),\n",
       "  Message('note_on', channel=1, note=57, velocity=0, time=120),\n",
       "  Message('note_on', channel=1, note=53, velocity=100, time=0),\n",
       "  Message('note_on', channel=1, note=53, velocity=0, time=120),\n",
       "  Message('note_on', channel=1, note=50, velocity=100, time=0),\n",
       "  Message('note_on', channel=1, note=50, velocity=0, time=120),\n",
       "  Message('note_on', channel=1, note=53, velocity=100, time=0),\n",
       "  Message('note_on', channel=1, note=53, velocity=0, time=120),\n",
       "  Message('note_on', channel=1, note=52, velocity=100, time=0),\n",
       "  Message('note_on', channel=1, note=52, velocity=0, time=120),\n",
       "  Message('note_on', channel=1, note=50, velocity=100, time=0),\n",
       "  Message('note_on', channel=1, note=50, velocity=0, time=120),\n",
       "  Message('note_on', channel=1, note=55, velocity=100, time=0),\n",
       "  Message('note_on', channel=1, note=55, velocity=0, time=120),\n",
       "  Message('note_on', channel=1, note=50, velocity=100, time=0),\n",
       "  Message('note_on', channel=1, note=50, velocity=0, time=120),\n",
       "  Message('note_on', channel=1, note=47, velocity=100, time=0),\n",
       "  Message('note_on', channel=1, note=47, velocity=0, time=120),\n",
       "  Message('note_on', channel=1, note=45, velocity=100, time=0),\n",
       "  Message('note_on', channel=1, note=45, velocity=0, time=120),\n",
       "  Message('note_on', channel=1, note=43, velocity=100, time=0),\n",
       "  Message('note_on', channel=1, note=43, velocity=0, time=120),\n",
       "  Message('note_on', channel=1, note=41, velocity=100, time=0),\n",
       "  Message('note_on', channel=1, note=41, velocity=0, time=120),\n",
       "  Message('note_on', channel=1, note=40, velocity=100, time=0),\n",
       "  Message('note_on', channel=1, note=40, velocity=0, time=120),\n",
       "  Message('note_on', channel=1, note=43, velocity=100, time=0),\n",
       "  Message('note_on', channel=1, note=43, velocity=0, time=120),\n",
       "  Message('note_on', channel=1, note=48, velocity=100, time=0),\n",
       "  Message('note_on', channel=1, note=48, velocity=0, time=120),\n",
       "  Message('note_on', channel=1, note=40, velocity=100, time=0),\n",
       "  Message('note_on', channel=1, note=40, velocity=0, time=120),\n",
       "  Message('note_on', channel=1, note=38, velocity=100, time=0),\n",
       "  Message('note_on', channel=1, note=38, velocity=0, time=120),\n",
       "  Message('note_on', channel=1, note=47, velocity=100, time=0),\n",
       "  Message('note_on', channel=1, note=47, velocity=0, time=120),\n",
       "  Message('note_on', channel=1, note=48, velocity=100, time=0),\n",
       "  Message('note_on', channel=1, note=48, velocity=0, time=240),\n",
       "  Message('note_on', channel=1, note=52, velocity=100, time=0),\n",
       "  Message('note_on', channel=1, note=52, velocity=0, time=240),\n",
       "  Message('note_on', channel=1, note=55, velocity=100, time=0),\n",
       "  Message('note_on', channel=1, note=55, velocity=0, time=240),\n",
       "  Message('note_on', channel=1, note=60, velocity=100, time=0),\n",
       "  Message('note_on', channel=1, note=60, velocity=0, time=480),\n",
       "  MetaMessage('end_of_track', time=0)])"
      ]
     },
     "execution_count": 177,
     "metadata": {},
     "output_type": "execute_result"
    }
   ],
   "source": [
    "track = mid.tracks[2]\n",
    "track"
   ]
  },
  {
   "cell_type": "markdown",
   "metadata": {},
   "source": [
    "The function `mid2arry` takes the threshold of minimum number of messages into consideration while filtering tracks, and combines all tracks into one numpy array. If two sound track on the same note at the same time, it takes the larger velocity."
   ]
  },
  {
   "cell_type": "code",
   "execution_count": 134,
   "metadata": {
    "ExecuteTime": {
     "end_time": "2022-02-14T22:06:21.696283Z",
     "start_time": "2022-02-14T22:06:21.680319Z"
    }
   },
   "outputs": [],
   "source": [
    "\n",
    "def mid2arry(mid, min_msg_pct=0.1):\n",
    "    tracks_len = [len(tr) for tr in mid.tracks]\n",
    "    min_n_msg = max(tracks_len) * min_msg_pct\n",
    "    # convert each track to nested list\n",
    "    all_arys = []\n",
    "    for i in range(len(mid.tracks)):\n",
    "        if len(mid.tracks[i]) > min_n_msg:\n",
    "            ary_i = track2seq(mid.tracks[i])\n",
    "            all_arys.append(ary_i)\n",
    "    # make all nested list the same length\n",
    "    max_len = max([len(ary) for ary in all_arys])\n",
    "    for i in range(len(all_arys)):\n",
    "        if len(all_arys[i]) < max_len:\n",
    "            all_arys[i] += [[0] * 88] * (max_len - len(all_arys[i]))\n",
    "    all_arys = np.array(all_arys)\n",
    "    all_arys = all_arys.max(axis=0)\n",
    "    # trim: remove consecutive 0s in the beginning and at the end\n",
    "    sums = all_arys.sum(axis=1)\n",
    "    ends = np.where(sums > 0)[0]\n",
    "    return all_arys[min(ends): max(ends)]"
   ]
  },
  {
   "cell_type": "code",
   "execution_count": 140,
   "metadata": {
    "ExecuteTime": {
     "end_time": "2022-02-14T22:08:46.944277Z",
     "start_time": "2022-02-14T22:08:45.371326Z"
    }
   },
   "outputs": [
    {
     "data": {
      "text/plain": [
       "(155519, 128)"
      ]
     },
     "execution_count": 140,
     "metadata": {},
     "output_type": "execute_result"
    }
   ],
   "source": [
    "result_array = mid2arry(mid)\n",
    "result_array.shape"
   ]
  },
  {
   "cell_type": "code",
   "execution_count": 70,
   "metadata": {
    "ExecuteTime": {
     "end_time": "2022-02-14T21:06:24.313898Z",
     "start_time": "2022-02-14T21:06:24.298898Z"
    }
   },
   "outputs": [
    {
     "data": {
      "text/plain": [
       "'note_on channel=2 note=43 velocity=100 time=93000'"
      ]
     },
     "execution_count": 70,
     "metadata": {},
     "output_type": "execute_result"
    }
   ],
   "source": [
    "msg = str(track[5])\n",
    "msg"
   ]
  },
  {
   "cell_type": "code",
   "execution_count": null,
   "metadata": {},
   "outputs": [],
   "source": [
    "result['time'] = int(msg[msg.rfind('time'):].split(' ')[0].split('=')[1].translate(\n",
    "    str.maketrans({a: None for a in string.punctuation})))\n",
    "\n",
    "if on_ is not None:\n",
    "    for k in ['note', 'velocity']:\n",
    "        result[k] = int(msg[msg.rfind(k):].split(' ')[0].split('=')[1].translate(\n",
    "            str.maketrans({a: None for a in string.punctuation})))"
   ]
  },
  {
   "cell_type": "code",
   "execution_count": 104,
   "metadata": {
    "ExecuteTime": {
     "end_time": "2022-02-14T21:24:09.789745Z",
     "start_time": "2022-02-14T21:24:09.770743Z"
    }
   },
   "outputs": [
    {
     "name": "stdout",
     "output_type": "stream",
     "text": [
      "string with 32 punctuation inside of it Does this work I hope so\n"
     ]
    }
   ],
   "source": [
    "#You have to create a translation table using maketrans that you pass to the str.translate method.\n",
    "\n",
    "#In Python 3.1 and newer, maketrans is now a static-method on the str type, so you can use it to create a translation of each punctuation you want to None.\n",
    "\n",
    "import string\n",
    "\n",
    "# Thanks to Martijn Pieters for this improved version\n",
    "\n",
    "# This uses the 3-argument version of str.maketrans\n",
    "# with arguments (x, y, z) where 'x' and 'y'\n",
    "# must be equal-length strings and characters in 'x'\n",
    "# are replaced by characters in 'y'. 'z'\n",
    "# is a string (string.punctuation here)\n",
    "# where each character in the string is mapped\n",
    "# to None\n",
    "translator = str.maketrans('', '', string.punctuation)\n",
    "\n",
    "# This is an alternative that creates a dictionary mapping\n",
    "# of every character from string.punctuation to None (this will\n",
    "# also work)\n",
    "#translator = str.maketrans(dict.fromkeys(string.punctuation))\n",
    "\n",
    "s = 'string with 32= \"punctuation\" inside of it! Does this work? I hope so.'\n",
    "\n",
    "# pass the translator to the string's translate method.\n",
    "print(s.translate(translator))\n"
   ]
  },
  {
   "cell_type": "code",
   "execution_count": 105,
   "metadata": {
    "ExecuteTime": {
     "end_time": "2022-02-14T21:24:10.286977Z",
     "start_time": "2022-02-14T21:24:10.280877Z"
    }
   },
   "outputs": [
    {
     "data": {
      "text/plain": [
       "'string with 32 punctuation inside of it Does this work I hope so'"
      ]
     },
     "execution_count": 105,
     "metadata": {},
     "output_type": "execute_result"
    }
   ],
   "source": [
    "s.translate(str.maketrans({a: None for a in string.punctuation}))"
   ]
  },
  {
   "cell_type": "code",
   "execution_count": 99,
   "metadata": {
    "ExecuteTime": {
     "end_time": "2022-02-14T21:23:36.141344Z",
     "start_time": "2022-02-14T21:23:36.124345Z"
    }
   },
   "outputs": [
    {
     "name": "stdout",
     "output_type": "stream",
     "text": [
      "Mapping table:  {77: 'H', 115: 'l', 116: 'd'}\n",
      "Translation:  Hold\n"
     ]
    }
   ],
   "source": [
    "mystr = 'Most'\n",
    "mapdict = {'M': 'H', 's': 'l', 't':'d'}\n",
    "mappingtbl = mystr.maketrans(mapdict)\n",
    "print('Mapping table: ', mappingtbl)\n",
    "\n",
    "newstr = mystr.translate(mappingtbl)\n",
    "print('Translation: ', newstr)"
   ]
  },
  {
   "cell_type": "code",
   "execution_count": 4,
   "metadata": {
    "ExecuteTime": {
     "end_time": "2022-02-16T22:44:44.588647Z",
     "start_time": "2022-02-16T22:44:44.575647Z"
    }
   },
   "outputs": [],
   "source": [
    "from math import log2,log"
   ]
  },
  {
   "cell_type": "markdown",
   "metadata": {},
   "source": [
    "An octave is a ratio of 2:1 and, in equal temperament, an octave comprises 12 equal semitones. Each semitone therefore has a ratio of $2^{1/12}$ (approximately 1.059). By convention, A4 is often set at 440 Hz"
   ]
  },
  {
   "cell_type": "code",
   "execution_count": 29,
   "metadata": {
    "ExecuteTime": {
     "end_time": "2022-02-16T22:53:52.279476Z",
     "start_time": "2022-02-16T22:53:52.268486Z"
    }
   },
   "outputs": [],
   "source": [
    "def frequency_period(note_number):\n",
    "    frequency = 2**((note_number-69)/12)*440\n",
    "    period = 1000/frequency\n",
    "    return frequency,period\n",
    "    \n",
    "def number_of_octaves(freq1,freq2):\n",
    "    n_0 = log2(freq2/freq1)\n",
    "    return n_0"
   ]
  },
  {
   "cell_type": "code",
   "execution_count": 30,
   "metadata": {
    "ExecuteTime": {
     "end_time": "2022-02-16T22:53:57.542940Z",
     "start_time": "2022-02-16T22:53:57.529958Z"
    }
   },
   "outputs": [
    {
     "data": {
      "text/plain": [
       "0.0833333333333331"
      ]
     },
     "execution_count": 30,
     "metadata": {},
     "output_type": "execute_result"
    }
   ],
   "source": [
    "f1,p1=frequency_period(60)\n",
    "f2,p2=frequency_period(59)\n",
    "n_0 = number_of_octaves(f2,f1)\n",
    "n_0"
   ]
  },
  {
   "cell_type": "markdown",
   "metadata": {
    "ExecuteTime": {
     "end_time": "2022-02-16T22:54:47.592660Z",
     "start_time": "2022-02-16T22:54:47.588659Z"
    }
   },
   "source": [
    "Notes that are one or\n",
    "several octaves away from each other are said to have the same\n",
    "pitch class. Two notes with the same pitch class, even when\n",
    "they are in different octaves, are treated as equivalent within\n",
    "the scope of this experiment."
   ]
  },
  {
   "cell_type": "markdown",
   "metadata": {},
   "source": [
    "A chord is a set of multiple different notes played simultaneously."
   ]
  },
  {
   "cell_type": "markdown",
   "metadata": {},
   "source": [
    "ref:\n",
    "https://github.com/craffel/pretty-midi/blob/main/pretty_midi/utilities.py"
   ]
  },
  {
   "cell_type": "code",
   "execution_count": 34,
   "metadata": {
    "ExecuteTime": {
     "end_time": "2022-02-16T23:09:50.902498Z",
     "start_time": "2022-02-16T23:09:50.889495Z"
    }
   },
   "outputs": [],
   "source": [
    "def key_number_to_key_name(key_number):\n",
    "    \"\"\"Convert a key number to a key string.\n",
    "    Parameters\n",
    "    ----------\n",
    "    key_number : int\n",
    "        Uses pitch classes to represent major and minor keys.\n",
    "        For minor keys, adds a 12 offset.\n",
    "        For example, C major is 0 and C minor is 12.\n",
    "    Returns\n",
    "    -------\n",
    "    key_name : str\n",
    "        Key name in the format ``'(root) (mode)'``, e.g. ``'Gb minor'``.\n",
    "        Gives preference for keys with flats, with the exception of F#, G# and\n",
    "        C# minor.\n",
    "    \"\"\"\n",
    "\n",
    "    if not isinstance(key_number, int):\n",
    "        raise ValueError('`key_number` is not int!')\n",
    "    if not ((key_number >= 0) and (key_number < 24)):\n",
    "        raise ValueError('`key_number` is larger than 24')\n",
    "\n",
    "    # preference to keys with flats\n",
    "    keys = ['C', 'Db', 'D', 'Eb', 'E', 'F', 'Gb',\n",
    "            'G', 'Ab', 'A', 'Bb', 'B']\n",
    "\n",
    "    # circle around 12 pitch classes\n",
    "    key_idx = key_number % 12\n",
    "    mode = key_number // 12\n",
    "\n",
    "    # check if mode is major or minor\n",
    "    if mode == 0:\n",
    "        return keys[key_idx] + ' Major'\n",
    "    elif mode == 1:\n",
    "        # preference to C#, F# and G# minor\n",
    "        if key_idx in [1, 6, 8]:\n",
    "            return keys[key_idx-1] + '# minor'\n",
    "        else:\n",
    "            return keys[key_idx] + ' minor'\n",
    "\n"
   ]
  },
  {
   "cell_type": "code",
   "execution_count": 36,
   "metadata": {
    "ExecuteTime": {
     "end_time": "2022-02-16T23:10:17.487000Z",
     "start_time": "2022-02-16T23:10:17.476999Z"
    }
   },
   "outputs": [
    {
     "data": {
      "text/plain": [
       "'A minor'"
      ]
     },
     "execution_count": 36,
     "metadata": {},
     "output_type": "execute_result"
    }
   ],
   "source": [
    "key_number_to_key_name(21)"
   ]
  },
  {
   "cell_type": "code",
   "execution_count": 37,
   "metadata": {
    "ExecuteTime": {
     "end_time": "2022-02-16T23:11:50.005203Z",
     "start_time": "2022-02-16T23:11:49.989203Z"
    }
   },
   "outputs": [],
   "source": [
    "def note_number_to_name(note_number):\n",
    "    \"\"\"Convert a MIDI note number to its name, in the format\n",
    "    ``'(note)(accidental)(octave number)'`` (e.g. ``'C#4'``).\n",
    "    Parameters\n",
    "    ----------\n",
    "    note_number : int\n",
    "        MIDI note number.  If not an int, it will be rounded.\n",
    "    Returns\n",
    "    -------\n",
    "    note_name : str\n",
    "        Name of the supplied MIDI note number.\n",
    "    Notes\n",
    "    -----    \"\"\"\n",
    "\n",
    "    # Note names within one octave\n",
    "    semis = ['C', 'C#', 'D', 'D#', 'E', 'F', 'F#', 'G', 'G#', 'A', 'A#', 'B']\n",
    "\n",
    "    # Ensure the note is an int\n",
    "    note_number = int(np.round(note_number))\n",
    "\n",
    "    # Get the semitone and the octave, and concatenate to create the name\n",
    "    return semis[note_number % 12] + str(note_number//12 - 1)"
   ]
  },
  {
   "cell_type": "code",
   "execution_count": 91,
   "metadata": {
    "ExecuteTime": {
     "end_time": "2022-02-17T02:43:51.426363Z",
     "start_time": "2022-02-17T02:43:51.415363Z"
    }
   },
   "outputs": [
    {
     "data": {
      "text/plain": [
       "'F#4'"
      ]
     },
     "execution_count": 91,
     "metadata": {},
     "output_type": "execute_result"
    }
   ],
   "source": [
    "note_number_to_name(66)"
   ]
  },
  {
   "cell_type": "code",
   "execution_count": 79,
   "metadata": {
    "ExecuteTime": {
     "end_time": "2022-02-17T00:26:47.393983Z",
     "start_time": "2022-02-17T00:26:47.387909Z"
    }
   },
   "outputs": [
    {
     "data": {
      "text/plain": [
       "4"
      ]
     },
     "execution_count": 79,
     "metadata": {},
     "output_type": "execute_result"
    }
   ],
   "source": [
    "52 % 12"
   ]
  },
  {
   "cell_type": "code",
   "execution_count": 83,
   "metadata": {
    "ExecuteTime": {
     "end_time": "2022-02-17T01:50:26.244287Z",
     "start_time": "2022-02-17T01:50:26.230376Z"
    }
   },
   "outputs": [],
   "source": [
    "df = pd.DataFrame({\"A\":[0,0,4],\"B\":[5,0,7]}, index=[\"a\",\"b\",\"c\"])\n"
   ]
  },
  {
   "cell_type": "code",
   "execution_count": 84,
   "metadata": {
    "ExecuteTime": {
     "end_time": "2022-02-17T01:50:28.829297Z",
     "start_time": "2022-02-17T01:50:28.812217Z"
    }
   },
   "outputs": [
    {
     "data": {
      "text/html": [
       "<div>\n",
       "<style scoped>\n",
       "    .dataframe tbody tr th:only-of-type {\n",
       "        vertical-align: middle;\n",
       "    }\n",
       "\n",
       "    .dataframe tbody tr th {\n",
       "        vertical-align: top;\n",
       "    }\n",
       "\n",
       "    .dataframe thead th {\n",
       "        text-align: right;\n",
       "    }\n",
       "</style>\n",
       "<table border=\"1\" class=\"dataframe\">\n",
       "  <thead>\n",
       "    <tr style=\"text-align: right;\">\n",
       "      <th></th>\n",
       "      <th>A</th>\n",
       "      <th>B</th>\n",
       "    </tr>\n",
       "  </thead>\n",
       "  <tbody>\n",
       "    <tr>\n",
       "      <th>a</th>\n",
       "      <td>0</td>\n",
       "      <td>5</td>\n",
       "    </tr>\n",
       "    <tr>\n",
       "      <th>b</th>\n",
       "      <td>0</td>\n",
       "      <td>0</td>\n",
       "    </tr>\n",
       "    <tr>\n",
       "      <th>c</th>\n",
       "      <td>4</td>\n",
       "      <td>7</td>\n",
       "    </tr>\n",
       "  </tbody>\n",
       "</table>\n",
       "</div>"
      ],
      "text/plain": [
       "   A  B\n",
       "a  0  5\n",
       "b  0  0\n",
       "c  4  7"
      ]
     },
     "execution_count": 84,
     "metadata": {},
     "output_type": "execute_result"
    }
   ],
   "source": [
    "df"
   ]
  },
  {
   "cell_type": "code",
   "execution_count": 87,
   "metadata": {
    "ExecuteTime": {
     "end_time": "2022-02-17T01:52:05.950426Z",
     "start_time": "2022-02-17T01:52:05.930489Z"
    }
   },
   "outputs": [
    {
     "data": {
      "text/html": [
       "<div>\n",
       "<style scoped>\n",
       "    .dataframe tbody tr th:only-of-type {\n",
       "        vertical-align: middle;\n",
       "    }\n",
       "\n",
       "    .dataframe tbody tr th {\n",
       "        vertical-align: top;\n",
       "    }\n",
       "\n",
       "    .dataframe thead th {\n",
       "        text-align: right;\n",
       "    }\n",
       "</style>\n",
       "<table border=\"1\" class=\"dataframe\">\n",
       "  <thead>\n",
       "    <tr style=\"text-align: right;\">\n",
       "      <th></th>\n",
       "      <th>A</th>\n",
       "      <th>B</th>\n",
       "    </tr>\n",
       "  </thead>\n",
       "  <tbody>\n",
       "    <tr>\n",
       "      <th>c</th>\n",
       "      <td>4</td>\n",
       "      <td>7</td>\n",
       "    </tr>\n",
       "  </tbody>\n",
       "</table>\n",
       "</div>"
      ],
      "text/plain": [
       "   A  B\n",
       "c  4  7"
      ]
     },
     "execution_count": 87,
     "metadata": {},
     "output_type": "execute_result"
    }
   ],
   "source": [
    "df[~(df.A==0)]"
   ]
  },
  {
   "cell_type": "code",
   "execution_count": null,
   "metadata": {},
   "outputs": [],
   "source": []
  }
 ],
 "metadata": {
  "kernelspec": {
   "display_name": "Python 3",
   "language": "python",
   "name": "python3"
  },
  "language_info": {
   "codemirror_mode": {
    "name": "ipython",
    "version": 3
   },
   "file_extension": ".py",
   "mimetype": "text/x-python",
   "name": "python",
   "nbconvert_exporter": "python",
   "pygments_lexer": "ipython3",
   "version": "3.8.3"
  },
  "toc": {
   "base_numbering": 1,
   "nav_menu": {},
   "number_sections": true,
   "sideBar": true,
   "skip_h1_title": false,
   "title_cell": "Table of Contents",
   "title_sidebar": "Contents",
   "toc_cell": false,
   "toc_position": {},
   "toc_section_display": true,
   "toc_window_display": false
  },
  "varInspector": {
   "cols": {
    "lenName": 16,
    "lenType": 16,
    "lenVar": 40
   },
   "kernels_config": {
    "python": {
     "delete_cmd_postfix": "",
     "delete_cmd_prefix": "del ",
     "library": "var_list.py",
     "varRefreshCmd": "print(var_dic_list())"
    },
    "r": {
     "delete_cmd_postfix": ") ",
     "delete_cmd_prefix": "rm(",
     "library": "var_list.r",
     "varRefreshCmd": "cat(var_dic_list()) "
    }
   },
   "types_to_exclude": [
    "module",
    "function",
    "builtin_function_or_method",
    "instance",
    "_Feature"
   ],
   "window_display": false
  }
 },
 "nbformat": 4,
 "nbformat_minor": 4
}
