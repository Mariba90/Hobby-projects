{
 "cells": [
  {
   "cell_type": "markdown",
   "metadata": {
    "id": "e_pcUslnAM2g"
   },
   "source": [
    "# Business Analytics"
   ]
  },
  {
   "cell_type": "markdown",
   "metadata": {
    "id": "Ootq0cwnRECc"
   },
   "source": [
    "# Data Description\n",
    "\n",
    "The use case in this fictional example is a B2B vendor with two data sources:\n",
    "<br> A customer accounts data source that has a row for each customer of the vendor, and columns for:\n",
    "*\tthe unique ID assigned to each customer,\n",
    "*\tthe region in which the customer operates, and\n",
    "*\twhether a vendor partner was involved in bringing the customer in\n",
    "\n",
    "<br> A contracts data source that has a row for each deal closed by the vendor, and columns for:\n",
    "\n",
    "*\tthe date on which each deal was closed,\n",
    "*\tthe size of each deal (in thousands ARR),\n",
    "*\tthe length of each deal (in years),\n",
    "*\tthe unique ID assigned to each deal, and\n",
    "*\tthe date on which payment was received\n"
   ]
  },
  {
   "cell_type": "markdown",
   "metadata": {
    "id": "Cz9pNV3V0m64"
   },
   "source": [
    "# Importing"
   ]
  },
  {
   "cell_type": "code",
   "execution_count": null,
   "metadata": {
    "id": "GwXqYerQ0bfN"
   },
   "outputs": [],
   "source": [
    "import pandas as pd\n",
    "import numpy as np\n",
    "from datetime import datetime , timedelta\n",
    "import matplotlib.pyplot as plt\n",
    "import matplotlib as mpl\n",
    "import seaborn as sns\n",
    "from matplotlib.ticker import FormatStrFormatter\n",
    "\n",
    "# pandas .loc warning ignore\n",
    "import warnings\n",
    "warnings.filterwarnings(\"ignore\")"
   ]
  },
  {
   "cell_type": "markdown",
   "metadata": {
    "id": "EgvFbuYG0tZS"
   },
   "source": [
    "# Reading the data"
   ]
  },
  {
   "cell_type": "code",
   "execution_count": null,
   "metadata": {
    "colab": {
     "base_uri": "https://localhost:8080/",
     "height": 270
    },
    "executionInfo": {
     "elapsed": 457,
     "status": "ok",
     "timestamp": 1633614991940,
     "user": {
      "displayName": "Maryam Bagheri",
      "photoUrl": "https://lh3.googleusercontent.com/a-/AOh14Ggv4I2JVoXAIToaYKwI9aY3DT22RUkIgGWMKMsKPQ=s64",
      "userId": "01330817853979047154"
     },
     "user_tz": 300
    },
    "id": "C3zs8lTq0sc-",
    "outputId": "367c3c44-633f-42be-e08c-19f23e65c8ab"
   },
   "outputs": [
    {
     "data": {
      "text/html": [
       "<div>\n",
       "<style scoped>\n",
       "    .dataframe tbody tr th:only-of-type {\n",
       "        vertical-align: middle;\n",
       "    }\n",
       "\n",
       "    .dataframe tbody tr th {\n",
       "        vertical-align: top;\n",
       "    }\n",
       "\n",
       "    .dataframe thead th {\n",
       "        text-align: right;\n",
       "    }\n",
       "</style>\n",
       "<table border=\"1\" class=\"dataframe\">\n",
       "  <thead>\n",
       "    <tr style=\"text-align: right;\">\n",
       "      <th></th>\n",
       "      <th>closingDate</th>\n",
       "      <th>contractSize</th>\n",
       "      <th>contractLength</th>\n",
       "      <th>contractID</th>\n",
       "      <th>paymentDate</th>\n",
       "    </tr>\n",
       "  </thead>\n",
       "  <tbody>\n",
       "    <tr>\n",
       "      <th>0</th>\n",
       "      <td>2013/01/01</td>\n",
       "      <td>70.0</td>\n",
       "      <td>2</td>\n",
       "      <td>DKU-87jss3-0001</td>\n",
       "      <td>2013/04/13</td>\n",
       "    </tr>\n",
       "    <tr>\n",
       "      <th>1</th>\n",
       "      <td>2013/01/02</td>\n",
       "      <td>55.0</td>\n",
       "      <td>2</td>\n",
       "      <td>DKU-cwcx12-0001</td>\n",
       "      <td>2013/04/15</td>\n",
       "    </tr>\n",
       "    <tr>\n",
       "      <th>2</th>\n",
       "      <td>2013/01/02</td>\n",
       "      <td>95.0</td>\n",
       "      <td>1</td>\n",
       "      <td>DKU-xk6z56-0001</td>\n",
       "      <td>2013/05/11</td>\n",
       "    </tr>\n",
       "  </tbody>\n",
       "</table>\n",
       "</div>"
      ],
      "text/plain": [
       "  closingDate  contractSize  contractLength       contractID paymentDate\n",
       "0  2013/01/01          70.0               2  DKU-87jss3-0001  2013/04/13\n",
       "1  2013/01/02          55.0               2  DKU-cwcx12-0001  2013/04/15\n",
       "2  2013/01/02          95.0               1  DKU-xk6z56-0001  2013/05/11"
      ]
     },
     "metadata": {},
     "output_type": "display_data"
    },
    {
     "data": {
      "text/html": [
       "<div>\n",
       "<style scoped>\n",
       "    .dataframe tbody tr th:only-of-type {\n",
       "        vertical-align: middle;\n",
       "    }\n",
       "\n",
       "    .dataframe tbody tr th {\n",
       "        vertical-align: top;\n",
       "    }\n",
       "\n",
       "    .dataframe thead th {\n",
       "        text-align: right;\n",
       "    }\n",
       "</style>\n",
       "<table border=\"1\" class=\"dataframe\">\n",
       "  <thead>\n",
       "    <tr style=\"text-align: right;\">\n",
       "      <th></th>\n",
       "      <th>accountID</th>\n",
       "      <th>region</th>\n",
       "      <th>partnerInvolved</th>\n",
       "    </tr>\n",
       "  </thead>\n",
       "  <tbody>\n",
       "    <tr>\n",
       "      <th>0</th>\n",
       "      <td>j58sge</td>\n",
       "      <td>North America</td>\n",
       "      <td>No</td>\n",
       "    </tr>\n",
       "    <tr>\n",
       "      <th>1</th>\n",
       "      <td>jbsvvx</td>\n",
       "      <td>Africa</td>\n",
       "      <td>Yes</td>\n",
       "    </tr>\n",
       "    <tr>\n",
       "      <th>2</th>\n",
       "      <td>529e88</td>\n",
       "      <td>EMEA</td>\n",
       "      <td>Yes</td>\n",
       "    </tr>\n",
       "  </tbody>\n",
       "</table>\n",
       "</div>"
      ],
      "text/plain": [
       "  accountID         region partnerInvolved\n",
       "0    j58sge  North America              No\n",
       "1    jbsvvx         Africa             Yes\n",
       "2    529e88           EMEA             Yes"
      ]
     },
     "metadata": {},
     "output_type": "display_data"
    }
   ],
   "source": [
    "# if you want to run the code change the path to where data is\n",
    "# define path for data\n",
    "path=''\n",
    "# reading data from specified path\n",
    "accounts = pd.read_csv(path+'accounts.csv')\n",
    "contracts = pd.read_csv(path+'contracts.csv')\n",
    "display(contracts.head(3))\n",
    "display(accounts.head(3))"
   ]
  },
  {
   "cell_type": "markdown",
   "metadata": {
    "id": "g8z83IHX0AQN"
   },
   "source": [
    "# Question 1\n",
    "If payment has not been received within 45 days of the close of a deal, the vendor sends a reminder to the customer.  By region, what is the current (where \"today\" is December 11, 2018) overall value of contracts to be collected that are more than 45 days past close?  More than 90 days?  More than 135 days?  How does this compare to contracts closed in 2017?"
   ]
  },
  {
   "cell_type": "markdown",
   "metadata": {
    "id": "zBfH5ir-2rQ-"
   },
   "source": [
    "## Preprocessing"
   ]
  },
  {
   "cell_type": "markdown",
   "metadata": {
    "id": "I5Qff6553PEr"
   },
   "source": [
    "1. In order to get the overall value of contracts to be collected that are more than $n$ number of days past close as of $Day_i$ at $Region_i$, we first need to merge the the accounts data and contracts data based on $id = accountID$. \n",
    "2. In order to do the above mentioned step, we need split the `contractID` column so we can have the `accountID` from contracts data.\n",
    "\n",
    "3. In order to work with dates, we need to convert the date columns,i.e. `closingDate` and `paymentDate` into datetime format\n",
    "4. We need to add `overalSize` column to the date from multiplying `contractLength` and `contractSize`: <br> $Overal Contract Value = {Contract Length}\\times {Contract Size}$\n",
    "\n",
    "\n"
   ]
  },
  {
   "cell_type": "code",
   "execution_count": null,
   "metadata": {
    "id": "8vrmzX8Q2nVO"
   },
   "outputs": [],
   "source": [
    "# handling contractID \n",
    "# splitting the contractsID column \n",
    "new_contractID_columns = contracts['contractID'].str.split(\"-\", n = 2, expand = True)\n",
    "# adding the accountID, i.e. the middle string from the above split to the contracts data\n",
    "contracts ['accountID'] = new_contractID_columns[1]"
   ]
  },
  {
   "cell_type": "code",
   "execution_count": null,
   "metadata": {
    "id": "6TZ5UH2k2Jy9"
   },
   "outputs": [],
   "source": [
    "# converting `closingDate` and `paymentDate` column format to datetime format\n",
    "contracts['closingDate'] = pd.to_datetime(contracts['closingDate'])\n",
    "contracts['paymentDate'] = pd.to_datetime(contracts['paymentDate'])"
   ]
  },
  {
   "cell_type": "code",
   "execution_count": null,
   "metadata": {
    "id": "7ra9-zemI1dc"
   },
   "outputs": [],
   "source": [
    "# merging contracts data into the accounts data using `accountID` as a key\n",
    "contracts_accounts = pd.merge(accounts, contracts ,on='accountID', how='left')\n",
    "# adding overal size column\n",
    "contracts_accounts['overalSize'] = contracts_accounts['contractLength']*contracts_accounts['contractSize']"
   ]
  },
  {
   "cell_type": "markdown",
   "metadata": {
    "id": "XJ7n-mIHzuaW"
   },
   "source": [
    "## Analysis"
   ]
  },
  {
   "cell_type": "markdown",
   "metadata": {
    "id": "-AvZR-48eJnr"
   },
   "source": [
    "In order to find the regional overal value to be collected as of a certain day we create a function using the following logic: \n",
    "\n",
    "* For 2018, the deals that are $n$ days and more past close from today, i.e. 12/11/2018, are the deals that we have not recieved any payment $n$ days ago and before, which is actually when the `payment_Date` is `null` for those date\n",
    "\n",
    "* for contracts closed in 2017, we look at the last day in 2017 that a deal has been closed, which according to the data is 12/30/2017. So the deals that have been more than $n$ days and before past close from 12/30/2017, are the deals that `payment_Date` is after 12/30/2017. \n",
    "* we might also want to know that how many contracts are $n$ number of days past close exist per region and year"
   ]
  },
  {
   "cell_type": "code",
   "execution_count": null,
   "metadata": {
    "id": "IPf0vRCoy_OW"
   },
   "outputs": [],
   "source": [
    "# this function returns the overal contract value to be collected that are more than n number of days past close from a Day_i \n",
    "def regional_overal_value_not_paid(data,year,n,day):\n",
    "  \"\"\"\n",
    "  n is the number of day that the contract is past close\n",
    "  day is the reference date in datetime format\n",
    "  year is the year that we are looking at\n",
    "  \"\"\"\n",
    "  # finding the closing date of the deal that has been n days past close from a certain day\n",
    "  closing_date = day-timedelta(days = n)\n",
    "  # finding the deals that have to be collected \n",
    "  if year == 2018:\n",
    "    to_be_collected = data [(data.closingDate < closing_date ) &  (data.paymentDate.isnull())]\n",
    "  if year == 2017:\n",
    "    to_be_collected = data [(data.closingDate < closing_date ) &  (data.paymentDate > day)]\n",
    "  # grouping the data on region and sum over `overalSize`\n",
    "  regional_overal_value = to_be_collected.groupby(['region']).sum()['overalSize'].reset_index()\n",
    "  # we might also w\n",
    "  regional_contract_numbers = to_be_collected.groupby(['region']).size().reset_index()\n",
    "  return regional_overal_value,regional_contract_numbers\n"
   ]
  },
  {
   "cell_type": "code",
   "execution_count": null,
   "metadata": {
    "colab": {
     "base_uri": "https://localhost:8080/",
     "height": 1000
    },
    "executionInfo": {
     "elapsed": 622,
     "status": "ok",
     "timestamp": 1633615363427,
     "user": {
      "displayName": "Maryam Bagheri",
      "photoUrl": "https://lh3.googleusercontent.com/a-/AOh14Ggv4I2JVoXAIToaYKwI9aY3DT22RUkIgGWMKMsKPQ=s64",
      "userId": "01330817853979047154"
     },
     "user_tz": 300
    },
    "id": "_ZNmHQEz7tei",
    "outputId": "e0f9873c-7d7b-49e7-c26b-9549b312e1f4"
   },
   "outputs": [
    {
     "name": "stdout",
     "output_type": "stream",
     "text": [
      "\u001b[1mOveral contract values to be collected which are 45 days or more past close:\n"
     ]
    },
    {
     "data": {
      "text/html": [
       "<style  type=\"text/css\" >\n",
       "</style><table id=\"T_3dd3d2d0_2777_11ec_875c_0242ac1c0002\" ><thead>    <tr>        <th class=\"col_heading level0 col0\" >region</th>        <th class=\"col_heading level0 col1\" >overalSize_2018</th>        <th class=\"col_heading level0 col2\" >overalSize_2017</th>    </tr></thead><tbody>\n",
       "                <tr>\n",
       "                                <td id=\"T_3dd3d2d0_2777_11ec_875c_0242ac1c0002row0_col0\" class=\"data row0 col0\" >APAC</td>\n",
       "                        <td id=\"T_3dd3d2d0_2777_11ec_875c_0242ac1c0002row0_col1\" class=\"data row0 col1\" >$7319K</td>\n",
       "                        <td id=\"T_3dd3d2d0_2777_11ec_875c_0242ac1c0002row0_col2\" class=\"data row0 col2\" >$9556K</td>\n",
       "            </tr>\n",
       "            <tr>\n",
       "                                <td id=\"T_3dd3d2d0_2777_11ec_875c_0242ac1c0002row1_col0\" class=\"data row1 col0\" >Africa</td>\n",
       "                        <td id=\"T_3dd3d2d0_2777_11ec_875c_0242ac1c0002row1_col1\" class=\"data row1 col1\" >$1880K</td>\n",
       "                        <td id=\"T_3dd3d2d0_2777_11ec_875c_0242ac1c0002row1_col2\" class=\"data row1 col2\" >$4202K</td>\n",
       "            </tr>\n",
       "            <tr>\n",
       "                                <td id=\"T_3dd3d2d0_2777_11ec_875c_0242ac1c0002row2_col0\" class=\"data row2 col0\" >EMEA</td>\n",
       "                        <td id=\"T_3dd3d2d0_2777_11ec_875c_0242ac1c0002row2_col1\" class=\"data row2 col1\" >$22142K</td>\n",
       "                        <td id=\"T_3dd3d2d0_2777_11ec_875c_0242ac1c0002row2_col2\" class=\"data row2 col2\" >$21609K</td>\n",
       "            </tr>\n",
       "            <tr>\n",
       "                                <td id=\"T_3dd3d2d0_2777_11ec_875c_0242ac1c0002row3_col0\" class=\"data row3 col0\" >Latin America</td>\n",
       "                        <td id=\"T_3dd3d2d0_2777_11ec_875c_0242ac1c0002row3_col1\" class=\"data row3 col1\" >$1225K</td>\n",
       "                        <td id=\"T_3dd3d2d0_2777_11ec_875c_0242ac1c0002row3_col2\" class=\"data row3 col2\" >$2218K</td>\n",
       "            </tr>\n",
       "            <tr>\n",
       "                                <td id=\"T_3dd3d2d0_2777_11ec_875c_0242ac1c0002row4_col0\" class=\"data row4 col0\" >North America</td>\n",
       "                        <td id=\"T_3dd3d2d0_2777_11ec_875c_0242ac1c0002row4_col1\" class=\"data row4 col1\" >$16213K</td>\n",
       "                        <td id=\"T_3dd3d2d0_2777_11ec_875c_0242ac1c0002row4_col2\" class=\"data row4 col2\" >$20389K</td>\n",
       "            </tr>\n",
       "    </tbody></table>"
      ],
      "text/plain": [
       "<pandas.io.formats.style.Styler at 0x7f4b1af2b410>"
      ]
     },
     "metadata": {},
     "output_type": "display_data"
    },
    {
     "data": {
      "image/png": "[encoded data removed]",
      "text/plain": [
       "<Figure size 432x288 with 1 Axes>"
      ]
     },
     "metadata": {
      "needs_background": "light"
     },
     "output_type": "display_data"
    },
    {
     "name": "stdout",
     "output_type": "stream",
     "text": [
      "\u001b[1mThe number of total contracts that are 45 days or more past close:\n"
     ]
    },
    {
     "data": {
      "text/html": [
       "<style  type=\"text/css\" >\n",
       "</style><table id=\"T_3ded9314_2777_11ec_875c_0242ac1c0002\" ><thead>    <tr>        <th class=\"col_heading level0 col0\" >region</th>        <th class=\"col_heading level0 col1\" >0_2018</th>        <th class=\"col_heading level0 col2\" >0_2017</th>    </tr></thead><tbody>\n",
       "                <tr>\n",
       "                                <td id=\"T_3ded9314_2777_11ec_875c_0242ac1c0002row0_col0\" class=\"data row0 col0\" >APAC</td>\n",
       "                        <td id=\"T_3ded9314_2777_11ec_875c_0242ac1c0002row0_col1\" class=\"data row0 col1\" >25</td>\n",
       "                        <td id=\"T_3ded9314_2777_11ec_875c_0242ac1c0002row0_col2\" class=\"data row0 col2\" >36</td>\n",
       "            </tr>\n",
       "            <tr>\n",
       "                                <td id=\"T_3ded9314_2777_11ec_875c_0242ac1c0002row1_col0\" class=\"data row1 col0\" >Africa</td>\n",
       "                        <td id=\"T_3ded9314_2777_11ec_875c_0242ac1c0002row1_col1\" class=\"data row1 col1\" >7</td>\n",
       "                        <td id=\"T_3ded9314_2777_11ec_875c_0242ac1c0002row1_col2\" class=\"data row1 col2\" >17</td>\n",
       "            </tr>\n",
       "            <tr>\n",
       "                                <td id=\"T_3ded9314_2777_11ec_875c_0242ac1c0002row2_col0\" class=\"data row2 col0\" >EMEA</td>\n",
       "                        <td id=\"T_3ded9314_2777_11ec_875c_0242ac1c0002row2_col1\" class=\"data row2 col1\" >50</td>\n",
       "                        <td id=\"T_3ded9314_2777_11ec_875c_0242ac1c0002row2_col2\" class=\"data row2 col2\" >65</td>\n",
       "            </tr>\n",
       "            <tr>\n",
       "                                <td id=\"T_3ded9314_2777_11ec_875c_0242ac1c0002row3_col0\" class=\"data row3 col0\" >Latin America</td>\n",
       "                        <td id=\"T_3ded9314_2777_11ec_875c_0242ac1c0002row3_col1\" class=\"data row3 col1\" >6</td>\n",
       "                        <td id=\"T_3ded9314_2777_11ec_875c_0242ac1c0002row3_col2\" class=\"data row3 col2\" >8</td>\n",
       "            </tr>\n",
       "            <tr>\n",
       "                                <td id=\"T_3ded9314_2777_11ec_875c_0242ac1c0002row4_col0\" class=\"data row4 col0\" >North America</td>\n",
       "                        <td id=\"T_3ded9314_2777_11ec_875c_0242ac1c0002row4_col1\" class=\"data row4 col1\" >40</td>\n",
       "                        <td id=\"T_3ded9314_2777_11ec_875c_0242ac1c0002row4_col2\" class=\"data row4 col2\" >61</td>\n",
       "            </tr>\n",
       "    </tbody></table>"
      ],
      "text/plain": [
       "<pandas.io.formats.style.Styler at 0x7f4b1aed3450>"
      ]
     },
     "metadata": {},
     "output_type": "display_data"
    },
    {
     "name": "stdout",
     "output_type": "stream",
     "text": [
      "\u001b[1mOveral contract values to be collected which are 90 days or more past close:\n"
     ]
    },
    {
     "data": {
      "text/html": [
       "<style  type=\"text/css\" >\n",
       "</style><table id=\"T_3df41f0e_2777_11ec_875c_0242ac1c0002\" ><thead>    <tr>        <th class=\"col_heading level0 col0\" >region</th>        <th class=\"col_heading level0 col1\" >overalSize_2018</th>        <th class=\"col_heading level0 col2\" >overalSize_2017</th>    </tr></thead><tbody>\n",
       "                <tr>\n",
       "                                <td id=\"T_3df41f0e_2777_11ec_875c_0242ac1c0002row0_col0\" class=\"data row0 col0\" >APAC</td>\n",
       "                        <td id=\"T_3df41f0e_2777_11ec_875c_0242ac1c0002row0_col1\" class=\"data row0 col1\" >$991K</td>\n",
       "                        <td id=\"T_3df41f0e_2777_11ec_875c_0242ac1c0002row0_col2\" class=\"data row0 col2\" >$1720K</td>\n",
       "            </tr>\n",
       "            <tr>\n",
       "                                <td id=\"T_3df41f0e_2777_11ec_875c_0242ac1c0002row1_col0\" class=\"data row1 col0\" >Africa</td>\n",
       "                        <td id=\"T_3df41f0e_2777_11ec_875c_0242ac1c0002row1_col1\" class=\"data row1 col1\" >$197K</td>\n",
       "                        <td id=\"T_3df41f0e_2777_11ec_875c_0242ac1c0002row1_col2\" class=\"data row1 col2\" >$174K</td>\n",
       "            </tr>\n",
       "            <tr>\n",
       "                                <td id=\"T_3df41f0e_2777_11ec_875c_0242ac1c0002row2_col0\" class=\"data row2 col0\" >EMEA</td>\n",
       "                        <td id=\"T_3df41f0e_2777_11ec_875c_0242ac1c0002row2_col1\" class=\"data row2 col1\" >$3786K</td>\n",
       "                        <td id=\"T_3df41f0e_2777_11ec_875c_0242ac1c0002row2_col2\" class=\"data row2 col2\" >$5608K</td>\n",
       "            </tr>\n",
       "            <tr>\n",
       "                                <td id=\"T_3df41f0e_2777_11ec_875c_0242ac1c0002row3_col0\" class=\"data row3 col0\" >Latin America</td>\n",
       "                        <td id=\"T_3df41f0e_2777_11ec_875c_0242ac1c0002row3_col1\" class=\"data row3 col1\" >$172K</td>\n",
       "                        <td id=\"T_3df41f0e_2777_11ec_875c_0242ac1c0002row3_col2\" class=\"data row3 col2\" >$nanK</td>\n",
       "            </tr>\n",
       "            <tr>\n",
       "                                <td id=\"T_3df41f0e_2777_11ec_875c_0242ac1c0002row4_col0\" class=\"data row4 col0\" >North America</td>\n",
       "                        <td id=\"T_3df41f0e_2777_11ec_875c_0242ac1c0002row4_col1\" class=\"data row4 col1\" >$3647K</td>\n",
       "                        <td id=\"T_3df41f0e_2777_11ec_875c_0242ac1c0002row4_col2\" class=\"data row4 col2\" >$2471K</td>\n",
       "            </tr>\n",
       "    </tbody></table>"
      ],
      "text/plain": [
       "<pandas.io.formats.style.Styler at 0x7f4b1aedf690>"
      ]
     },
     "metadata": {},
     "output_type": "display_data"
    },
    {
     "data": {
      "image/png": "[encoded data removed]",
      "text/plain": [
       "<Figure size 432x288 with 1 Axes>"
      ]
     },
     "metadata": {
      "needs_background": "light"
     },
     "output_type": "display_data"
    },
    {
     "name": "stdout",
     "output_type": "stream",
     "text": [
      "\u001b[1mThe number of total contracts that are 90 days or more past close:\n"
     ]
    },
    {
     "data": {
      "text/html": [
       "<style  type=\"text/css\" >\n",
       "</style><table id=\"T_3e112586_2777_11ec_875c_0242ac1c0002\" ><thead>    <tr>        <th class=\"col_heading level0 col0\" >region</th>        <th class=\"col_heading level0 col1\" >0_2018</th>        <th class=\"col_heading level0 col2\" >0_2017</th>    </tr></thead><tbody>\n",
       "                <tr>\n",
       "                                <td id=\"T_3e112586_2777_11ec_875c_0242ac1c0002row0_col0\" class=\"data row0 col0\" >APAC</td>\n",
       "                        <td id=\"T_3e112586_2777_11ec_875c_0242ac1c0002row0_col1\" class=\"data row0 col1\" >4</td>\n",
       "                        <td id=\"T_3e112586_2777_11ec_875c_0242ac1c0002row0_col2\" class=\"data row0 col2\" >9</td>\n",
       "            </tr>\n",
       "            <tr>\n",
       "                                <td id=\"T_3e112586_2777_11ec_875c_0242ac1c0002row1_col0\" class=\"data row1 col0\" >Africa</td>\n",
       "                        <td id=\"T_3e112586_2777_11ec_875c_0242ac1c0002row1_col1\" class=\"data row1 col1\" >2</td>\n",
       "                        <td id=\"T_3e112586_2777_11ec_875c_0242ac1c0002row1_col2\" class=\"data row1 col2\" >1</td>\n",
       "            </tr>\n",
       "            <tr>\n",
       "                                <td id=\"T_3e112586_2777_11ec_875c_0242ac1c0002row2_col0\" class=\"data row2 col0\" >EMEA</td>\n",
       "                        <td id=\"T_3e112586_2777_11ec_875c_0242ac1c0002row2_col1\" class=\"data row2 col1\" >7</td>\n",
       "                        <td id=\"T_3e112586_2777_11ec_875c_0242ac1c0002row2_col2\" class=\"data row2 col2\" >11</td>\n",
       "            </tr>\n",
       "            <tr>\n",
       "                                <td id=\"T_3e112586_2777_11ec_875c_0242ac1c0002row3_col0\" class=\"data row3 col0\" >Latin America</td>\n",
       "                        <td id=\"T_3e112586_2777_11ec_875c_0242ac1c0002row3_col1\" class=\"data row3 col1\" >2</td>\n",
       "                        <td id=\"T_3e112586_2777_11ec_875c_0242ac1c0002row3_col2\" class=\"data row3 col2\" >nan</td>\n",
       "            </tr>\n",
       "            <tr>\n",
       "                                <td id=\"T_3e112586_2777_11ec_875c_0242ac1c0002row4_col0\" class=\"data row4 col0\" >North America</td>\n",
       "                        <td id=\"T_3e112586_2777_11ec_875c_0242ac1c0002row4_col1\" class=\"data row4 col1\" >8</td>\n",
       "                        <td id=\"T_3e112586_2777_11ec_875c_0242ac1c0002row4_col2\" class=\"data row4 col2\" >9</td>\n",
       "            </tr>\n",
       "    </tbody></table>"
      ],
      "text/plain": [
       "<pandas.io.formats.style.Styler at 0x7f4b1aeb3110>"
      ]
     },
     "metadata": {},
     "output_type": "display_data"
    },
    {
     "name": "stdout",
     "output_type": "stream",
     "text": [
      "\u001b[1mOveral contract values to be collected which are 135 days or more past close:\n",
      "No contract has been 135 days or more past close as of today,i.e., 12-11-2018\n",
      "No contract has been 135 days or more past close as of 2017-12-30\n"
     ]
    }
   ],
   "source": [
    "# make a list of the n number of days that a deal past close\n",
    "due_days = [ 45, 90, 135]\n",
    "\n",
    "# assuming today's date is 12/11/2018\n",
    "day_2018 = datetime(2018,12,11)\n",
    "# the last day of 2017 according to the data\n",
    "day_2017 = datetime(2017,12,30)\n",
    "# looping over due_days list to find the numbers per region\n",
    "for n in due_days :\n",
    "  # regional overal value to be collected for 2017,2018\n",
    "  regional_overal_value_2018,regional_contract_numbers_2018 = regional_overal_value_not_paid(contracts_accounts,2018,n,day_2018)\n",
    "  regional_overal_value_2017,regional_contract_numbers_2017= regional_overal_value_not_paid(contracts_accounts,2017,n,day_2017)\n",
    "  # merging overal value to be collected of 2017 and 2018\n",
    "  regional_overal_value = pd.merge(regional_overal_value_2018,regional_overal_value_2017,how='outer',on='region',suffixes=('_2018','_2017'))\n",
    "  regional_contract_numbers = pd.merge(regional_contract_numbers_2018,regional_contract_numbers_2017,how='outer',on='region',suffixes=('_2018','_2017'))\n",
    "\n",
    "  # displaying the results \n",
    "  print('\\033[1m'+'Overal contract values to be collected which are '+str(n)+' days or more past close:')\n",
    "  # show a message if there is no value to be collected \n",
    "  if not len(regional_overal_value_2018):\n",
    "    print('No contract has been '+str(n)+' days or more past close as of today,i.e., 12-11-2018')\n",
    "  if not len(regional_overal_value_2017):\n",
    "    print('No contract has been '+str(n)+' days or more past close as of '+day_2017.strftime('%Y-%m-%d'))\n",
    "  # bar chart of overal value to be collected for 2017 and 2018\n",
    "  if len(regional_overal_value_2018) or len(regional_overal_value_2017) :\n",
    "    format_dict = {col_name: '${:1.0f}K' for col_name in regional_overal_value.select_dtypes(float).columns}\n",
    "    display(regional_overal_value.style.format(format_dict).hide_index())\n",
    "    ax = regional_overal_value.plot(x=\"region\", y=['overalSize_2018','overalSize_2017'],\n",
    "                               kind=\"bar\", rot = 45)\n",
    "    ax.set_ylabel('Value')\n",
    "    fmt = lambda x, pos: '${:1.0f}M'.format(x*1e-3, pos)\n",
    "    ax.yaxis.set_major_formatter(mpl.ticker.FuncFormatter(fmt))\n",
    "    ax.set_xlabel('Region')\n",
    "    ax.legend(['2018','2017'])\n",
    "    plt.show()\n",
    "    print('\\033[1m'+'The number of total contracts that are '+str(n)+' days or more past close:')\n",
    "    format_dict = {col_name: '{:1.0f}' for col_name in regional_contract_numbers.select_dtypes(float).columns}\n",
    "    display(regional_contract_numbers.style.format(format_dict).hide_index())\n",
    "\n"
   ]
  },
  {
   "cell_type": "markdown",
   "metadata": {
    "id": "v9-nXTv0H-gk"
   },
   "source": [
    "# Question 2\n",
    "Identify the customers who have churned.  Is there a relationship between churn and whether a partner was involved in bringing the customer to the vendor, or the region in which the customer operates, or the size or length of the contracts the customer has signed with the vendor?"
   ]
  },
  {
   "cell_type": "markdown",
   "metadata": {
    "id": "2WbS9UOrNsBE"
   },
   "source": [
    "## Preprocessing"
   ]
  },
  {
   "cell_type": "markdown",
   "metadata": {
    "id": "G4UCbUSVeAC_"
   },
   "source": [
    "1. In order to find whether a customer has churned or not, we first need to find when the last deal happened for each customer.\n",
    "2. Since, we only want to analyze the churning customer behavior, we only keep the information of the last deal.\n",
    "3. In order to find out which customer has churned, we need to find the end date of the last contract\n",
    "<br> $Contract End Date = Contract Length\\times 365 + Contract Closing Date$\n"
   ]
  },
  {
   "cell_type": "code",
   "execution_count": null,
   "metadata": {
    "id": "_v1QMreLA_cJ"
   },
   "outputs": [],
   "source": [
    "# adding the latest closingDate of each customer to the data\n",
    "contracts_accounts['LatestclosingDate'] = contracts_accounts['closingDate'].groupby(contracts_accounts['accountID']).transform('max')\n",
    "# keeping only the information of the last deal for each customer\n",
    "contracts_accounts_unique = contracts_accounts.loc[contracts_accounts['closingDate']==contracts_accounts['LatestclosingDate'],:]\n",
    "# adding ending contract date\n",
    "contracts_accounts_unique ['endingcontractDate'] = contracts_accounts_unique['contractLength'].apply(lambda x: timedelta(days = x*365))+contracts_accounts_unique['LatestclosingDate']\n"
   ]
  },
  {
   "cell_type": "markdown",
   "metadata": {
    "id": "3JX89tGbg8hT"
   },
   "source": [
    "## Analysis"
   ]
  },
  {
   "cell_type": "markdown",
   "metadata": {
    "id": "eF85ZPS-jhMD"
   },
   "source": [
    "In order to analyze the behavior of churning customers, we need to first lable them, meaning that if the `endingcontractDate` of a customer is before today's date. i.e., `12/11/2018`, they have churned, else , they have not churned.  \n",
    "\n",
    "Then we can compare the churning customers rate for different regions, partner involvement, contract size and contract length, to see if there is any special behavior for churning customers. We can do this by finding the rate of churning customers for diffferent `region`, `partnerInvolved` and `contractLength`. \n",
    "\n",
    "$Churn Rate = \\frac{Lost Customers}{Total Customers}$\n",
    "\n",
    "Please note that, in order to group `contractSize`, we should first bin the `contractSize` column. \n",
    "\n",
    "<br>[0,100K)\n",
    "<br> [100k,200k)\n",
    "<br> [200k,300k)\n",
    "<br> [300k,400k)\n",
    "<br> [400k,500k)\n",
    "<br> [500k,600k)"
   ]
  },
  {
   "cell_type": "code",
   "execution_count": null,
   "metadata": {
    "id": "hchj1ewXhoZB"
   },
   "outputs": [],
   "source": [
    "# adding churned/not_churned labels\n",
    "contracts_accounts_unique.loc[contracts_accounts_unique['endingcontractDate'] < datetime(2018,12,11),'churnedStatus'] = 'churned'\n",
    "contracts_accounts_unique.loc[contracts_accounts_unique['endingcontractDate'] >= datetime(2018,12,11),'churnedStatus'] = 'not_churned'\n",
    "# bin the contractSize\n",
    "cut_labels = ['[0,100K)','[100k,200k)','[200k,300k)','[300k,400k)','[400k,500k)','[500k,600k)']\n",
    "cut_bins = [0, 100, 200, 300, 400 , 500, 600]\n",
    "contracts_accounts_unique['contractSizeBin'] = pd.cut(contracts_accounts_unique['contractSize'], bins=cut_bins, labels=cut_labels)"
   ]
  },
  {
   "cell_type": "code",
   "execution_count": null,
   "metadata": {
    "id": "nsPV4wBPmq2s"
   },
   "outputs": [],
   "source": [
    "# a function to find the churn rate for each attribute\n",
    "def finding_churning_rate(data,attribute_name):\n",
    "  \"\"\"\n",
    "  data : labeled accounts data\n",
    "  attribute_name: the attribute we want to compare the churn rate with\n",
    "  \"\"\"\n",
    "  # seperating churned and not_churned data, in order to find churn rate\n",
    "  churned = data[data['churnedStatus']=='churned']\n",
    "  notchurned = data[data['churnedStatus']=='not_churned']\n",
    "  # group by churnedStatus and attribute\n",
    "  churned_attribute = churned.groupby(['churnedStatus',attribute_name]).size().reset_index()\n",
    "  notchurned_attribute = notchurned.groupby(['churnedStatus',attribute_name]).size().reset_index()\n",
    "  # merging above data \n",
    "  churning_attribute = pd.merge(churned_attribute,notchurned_attribute,how='outer',on=attribute_name,suffixes=('_churned','_notchurned'))\n",
    "  # delete the status column\n",
    "  del churning_attribute['churnedStatus_churned']\n",
    "  del churning_attribute['churnedStatus_notchurned']\n",
    "  # finding the churn rate\n",
    "  churning_attribute ['churningRate'] = churning_attribute ['0_churned']*100/(churning_attribute ['0_churned']+churning_attribute ['0_notchurned'])\n",
    "  return churning_attribute"
   ]
  },
  {
   "cell_type": "code",
   "execution_count": null,
   "metadata": {
    "id": "jHOvPNd9njIW"
   },
   "outputs": [],
   "source": [
    "# finding the churn rate for different partner involvement\n",
    "churning_partnerinvolved = finding_churning_rate(contracts_accounts_unique,'partnerInvolved')\n",
    "# finding the churn rate for different regions\n",
    "churning_region = finding_churning_rate(contracts_accounts_unique,'region')\n",
    "# finding the churn rate for different contract length\n",
    "churning_contractlength = finding_churning_rate(contracts_accounts_unique,'contractLength')\n",
    "# finding the churn rate for different contract size bins\n",
    "churning_contractsize = finding_churning_rate(contracts_accounts_unique,'contractSizeBin')\n"
   ]
  },
  {
   "cell_type": "code",
   "execution_count": null,
   "metadata": {
    "colab": {
     "base_uri": "https://localhost:8080/",
     "height": 162
    },
    "executionInfo": {
     "elapsed": 87,
     "status": "ok",
     "timestamp": 1633615720890,
     "user": {
      "displayName": "Maryam Bagheri",
      "photoUrl": "https://lh3.googleusercontent.com/a-/AOh14Ggv4I2JVoXAIToaYKwI9aY3DT22RUkIgGWMKMsKPQ=s64",
      "userId": "01330817853979047154"
     },
     "user_tz": 300
    },
    "id": "mb1WSX1qoh2X",
    "outputId": "4d1670bb-50bf-4238-9fef-e5c5b36daf3b"
   },
   "outputs": [
    {
     "name": "stdout",
     "output_type": "stream",
     "text": [
      "\u001b[1mCustomer churn rate for different regions\n"
     ]
    },
    {
     "data": {
      "text/html": [
       "<style  type=\"text/css\" >\n",
       "</style><table id=\"T_133205f0_2778_11ec_875c_0242ac1c0002\" ><thead>    <tr>        <th class=\"col_heading level0 col0\" >region</th>        <th class=\"col_heading level0 col1\" >churningRate</th>    </tr></thead><tbody>\n",
       "                <tr>\n",
       "                                <td id=\"T_133205f0_2778_11ec_875c_0242ac1c0002row0_col0\" class=\"data row0 col0\" >APAC</td>\n",
       "                        <td id=\"T_133205f0_2778_11ec_875c_0242ac1c0002row0_col1\" class=\"data row0 col1\" >20.8%</td>\n",
       "            </tr>\n",
       "            <tr>\n",
       "                                <td id=\"T_133205f0_2778_11ec_875c_0242ac1c0002row1_col0\" class=\"data row1 col0\" >Africa</td>\n",
       "                        <td id=\"T_133205f0_2778_11ec_875c_0242ac1c0002row1_col1\" class=\"data row1 col1\" >22.1%</td>\n",
       "            </tr>\n",
       "            <tr>\n",
       "                                <td id=\"T_133205f0_2778_11ec_875c_0242ac1c0002row2_col0\" class=\"data row2 col0\" >EMEA</td>\n",
       "                        <td id=\"T_133205f0_2778_11ec_875c_0242ac1c0002row2_col1\" class=\"data row2 col1\" >17.1%</td>\n",
       "            </tr>\n",
       "            <tr>\n",
       "                                <td id=\"T_133205f0_2778_11ec_875c_0242ac1c0002row3_col0\" class=\"data row3 col0\" >Latin America</td>\n",
       "                        <td id=\"T_133205f0_2778_11ec_875c_0242ac1c0002row3_col1\" class=\"data row3 col1\" >29.2%</td>\n",
       "            </tr>\n",
       "            <tr>\n",
       "                                <td id=\"T_133205f0_2778_11ec_875c_0242ac1c0002row4_col0\" class=\"data row4 col0\" >North America</td>\n",
       "                        <td id=\"T_133205f0_2778_11ec_875c_0242ac1c0002row4_col1\" class=\"data row4 col1\" >18.9%</td>\n",
       "            </tr>\n",
       "    </tbody></table>"
      ],
      "text/plain": [
       "<pandas.io.formats.style.Styler at 0x7f4b1d4bc190>"
      ]
     },
     "metadata": {},
     "output_type": "display_data"
    }
   ],
   "source": [
    "# display the data\n",
    "print('\\033[1m'+'Customer churn rate for different regions')\n",
    "format_dict = {'churningRate': '{:.1f}%'}\n",
    "display(churning_region[['region','churningRate']].style.format(format_dict).hide_index())"
   ]
  },
  {
   "cell_type": "markdown",
   "metadata": {
    "id": "qvpqXR6u6gwm"
   },
   "source": [
    "It seems the churn rate in Latine America is bigger than other region. But the question is how big it is and why?"
   ]
  },
  {
   "cell_type": "code",
   "execution_count": null,
   "metadata": {
    "colab": {
     "base_uri": "https://localhost:8080/",
     "height": 99
    },
    "executionInfo": {
     "elapsed": 84,
     "status": "ok",
     "timestamp": 1633613856960,
     "user": {
      "displayName": "Maryam Bagheri",
      "photoUrl": "https://lh3.googleusercontent.com/a-/AOh14Ggv4I2JVoXAIToaYKwI9aY3DT22RUkIgGWMKMsKPQ=s64",
      "userId": "01330817853979047154"
     },
     "user_tz": 300
    },
    "id": "GhQwQ8Wthpab",
    "outputId": "2351b1d6-b30f-4738-ee46-03ed012dcae1"
   },
   "outputs": [
    {
     "name": "stdout",
     "output_type": "stream",
     "text": [
      "\u001b[1mCustomer churn rate for partner involvement\n"
     ]
    },
    {
     "data": {
      "text/html": [
       "<style  type=\"text/css\" >\n",
       "</style><table id=\"T_bc31c23a_2773_11ec_af49_0242ac1c0002\" ><thead>    <tr>        <th class=\"col_heading level0 col0\" >partnerInvolved</th>        <th class=\"col_heading level0 col1\" >churningRate</th>    </tr></thead><tbody>\n",
       "                <tr>\n",
       "                                <td id=\"T_bc31c23a_2773_11ec_af49_0242ac1c0002row0_col0\" class=\"data row0 col0\" >No</td>\n",
       "                        <td id=\"T_bc31c23a_2773_11ec_af49_0242ac1c0002row0_col1\" class=\"data row0 col1\" >17.7%</td>\n",
       "            </tr>\n",
       "            <tr>\n",
       "                                <td id=\"T_bc31c23a_2773_11ec_af49_0242ac1c0002row1_col0\" class=\"data row1 col0\" >Yes</td>\n",
       "                        <td id=\"T_bc31c23a_2773_11ec_af49_0242ac1c0002row1_col1\" class=\"data row1 col1\" >25.0%</td>\n",
       "            </tr>\n",
       "    </tbody></table>"
      ],
      "text/plain": [
       "<pandas.io.formats.style.Styler at 0x7f9255182150>"
      ]
     },
     "metadata": {},
     "output_type": "display_data"
    }
   ],
   "source": [
    "print('\\033[1m'+'Customer churn rate for partner involvement')\n",
    "# display the data\n",
    "format_dict = {'churningRate': '{:.1f}%'}\n",
    "display(churning_partnerinvolved[['partnerInvolved','churningRate']].style.format(format_dict).hide_index())"
   ]
  },
  {
   "cell_type": "code",
   "execution_count": null,
   "metadata": {
    "colab": {
     "base_uri": "https://localhost:8080/",
     "height": 120
    },
    "executionInfo": {
     "elapsed": 82,
     "status": "ok",
     "timestamp": 1633615723750,
     "user": {
      "displayName": "Maryam Bagheri",
      "photoUrl": "https://lh3.googleusercontent.com/a-/AOh14Ggv4I2JVoXAIToaYKwI9aY3DT22RUkIgGWMKMsKPQ=s64",
      "userId": "01330817853979047154"
     },
     "user_tz": 300
    },
    "id": "TrdZiicO2dgq",
    "outputId": "f1d477f0-82eb-472e-943f-209c6f637650"
   },
   "outputs": [
    {
     "name": "stdout",
     "output_type": "stream",
     "text": [
      "\u001b[1mCustomer churn rate for different contract length\n"
     ]
    },
    {
     "data": {
      "text/html": [
       "<style  type=\"text/css\" >\n",
       "</style><table id=\"T_14e78ed8_2778_11ec_875c_0242ac1c0002\" ><thead>    <tr>        <th class=\"col_heading level0 col0\" >contractLength</th>        <th class=\"col_heading level0 col1\" >churningRate</th>    </tr></thead><tbody>\n",
       "                <tr>\n",
       "                                <td id=\"T_14e78ed8_2778_11ec_875c_0242ac1c0002row0_col0\" class=\"data row0 col0\" >1</td>\n",
       "                        <td id=\"T_14e78ed8_2778_11ec_875c_0242ac1c0002row0_col1\" class=\"data row0 col1\" >40.3%</td>\n",
       "            </tr>\n",
       "            <tr>\n",
       "                                <td id=\"T_14e78ed8_2778_11ec_875c_0242ac1c0002row1_col0\" class=\"data row1 col0\" >2</td>\n",
       "                        <td id=\"T_14e78ed8_2778_11ec_875c_0242ac1c0002row1_col1\" class=\"data row1 col1\" >20.0%</td>\n",
       "            </tr>\n",
       "            <tr>\n",
       "                                <td id=\"T_14e78ed8_2778_11ec_875c_0242ac1c0002row2_col0\" class=\"data row2 col0\" >3</td>\n",
       "                        <td id=\"T_14e78ed8_2778_11ec_875c_0242ac1c0002row2_col1\" class=\"data row2 col1\" >9.7%</td>\n",
       "            </tr>\n",
       "    </tbody></table>"
      ],
      "text/plain": [
       "<pandas.io.formats.style.Styler at 0x7f4b1aeb39d0>"
      ]
     },
     "metadata": {},
     "output_type": "display_data"
    }
   ],
   "source": [
    "print('\\033[1m'+'Customer churn rate for different contract length')\n",
    "# display the data\n",
    "format_dict = {'churningRate': '{:.1f}%'}\n",
    "display(churning_contractlength[['contractLength','churningRate']].style.format(format_dict).hide_index())"
   ]
  },
  {
   "cell_type": "code",
   "execution_count": null,
   "metadata": {
    "colab": {
     "base_uri": "https://localhost:8080/",
     "height": 183
    },
    "executionInfo": {
     "elapsed": 74,
     "status": "ok",
     "timestamp": 1633615725684,
     "user": {
      "displayName": "Maryam Bagheri",
      "photoUrl": "https://lh3.googleusercontent.com/a-/AOh14Ggv4I2JVoXAIToaYKwI9aY3DT22RUkIgGWMKMsKPQ=s64",
      "userId": "01330817853979047154"
     },
     "user_tz": 300
    },
    "id": "AlwcZHHn2n5z",
    "outputId": "ca58992a-d192-477a-98a6-3edf57f46ce7"
   },
   "outputs": [
    {
     "name": "stdout",
     "output_type": "stream",
     "text": [
      "\u001b[1mCustomer churn rate for different contract size\n"
     ]
    },
    {
     "data": {
      "text/html": [
       "<style  type=\"text/css\" >\n",
       "</style><table id=\"T_160f30e0_2778_11ec_875c_0242ac1c0002\" ><thead>    <tr>        <th class=\"col_heading level0 col0\" >contractSizeBin</th>        <th class=\"col_heading level0 col1\" >churningRate</th>    </tr></thead><tbody>\n",
       "                <tr>\n",
       "                                <td id=\"T_160f30e0_2778_11ec_875c_0242ac1c0002row0_col0\" class=\"data row0 col0\" >[0,100K)</td>\n",
       "                        <td id=\"T_160f30e0_2778_11ec_875c_0242ac1c0002row0_col1\" class=\"data row0 col1\" >25.8%</td>\n",
       "            </tr>\n",
       "            <tr>\n",
       "                                <td id=\"T_160f30e0_2778_11ec_875c_0242ac1c0002row1_col0\" class=\"data row1 col0\" >[100k,200k)</td>\n",
       "                        <td id=\"T_160f30e0_2778_11ec_875c_0242ac1c0002row1_col1\" class=\"data row1 col1\" >18.0%</td>\n",
       "            </tr>\n",
       "            <tr>\n",
       "                                <td id=\"T_160f30e0_2778_11ec_875c_0242ac1c0002row2_col0\" class=\"data row2 col0\" >[200k,300k)</td>\n",
       "                        <td id=\"T_160f30e0_2778_11ec_875c_0242ac1c0002row2_col1\" class=\"data row2 col1\" >15.2%</td>\n",
       "            </tr>\n",
       "            <tr>\n",
       "                                <td id=\"T_160f30e0_2778_11ec_875c_0242ac1c0002row3_col0\" class=\"data row3 col0\" >[300k,400k)</td>\n",
       "                        <td id=\"T_160f30e0_2778_11ec_875c_0242ac1c0002row3_col1\" class=\"data row3 col1\" >10.2%</td>\n",
       "            </tr>\n",
       "            <tr>\n",
       "                                <td id=\"T_160f30e0_2778_11ec_875c_0242ac1c0002row4_col0\" class=\"data row4 col0\" >[400k,500k)</td>\n",
       "                        <td id=\"T_160f30e0_2778_11ec_875c_0242ac1c0002row4_col1\" class=\"data row4 col1\" >10.3%</td>\n",
       "            </tr>\n",
       "            <tr>\n",
       "                                <td id=\"T_160f30e0_2778_11ec_875c_0242ac1c0002row5_col0\" class=\"data row5 col0\" >[500k,600k)</td>\n",
       "                        <td id=\"T_160f30e0_2778_11ec_875c_0242ac1c0002row5_col1\" class=\"data row5 col1\" >0.0%</td>\n",
       "            </tr>\n",
       "    </tbody></table>"
      ],
      "text/plain": [
       "<pandas.io.formats.style.Styler at 0x7f4b1ae8b510>"
      ]
     },
     "metadata": {},
     "output_type": "display_data"
    }
   ],
   "source": [
    "print('\\033[1m'+'Customer churn rate for different contract size')\n",
    "# display the data\n",
    "format_dict = {'churningRate': '{:.1f}%'}\n",
    "display(churning_contractsize[['contractSizeBin','churningRate']].style.format(format_dict).hide_index())"
   ]
  },
  {
   "cell_type": "markdown",
   "metadata": {
    "id": "dOw-ou706-SR"
   },
   "source": [
    "The more the length of contract and the size of a contract is, the less likely the customer churns. \n",
    "\n",
    "Since the Latin America has the larger churn rate, we would like to see if it is related to the contract size or contract length. \n",
    "\n"
   ]
  },
  {
   "cell_type": "code",
   "execution_count": null,
   "metadata": {
    "id": "qDU1Cost80Yt"
   },
   "outputs": [],
   "source": [
    "accounts_latinamerica = contracts_accounts_unique[contracts_accounts_unique.region=='Latin America']\n",
    "# finding the churn rate of Latin America for different contract length\n",
    "churning_contractlength_latinamerica = finding_churning_rate(accounts_latinamerica,'contractLength')\n",
    "# finding the churn rate of Latin America for different contract size bins\n",
    "churning_contractsize_latinamerica = finding_churning_rate(accounts_latinamerica,'contractSizeBin')"
   ]
  },
  {
   "cell_type": "code",
   "execution_count": null,
   "metadata": {
    "colab": {
     "base_uri": "https://localhost:8080/",
     "height": 268
    },
    "executionInfo": {
     "elapsed": 83,
     "status": "ok",
     "timestamp": 1633615731366,
     "user": {
      "displayName": "Maryam Bagheri",
      "photoUrl": "https://lh3.googleusercontent.com/a-/AOh14Ggv4I2JVoXAIToaYKwI9aY3DT22RUkIgGWMKMsKPQ=s64",
      "userId": "01330817853979047154"
     },
     "user_tz": 300
    },
    "id": "U9N8bv7d9bMd",
    "outputId": "e8d82f6e-2be1-4f59-b045-c520f7aff788"
   },
   "outputs": [
    {
     "name": "stdout",
     "output_type": "stream",
     "text": [
      "\u001b[1mCustomer churn rate of latin America for different contract size and length\n"
     ]
    },
    {
     "data": {
      "text/html": [
       "<style  type=\"text/css\" >\n",
       "</style><table id=\"T_1970cf3c_2778_11ec_875c_0242ac1c0002\" ><thead>    <tr>        <th class=\"col_heading level0 col0\" >contractLength</th>        <th class=\"col_heading level0 col1\" >churningRate</th>    </tr></thead><tbody>\n",
       "                <tr>\n",
       "                                <td id=\"T_1970cf3c_2778_11ec_875c_0242ac1c0002row0_col0\" class=\"data row0 col0\" >1</td>\n",
       "                        <td id=\"T_1970cf3c_2778_11ec_875c_0242ac1c0002row0_col1\" class=\"data row0 col1\" >46.3%</td>\n",
       "            </tr>\n",
       "            <tr>\n",
       "                                <td id=\"T_1970cf3c_2778_11ec_875c_0242ac1c0002row1_col0\" class=\"data row1 col0\" >2</td>\n",
       "                        <td id=\"T_1970cf3c_2778_11ec_875c_0242ac1c0002row1_col1\" class=\"data row1 col1\" >28.6%</td>\n",
       "            </tr>\n",
       "            <tr>\n",
       "                                <td id=\"T_1970cf3c_2778_11ec_875c_0242ac1c0002row2_col0\" class=\"data row2 col0\" >3</td>\n",
       "                        <td id=\"T_1970cf3c_2778_11ec_875c_0242ac1c0002row2_col1\" class=\"data row2 col1\" >22.0%</td>\n",
       "            </tr>\n",
       "    </tbody></table>"
      ],
      "text/plain": [
       "<pandas.io.formats.style.Styler at 0x7f4b1aea9150>"
      ]
     },
     "metadata": {},
     "output_type": "display_data"
    },
    {
     "data": {
      "text/html": [
       "<style  type=\"text/css\" >\n",
       "</style><table id=\"T_1972b0fe_2778_11ec_875c_0242ac1c0002\" ><thead>    <tr>        <th class=\"col_heading level0 col0\" >contractSizeBin</th>        <th class=\"col_heading level0 col1\" >churningRate</th>    </tr></thead><tbody>\n",
       "                <tr>\n",
       "                                <td id=\"T_1972b0fe_2778_11ec_875c_0242ac1c0002row0_col0\" class=\"data row0 col0\" >[0,100K)</td>\n",
       "                        <td id=\"T_1972b0fe_2778_11ec_875c_0242ac1c0002row0_col1\" class=\"data row0 col1\" >28.9%</td>\n",
       "            </tr>\n",
       "            <tr>\n",
       "                                <td id=\"T_1972b0fe_2778_11ec_875c_0242ac1c0002row1_col0\" class=\"data row1 col0\" >[100k,200k)</td>\n",
       "                        <td id=\"T_1972b0fe_2778_11ec_875c_0242ac1c0002row1_col1\" class=\"data row1 col1\" >32.1%</td>\n",
       "            </tr>\n",
       "            <tr>\n",
       "                                <td id=\"T_1972b0fe_2778_11ec_875c_0242ac1c0002row2_col0\" class=\"data row2 col0\" >[200k,300k)</td>\n",
       "                        <td id=\"T_1972b0fe_2778_11ec_875c_0242ac1c0002row2_col1\" class=\"data row2 col1\" >16.7%</td>\n",
       "            </tr>\n",
       "            <tr>\n",
       "                                <td id=\"T_1972b0fe_2778_11ec_875c_0242ac1c0002row3_col0\" class=\"data row3 col0\" >[300k,400k)</td>\n",
       "                        <td id=\"T_1972b0fe_2778_11ec_875c_0242ac1c0002row3_col1\" class=\"data row3 col1\" >42.9%</td>\n",
       "            </tr>\n",
       "            <tr>\n",
       "                                <td id=\"T_1972b0fe_2778_11ec_875c_0242ac1c0002row4_col0\" class=\"data row4 col0\" >[400k,500k)</td>\n",
       "                        <td id=\"T_1972b0fe_2778_11ec_875c_0242ac1c0002row4_col1\" class=\"data row4 col1\" >0.0%</td>\n",
       "            </tr>\n",
       "            <tr>\n",
       "                                <td id=\"T_1972b0fe_2778_11ec_875c_0242ac1c0002row5_col0\" class=\"data row5 col0\" >[500k,600k)</td>\n",
       "                        <td id=\"T_1972b0fe_2778_11ec_875c_0242ac1c0002row5_col1\" class=\"data row5 col1\" >nan%</td>\n",
       "            </tr>\n",
       "    </tbody></table>"
      ],
      "text/plain": [
       "<pandas.io.formats.style.Styler at 0x7f4b1aea9a50>"
      ]
     },
     "metadata": {},
     "output_type": "display_data"
    }
   ],
   "source": [
    "print('\\033[1m'+'Customer churn rate of latin America for different contract size and length')\n",
    "\n",
    "# display the data\n",
    "format_dict = {'churningRate': '{:.1f}%'}\n",
    "display(churning_contractlength_latinamerica[['contractLength','churningRate']].style.format(format_dict).hide_index())\n",
    "# display the data\n",
    "format_dict = {'churningRate': '{:.1f}%'}\n",
    "display(churning_contractsize_latinamerica[['contractSizeBin','churningRate']].style.format(format_dict).hide_index())"
   ]
  },
  {
   "cell_type": "markdown",
   "metadata": {
    "id": "Gy7K4aF30Fvx"
   },
   "source": [
    "# Future Steps"
   ]
  },
  {
   "cell_type": "markdown",
   "metadata": {
    "id": "3yzVcCOP4mGZ"
   },
   "source": [
    "\n",
    "\n",
    "1.   Question 1:\n",
    "\n",
    "\n",
    "*   Add different number of past close days data to the bar plot, so we can compare the overal contract value of different years and different number of past close days at the same time.\n",
    "*   T-test for 2017, 2018 overal contract value to see if there is a significant difference between different years\n",
    "\n",
    "\n",
    "2.   Question 2:\n",
    "* What is a relation of churning customer with how many times they renewed.\n",
    "* After how many years of renewal, a customer usually churns?\n",
    "* Compare the Churn Rate for different years based on the ending contract date.\n",
    "* How many customers have not renewd right after the previous contract ended.\n",
    "* Find T-test values of churned data and not churned data for different attributes to udnerstand how significant the difference is.\n",
    "\n"
   ]
  },
  {
   "cell_type": "markdown",
   "metadata": {
    "id": "vDMSmdtpxUkB"
   },
   "source": [
    "**Other Insights**: correlation between size and length for churned and not_churned"
   ]
  },
  {
   "cell_type": "code",
   "execution_count": null,
   "metadata": {
    "colab": {
     "base_uri": "https://localhost:8080/"
    },
    "executionInfo": {
     "elapsed": 83,
     "status": "ok",
     "timestamp": 1633615911648,
     "user": {
      "displayName": "Maryam Bagheri",
      "photoUrl": "https://lh3.googleusercontent.com/a-/AOh14Ggv4I2JVoXAIToaYKwI9aY3DT22RUkIgGWMKMsKPQ=s64",
      "userId": "01330817853979047154"
     },
     "user_tz": 300
    },
    "id": "QeCe4RAV4opk",
    "outputId": "478aafc5-5000-4737-bee9-399e3874f309"
   },
   "outputs": [
    {
     "name": "stdout",
     "output_type": "stream",
     "text": [
      "3000 3000\n",
      "6092 3000 6092\n"
     ]
    }
   ],
   "source": [
    "print(len(accounts),accounts.accountID.nunique())\n",
    "print(len(contracts),contracts.accountID.nunique(),contracts.contractID.nunique())\n"
   ]
  },
  {
   "cell_type": "markdown",
   "metadata": {
    "id": "ho8tk4JxzBzx"
   },
   "source": [
    "Compring number of unique accountID and contractID show that on average each customer renewed their contract 2 times."
   ]
  },
  {
   "cell_type": "code",
   "execution_count": null,
   "metadata": {
    "colab": {
     "base_uri": "https://localhost:8080/"
    },
    "executionInfo": {
     "elapsed": 78,
     "status": "ok",
     "timestamp": 1633615914059,
     "user": {
      "displayName": "Maryam Bagheri",
      "photoUrl": "https://lh3.googleusercontent.com/a-/AOh14Ggv4I2JVoXAIToaYKwI9aY3DT22RUkIgGWMKMsKPQ=s64",
      "userId": "01330817853979047154"
     },
     "user_tz": 300
    },
    "id": "pDSJGKWdq-t8",
    "outputId": "9533d66c-cc02-404c-a625-b13c6184d051"
   },
   "outputs": [
    {
     "name": "stdout",
     "output_type": "stream",
     "text": [
      "for non churning customers:\n",
      "                 contractSize  contractLength\n",
      "contractSize        1.000000       -0.064402\n",
      "contractLength     -0.064402        1.000000\n",
      "for churning customers:\n",
      "                 contractSize  contractLength\n",
      "contractSize        1.000000        0.009878\n",
      "contractLength      0.009878        1.000000\n"
     ]
    }
   ],
   "source": [
    "# correlation plot\n",
    "sns.set(style=\"white\")\n",
    "# features to be selected for correlation plot\n",
    "selected_features = ['contractSize','contractLength']\n",
    "# Compute the correlation matrix for non churning customers\n",
    "corr = contracts_accounts_unique[contracts_accounts_unique.churnedStatus=='not_churned'][selected_features] .corr()\n",
    "print('for non churning customers:\\n',corr)\n",
    "# Compute the correlation matrix for churning customers\n",
    "corr = contracts_accounts_unique[contracts_accounts_unique.churnedStatus=='churned'][selected_features] .corr()\n",
    "print('for churning customers:\\n',corr)"
   ]
  },
  {
   "cell_type": "code",
   "execution_count": null,
   "metadata": {
    "colab": {
     "base_uri": "https://localhost:8080/",
     "height": 447
    },
    "executionInfo": {
     "elapsed": 291,
     "status": "ok",
     "timestamp": 1633615916111,
     "user": {
      "displayName": "Maryam Bagheri",
      "photoUrl": "https://lh3.googleusercontent.com/a-/AOh14Ggv4I2JVoXAIToaYKwI9aY3DT22RUkIgGWMKMsKPQ=s64",
      "userId": "01330817853979047154"
     },
     "user_tz": 300
    },
    "id": "VOJP_uoU267Q",
    "outputId": "40923bd6-ed91-40e6-e420-fe7945cad540"
   },
   "outputs": [
    {
     "data": {
      "image/png": "[encoded data removed]",
      "text/plain": [
       "<Figure size 648x504 with 1 Axes>"
      ]
     },
     "metadata": {},
     "output_type": "display_data"
    }
   ],
   "source": [
    "# initializing the plot size\n",
    "fig, ax = plt.subplots(figsize=(9,7))\n",
    "# width of a bar\n",
    "width = 0.3\n",
    "# plotting\n",
    "ax.bar(churning_region['region'], churning_region['churningRate'] , width)\n",
    "ax.set_ylabel('Churn Rate')\n",
    "ax.set_title('Customer churn rate for different regions')\n",
    "fmt = lambda x, pos: '{:.1f}%'.format(x, pos)\n",
    "ax.yaxis.set_major_formatter(mpl.ticker.FuncFormatter(fmt))\n",
    "plt.show()"
   ]
  },
  {
   "cell_type": "code",
   "execution_count": null,
   "metadata": {
    "colab": {
     "base_uri": "https://localhost:8080/",
     "height": 447
    },
    "executionInfo": {
     "elapsed": 263,
     "status": "ok",
     "timestamp": 1633615917914,
     "user": {
      "displayName": "Maryam Bagheri",
      "photoUrl": "https://lh3.googleusercontent.com/a-/AOh14Ggv4I2JVoXAIToaYKwI9aY3DT22RUkIgGWMKMsKPQ=s64",
      "userId": "01330817853979047154"
     },
     "user_tz": 300
    },
    "id": "bTw7QEYw27XE",
    "outputId": "0eb37cc2-6fd0-4316-f65e-68e3188fe719"
   },
   "outputs": [
    {
     "data": {
      "image/png": "[encoded data removed]",
      "text/plain": [
       "<Figure size 648x504 with 1 Axes>"
      ]
     },
     "metadata": {},
     "output_type": "display_data"
    }
   ],
   "source": [
    "# initializing the plot size\n",
    "fig, ax = plt.subplots(figsize=(9,7))\n",
    "# width of a bar\n",
    "width = 0.3\n",
    "# plotting\n",
    "ax.bar(churning_region['region'], churning_region['churningRate'] , width)\n",
    "ax.set_ylabel('Churn Rate')\n",
    "ax.set_title('Customer churn rate for different regions')\n",
    "fmt = lambda x, pos: '{:.1f}%'.format(x, pos)\n",
    "ax.yaxis.set_major_formatter(mpl.ticker.FuncFormatter(fmt))\n",
    "plt.show()"
   ]
  }
 ],
 "metadata": {
  "colab": {
   "authorship_tag": "ABX9TyMs1GItD6C+7VsJm8BvrX2P",
   "collapsed_sections": [],
   "mount_file_id": "1HwQtrYc4U5uDzuEqXG0pyhw-C76dMij2",
   "name": "Olive_assessment.ipynb",
   "provenance": []
  },
  "kernelspec": {
   "display_name": "Python 3",
   "language": "python",
   "name": "python3"
  },
  "language_info": {
   "codemirror_mode": {
    "name": "ipython",
    "version": 3
   },
   "file_extension": ".py",
   "mimetype": "text/x-python",
   "name": "python",
   "nbconvert_exporter": "python",
   "pygments_lexer": "ipython3",
   "version": "3.8.3"
  },
  "toc": {
   "base_numbering": 1,
   "nav_menu": {},
   "number_sections": true,
   "sideBar": true,
   "skip_h1_title": false,
   "title_cell": "Table of Contents",
   "title_sidebar": "Contents",
   "toc_cell": false,
   "toc_position": {},
   "toc_section_display": true,
   "toc_window_display": false
  },
  "varInspector": {
   "cols": {
    "lenName": 16,
    "lenType": 16,
    "lenVar": 40
   },
   "kernels_config": {
    "python": {
     "delete_cmd_postfix": "",
     "delete_cmd_prefix": "del ",
     "library": "var_list.py",
     "varRefreshCmd": "print(var_dic_list())"
    },
    "r": {
     "delete_cmd_postfix": ") ",
     "delete_cmd_prefix": "rm(",
     "library": "var_list.r",
     "varRefreshCmd": "cat(var_dic_list()) "
    }
   },
   "types_to_exclude": [
    "module",
    "function",
    "builtin_function_or_method",
    "instance",
    "_Feature"
   ],
   "window_display": false
  }
 },
 "nbformat": 4,
 "nbformat_minor": 1
}
