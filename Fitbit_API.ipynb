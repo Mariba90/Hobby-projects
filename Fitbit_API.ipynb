{
  "cells": [
    {
      "cell_type": "markdown",
      "metadata": {
        "id": "view-in-github",
        "colab_type": "text"
      },
      "source": [
        "<a href=\"https://colab.research.google.com/github/Mariba90/Hobby-projects/blob/main/Fitbit_API.ipynb\" target=\"_parent\"><img src=\"https://colab.research.google.com/assets/colab-badge.svg\" alt=\"Open In Colab\"/></a>"
      ]
    },
    {
      "cell_type": "markdown",
      "metadata": {
        "id": "gsgCBGyZ3DuG"
      },
      "source": [
        "In order for the Fitbit to authenticate you as a user, i.e. creating a Client ID and Client Secret for you, first you need to \"Register An App\" through https://dev.fitbit.com/apps/new\n",
        "\n",
        "* **OAuth 2.0 Application Type:**\n",
        "Personal\n",
        "* **Redirect URL:**\n",
        "http://127.0.0.1:8080/\n",
        "* **OAuth 2.0: Authorization URI:**\n",
        "https://www.fitbit.com/oauth2/authorize\n",
        "* **OAuth 2.0: Access/Refresh Token Request URI:**\n",
        "https://api.fitbit.com/oauth2/token\n",
        "\n",
        "the rest of the fields are optional.\n",
        "\n",
        "Then you'll need to download and install Fitbit unofficial API (https://github.com/orcasgit/python-fitbit)\n",
        "\n"
      ]
    },
    {
      "cell_type": "code",
      "execution_count": null,
      "metadata": {
        "ExecuteTime": {
          "end_time": "2021-09-30T22:19:59.823591Z",
          "start_time": "2021-09-30T22:19:58.704944Z"
        },
        "scrolled": true,
        "id": "1DBJrxAe3DuI"
      },
      "outputs": [],
      "source": [
        "import sys\n",
        "import os\n",
        "\n",
        "# fitbit API path\n",
        "path_fitbit_api = 'C:\\\\Users\\\\marya\\\\Downloads\\\\python-fitbit-master'\n",
        "\n",
        "# run `pip install CherryPy` in terminal\n",
        "\n",
        "# instead of following step you can put 'gather_keys_oauth2.py' in the same folder as your notebook\n",
        "\n",
        "if path_fitbit_api not in sys.path:\n",
        "    sys.path.append(path_fitbit_api)\n",
        "import gather_keys_oauth2 as Oauth2\n",
        "\n",
        "import fitbit\n",
        "import pandas as pd \n",
        "from datetime import datetime,timedelta"
      ]
    },
    {
      "cell_type": "code",
      "execution_count": null,
      "metadata": {
        "ExecuteTime": {
          "end_time": "2021-09-30T22:20:03.096716Z",
          "start_time": "2021-09-30T22:19:59.958394Z"
        },
        "id": "qMgF2x9d3DuK",
        "outputId": "98982ab1-b9f6-4e9b-a563-546aeca0dbbf"
      },
      "outputs": [
        {
          "name": "stderr",
          "output_type": "stream",
          "text": [
            "[30/Sep/2021:17:19:59] ENGINE Listening for SIGTERM.\n",
            "[30/Sep/2021:17:19:59] ENGINE Bus STARTING\n",
            "CherryPy Checker:\n",
            "The Application mounted at '' has an empty config.\n",
            "\n",
            "[30/Sep/2021:17:19:59] ENGINE Set handler for console events.\n",
            "[30/Sep/2021:17:19:59] ENGINE Started monitor thread 'Autoreloader'.\n",
            "[30/Sep/2021:17:20:00] ENGINE Serving on http://127.0.0.1:8080\n",
            "[30/Sep/2021:17:20:00] ENGINE Bus STARTED\n"
          ]
        },
        {
          "name": "stdout",
          "output_type": "stream",
          "text": [
            "127.0.0.1 - - [30/Sep/2021:17:20:01] \"GET /?code=7447d2c5522b93a4c47bf99e28d8533ddfdb3469&state=uTqN9c7u6bu4tuvVoli9U9F12KMdJU HTTP/1.1\" 200 122 \"\" \"Mozilla/5.0 (Windows NT 10.0; Win64; x64) AppleWebKit/537.36 (KHTML, like Gecko) Chrome/94.0.4606.61 Safari/537.36\"\n"
          ]
        },
        {
          "name": "stderr",
          "output_type": "stream",
          "text": [
            "[30/Sep/2021:17:20:02] ENGINE Bus STOPPING\n",
            "[30/Sep/2021:17:20:03] ENGINE HTTP Server cherrypy._cpwsgi_server.CPWSGIServer(('127.0.0.1', 8080)) shut down\n",
            "[30/Sep/2021:17:20:03] ENGINE Removed handler for console events.\n",
            "[30/Sep/2021:17:20:03] ENGINE Stopped thread 'Autoreloader'.\n",
            "[30/Sep/2021:17:20:03] ENGINE Bus STOPPED\n",
            "[30/Sep/2021:17:20:03] ENGINE Bus EXITING\n",
            "[30/Sep/2021:17:20:03] ENGINE Bus EXITED\n",
            "[30/Sep/2021:17:20:03] ENGINE Waiting for child threads to terminate...\n"
          ]
        }
      ],
      "source": [
        "# the client ID and secret from App Registration \n",
        "\n",
        "CLIENT_ID='....'\n",
        "CLIENT_SECRET='....'\n",
        "server=Oauth2.OAuth2Server(CLIENT_ID, CLIENT_SECRET)\n",
        "server.browser_authorize()\n",
        "ACCESS_TOKEN=str(server.fitbit.client.session.token['access_token'])\n",
        "REFRESH_TOKEN=str(server.fitbit.client.session.token['refresh_token'])\n",
        "auth2_client=fitbit.Fitbit(CLIENT_ID,CLIENT_SECRET,oauth2=True,access_token=ACCESS_TOKEN,refresh_token=REFRESH_TOKEN)"
      ]
    },
    {
      "cell_type": "code",
      "execution_count": null,
      "metadata": {
        "ExecuteTime": {
          "end_time": "2021-09-30T22:20:21.305488Z",
          "start_time": "2021-09-30T22:20:21.123731Z"
        },
        "id": "MCntqpQX3DuL",
        "outputId": "babdf89e-49da-44cf-cd43-36b1a8065cb7"
      },
      "outputs": [
        {
          "data": {
            "text/plain": [
              "{'stages': {'deep': 62, 'light': 203, 'rem': 74, 'wake': 31},\n",
              " 'totalMinutesAsleep': 356,\n",
              " 'totalSleepRecords': 1,\n",
              " 'totalTimeInBed': 370}"
            ]
          },
          "execution_count": 7,
          "metadata": {},
          "output_type": "execute_result"
        }
      ],
      "source": [
        "onedate = datetime(year = 2020, month = 11, day = 10).date().strftime(\"%Y-%m-%d\")\n",
        "sleep_onedate = auth2_client.sleep(date=onedate)\n",
        "sleep_onedate['summary']"
      ]
    },
    {
      "cell_type": "code",
      "execution_count": null,
      "metadata": {
        "ExecuteTime": {
          "end_time": "2021-09-30T22:21:10.757350Z",
          "start_time": "2021-09-30T22:21:10.707351Z"
        },
        "id": "LWjnFHDf3DuM",
        "outputId": "b673ab2c-1a42-4190-c5fc-ff598e256d7f"
      },
      "outputs": [
        {
          "data": {
            "text/html": [
              "<div>\n",
              "<style scoped>\n",
              "    .dataframe tbody tr th:only-of-type {\n",
              "        vertical-align: middle;\n",
              "    }\n",
              "\n",
              "    .dataframe tbody tr th {\n",
              "        vertical-align: top;\n",
              "    }\n",
              "\n",
              "    .dataframe thead th {\n",
              "        text-align: right;\n",
              "    }\n",
              "</style>\n",
              "<table border=\"1\" class=\"dataframe\">\n",
              "  <thead>\n",
              "    <tr style=\"text-align: right;\">\n",
              "      <th></th>\n",
              "      <th>dateTime</th>\n",
              "      <th>value</th>\n",
              "    </tr>\n",
              "  </thead>\n",
              "  <tbody>\n",
              "    <tr>\n",
              "      <th>0</th>\n",
              "      <td>23:54:00</td>\n",
              "      <td>1</td>\n",
              "    </tr>\n",
              "    <tr>\n",
              "      <th>1</th>\n",
              "      <td>23:55:00</td>\n",
              "      <td>1</td>\n",
              "    </tr>\n",
              "    <tr>\n",
              "      <th>2</th>\n",
              "      <td>23:56:00</td>\n",
              "      <td>1</td>\n",
              "    </tr>\n",
              "    <tr>\n",
              "      <th>3</th>\n",
              "      <td>23:57:00</td>\n",
              "      <td>1</td>\n",
              "    </tr>\n",
              "    <tr>\n",
              "      <th>4</th>\n",
              "      <td>23:58:00</td>\n",
              "      <td>1</td>\n",
              "    </tr>\n",
              "    <tr>\n",
              "      <th>...</th>\n",
              "      <td>...</td>\n",
              "      <td>...</td>\n",
              "    </tr>\n",
              "    <tr>\n",
              "      <th>365</th>\n",
              "      <td>05:59:00</td>\n",
              "      <td>1</td>\n",
              "    </tr>\n",
              "    <tr>\n",
              "      <th>366</th>\n",
              "      <td>06:00:00</td>\n",
              "      <td>1</td>\n",
              "    </tr>\n",
              "    <tr>\n",
              "      <th>367</th>\n",
              "      <td>06:01:00</td>\n",
              "      <td>1</td>\n",
              "    </tr>\n",
              "    <tr>\n",
              "      <th>368</th>\n",
              "      <td>06:02:00</td>\n",
              "      <td>1</td>\n",
              "    </tr>\n",
              "    <tr>\n",
              "      <th>369</th>\n",
              "      <td>06:03:00</td>\n",
              "      <td>1</td>\n",
              "    </tr>\n",
              "  </tbody>\n",
              "</table>\n",
              "<p>370 rows × 2 columns</p>\n",
              "</div>"
            ],
            "text/plain": [
              "     dateTime value\n",
              "0    23:54:00     1\n",
              "1    23:55:00     1\n",
              "2    23:56:00     1\n",
              "3    23:57:00     1\n",
              "4    23:58:00     1\n",
              "..        ...   ...\n",
              "365  05:59:00     1\n",
              "366  06:00:00     1\n",
              "367  06:01:00     1\n",
              "368  06:02:00     1\n",
              "369  06:03:00     1\n",
              "\n",
              "[370 rows x 2 columns]"
            ]
          },
          "execution_count": 12,
          "metadata": {},
          "output_type": "execute_result"
        }
      ],
      "source": [
        "pd.DataFrame(sleep_onedate['sleep'][0]['minuteData'])"
      ]
    }
  ],
  "metadata": {
    "kernelspec": {
      "display_name": "Python 3",
      "language": "python",
      "name": "python3"
    },
    "language_info": {
      "codemirror_mode": {
        "name": "ipython",
        "version": 3
      },
      "file_extension": ".py",
      "mimetype": "text/x-python",
      "name": "python",
      "nbconvert_exporter": "python",
      "pygments_lexer": "ipython3",
      "version": "3.8.3"
    },
    "toc": {
      "base_numbering": 1,
      "nav_menu": {},
      "number_sections": true,
      "sideBar": true,
      "skip_h1_title": false,
      "title_cell": "Table of Contents",
      "title_sidebar": "Contents",
      "toc_cell": false,
      "toc_position": {},
      "toc_section_display": true,
      "toc_window_display": false
    },
    "varInspector": {
      "cols": {
        "lenName": 16,
        "lenType": 16,
        "lenVar": 40
      },
      "kernels_config": {
        "python": {
          "delete_cmd_postfix": "",
          "delete_cmd_prefix": "del ",
          "library": "var_list.py",
          "varRefreshCmd": "print(var_dic_list())"
        },
        "r": {
          "delete_cmd_postfix": ") ",
          "delete_cmd_prefix": "rm(",
          "library": "var_list.r",
          "varRefreshCmd": "cat(var_dic_list()) "
        }
      },
      "types_to_exclude": [
        "module",
        "function",
        "builtin_function_or_method",
        "instance",
        "_Feature"
      ],
      "window_display": false
    },
    "colab": {
      "name": "Fitbit_API.ipynb",
      "provenance": [],
      "include_colab_link": true
    }
  },
  "nbformat": 4,
  "nbformat_minor": 0
}